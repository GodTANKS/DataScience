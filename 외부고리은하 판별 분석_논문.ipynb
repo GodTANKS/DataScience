{
 "cells": [
  {
   "cell_type": "markdown",
   "metadata": {
    "id": "JfoOMaMEjLrm"
   },
   "source": [
    "# **데이터 수집 및 탐색**"
   ]
  },
  {
   "cell_type": "markdown",
   "metadata": {},
   "source": [
    "## **데이터 수집**"
   ]
  },
  {
   "cell_type": "markdown",
   "metadata": {},
   "source": [
    "### **패키지 라이브러리 불러오기**"
   ]
  },
  {
   "cell_type": "code",
   "execution_count": null,
   "metadata": {
    "ExecuteTime": {
     "end_time": "2022-09-27T02:48:40.393737Z",
     "start_time": "2022-09-27T02:48:31.154964Z"
    },
    "code_folding": [
     0
    ],
    "run_control": {
     "marked": true
    }
   },
   "outputs": [],
   "source": [
    "# 패키지 라이브러리 불러오기\n",
    "\n",
    "#!pip install photutils\n",
    "#!pip install mpld3\n",
    "\n",
    "%matplotlib notebook\n",
    "from IPython.core.display import display, HTML\n",
    "display(HTML(\"<style>.container { width:97% !important; }</style>\"))\n",
    "\n",
    "from astropy.wcs import WCS\n",
    "from astropy.utils.data import get_pkg_data_filename\n",
    "from astropy.convolution import Gaussian2DKernel, convolve, convolve_fft\n",
    "\n",
    "from regions.core import PixCoord\n",
    "from regions.shapes.circle import CirclePixelRegion\n",
    "\n",
    "from photutils.aperture import EllipticalAperture\n",
    "from photutils.isophote import EllipseGeometry, Ellipse\n",
    "\n",
    "from sklearn.ensemble import RandomForestRegressor\n",
    "from sklearn.model_selection import GridSearchCV\n",
    "\n",
    "import click2label\n",
    "import math\n",
    "import matplotlib\n",
    "import matplotlib.pyplot as plt\n",
    "import matplotlib.patches as patches\n",
    "import pandas as pd\n",
    "import numpy as np"
   ]
  },
  {
   "cell_type": "markdown",
   "metadata": {},
   "source": [
    "### **분석할 데이터 불러오기**"
   ]
  },
  {
   "cell_type": "code",
   "execution_count": null,
   "metadata": {
    "ExecuteTime": {
     "end_time": "2022-09-27T02:54:28.878494Z",
     "start_time": "2022-09-27T02:54:28.871494Z"
    },
    "code_folding": []
   },
   "outputs": [],
   "source": [
    "# 불러올 데이터의 위치 경로 및 분석 결과 일괄 저장 경로 지정\n",
    "'''\n",
    "* C드라이브에 ring_galaxy 라는 이름의 폴더를 만든 후, Github에서 다운 받은 모든 fits파일과 csv 파일을 이 폴더에 저장해 놓아야 함! *\n",
    "* ring_galaxy 라는 폴더 안에 result 라는 이름의 폴더를 만들어야 함! *\n",
    "'''\n",
    "often_path = 'C:\\\\ring_galaxy\\\\' #  고리은하 fits 파일과 csv 파일 불러오는 경로 지정\n",
    "save_path = 'C:\\\\ring_galaxy\\\\result\\\\' # 분석 결과 일괄 저장 경로 지정"
   ]
  },
  {
   "cell_type": "code",
   "execution_count": null,
   "metadata": {
    "ExecuteTime": {
     "end_time": "2022-09-27T02:49:06.395794Z",
     "start_time": "2022-09-27T02:49:03.254604Z"
    },
    "code_folding": [
     0
    ],
    "run_control": {
     "marked": true
    },
    "scrolled": true
   },
   "outputs": [],
   "source": [
    "# 고리은하 csv 파일 불러오기 및 분석할 고리은하 번호 입력\n",
    "\n",
    "pd.set_option('display.max_rows', None)\n",
    "ring_df = pd.read_csv(often_path + 'ring_galaxy.csv') # 고리은하 csv 파일 불러오기 \n",
    "ring_num = int(input('분석하려는 고리은하 번호를 입력하세요.')) # 분석할 고리은하 번호 입력\n",
    "ring = ring_df['object'] == ring_num\n",
    "ring_info = ring_df[ring]\n",
    "display(ring_info) # 선택한 고리은하의 데이터 프레임 정보 출력\n",
    "ring_ra = ring_info['ra'].values[0] # 선택한 고리은하 적경 값\n",
    "ring_dec = ring_info['dec'].values[0] # 선택한 고리은하 적위 값"
   ]
  },
  {
   "cell_type": "code",
   "execution_count": null,
   "metadata": {
    "ExecuteTime": {
     "end_time": "2022-09-27T02:49:08.086424Z",
     "start_time": "2022-09-27T02:49:07.990417Z"
    },
    "code_folding": [
     0
    ],
    "run_control": {
     "marked": true
    }
   },
   "outputs": [],
   "source": [
    "# 각 필터 fits 파일 불러오기\n",
    "\n",
    "from astropy.io import fits\n",
    "u = fits.open(often_path + str(ring_num)+'_u.fits') # u필터 fits 파일 불러오기\n",
    "g = fits.open(often_path + str(ring_num)+'_g.fits') # g필터 fits 파일 불러오기\n",
    "r = fits.open(often_path + str(ring_num)+'_r.fits') # r필터 fits 파일 불러오기\n",
    "i = fits.open(often_path + str(ring_num)+'_i.fits') # i필터 fits 파일 불러오기\n",
    "z = fits.open(often_path + str(ring_num)+'_z.fits') # z필터 fits 파일 불러오기\n",
    "\n",
    "filter = ['u', 'g', 'r', 'i', 'z'] # 필터 모음"
   ]
  },
  {
   "cell_type": "markdown",
   "metadata": {
    "id": "-S77XT9pjlpt"
   },
   "source": [
    "## **데이터 탐색(EDA)**"
   ]
  },
  {
   "cell_type": "markdown",
   "metadata": {},
   "source": [
    "### **데이터 기본 통계 정보**"
   ]
  },
  {
   "cell_type": "code",
   "execution_count": null,
   "metadata": {
    "ExecuteTime": {
     "end_time": "2022-09-27T02:49:13.357605Z",
     "start_time": "2022-09-27T02:49:13.343603Z"
    },
    "code_folding": [
     0
    ],
    "colab": {
     "base_uri": "https://localhost:8080/"
    },
    "id": "c4-sApJp7zE_",
    "outputId": "b7f9f867-f706-461a-cf0f-8bd2bf94bc34",
    "run_control": {
     "marked": true
    }
   },
   "outputs": [],
   "source": [
    "# 각 필터 fits 파일 정보\n",
    "\n",
    "for f in filter:\n",
    "    print(globals()['{}'.format(f) ].info())\n",
    "    print('------------------------------------------------')"
   ]
  },
  {
   "cell_type": "code",
   "execution_count": null,
   "metadata": {
    "ExecuteTime": {
     "end_time": "2022-09-27T02:49:15.172416Z",
     "start_time": "2022-09-27T02:49:14.951482Z"
    },
    "code_folding": [
     0
    ],
    "colab": {
     "base_uri": "https://localhost:8080/"
    },
    "id": "9Iq4Sci47zFB",
    "outputId": "782ff9b7-fee4-44ea-d7b2-dd319ed5bf5f",
    "scrolled": false
   },
   "outputs": [],
   "source": [
    "# 각 필터 fits 파일 헤더, 데이터 상세 정보\n",
    "\n",
    "for f in filter:\n",
    "    globals()['hdr_{}'.format(f) ] = globals()[ '{}'.format(f) ][0].header # 헤더 정보\n",
    "    globals()['dt_{}'.format(f) ] = globals()[ '{}'.format(f) ][0].data # 데이터 정보\n",
    "\n",
    "print(hdr_u)\n",
    "print('--------------------------------------------------')\n",
    "print(dt_u) "
   ]
  },
  {
   "cell_type": "code",
   "execution_count": null,
   "metadata": {
    "ExecuteTime": {
     "end_time": "2022-09-27T02:49:16.237263Z",
     "start_time": "2022-09-27T02:49:15.822598Z"
    },
    "code_folding": []
   },
   "outputs": [],
   "source": [
    "# 각 필터 fits 파일 데이터 통계 정보\n",
    "\n",
    "for f in filter:\n",
    "    print('dt_shape_'+f+':', globals()[ 'dt_{}'.format(f) ].shape) # 행렬\n",
    "    print('dt_min_'+f+':', np.min( globals()[ 'dt_{}'.format(f)])) # 최소값\n",
    "    print('dt_max_'+f+':', np.max( globals()[ 'dt_{}'.format(f)])) # 최대값\n",
    "    print('dt_mean_'+f+':', np.mean( globals()[ 'dt_{}'.format(f)])) # 평균값\n",
    "    print('dt_median_'+f+':', np.median( globals()[ 'dt_{}'.format(f)])) # 중앙값\n",
    "    print('dt_standard deviation_'+f+':', np.std( globals()[ 'dt_{}'.format(f) ])) # 표준준편차값\n",
    "    print('--------------------------------------------')"
   ]
  },
  {
   "cell_type": "markdown",
   "metadata": {
    "id": "m86jVgZmjlKG"
   },
   "source": [
    "### **이미지 시각화**"
   ]
  },
  {
   "cell_type": "code",
   "execution_count": null,
   "metadata": {
    "ExecuteTime": {
     "end_time": "2022-09-27T02:49:38.087594Z",
     "start_time": "2022-09-27T02:49:37.958586Z"
    },
    "code_folding": [
     0
    ],
    "run_control": {
     "marked": false
    }
   },
   "outputs": [],
   "source": [
    "# 각 필터 fits 파일 천체 이미지의 중심 픽셀 및 천문 좌표 정보\n",
    "\n",
    "for f in filter:\n",
    "    globals()[ 'wcs_{}'.format(f) ] = WCS(globals()[ 'hdr_{}'.format(f) ])\n",
    "    print( 'wcs_'+f+':', globals()[ 'wcs_{}'.format(f) ] )\n",
    "    print( '-----------------------------------------' )"
   ]
  },
  {
   "cell_type": "code",
   "execution_count": null,
   "metadata": {
    "ExecuteTime": {
     "end_time": "2022-09-27T02:49:53.880643Z",
     "start_time": "2022-09-27T02:49:53.856637Z"
    },
    "code_folding": [
     0
    ],
    "run_control": {
     "marked": false
    }
   },
   "outputs": [],
   "source": [
    "# 각 필터 fits 파일 관찰 대상의 천문 좌표를 픽셀 좌표로 변경한 정보\n",
    "\n",
    "if ring_num == 1401: # 1401 고리은하의 천문 좌표 -> 픽셀 좌표 변환\n",
    "    for f in filter:\n",
    "        ob_wcs = [213.3, 8.8]\n",
    "        globals()['ob_pix_{}'.format(f)] = [350,1037]\n",
    "        print('ob_pix_'+f+':', globals()['ob_pix_{}'.format(f) ][0], globals()[ 'ob_pix_{}'.format(f) ][1])\n",
    "elif ring_num == 1450: # 1450 고리은하의 천문 좌표 -> 픽셀 좌표 변환\n",
    "    for f in filter:\n",
    "        ob_wcs = [228.3, 5.7]\n",
    "        globals()['ob_pix_{}'.format(f)] = [729, 1124]\n",
    "        print('ob_pix_'+f+':', globals()['ob_pix_{}'.format(f) ][0], globals()[ 'ob_pix_{}'.format(f) ][1])\n",
    "else: # 그 외 모든 고리은하 천문 좌표 -> 픽셀 좌표 변환   \n",
    "    ob_wcs1 = ring_ra \n",
    "    ob_wcs2 = ring_dec\n",
    "    print('ra:', ob_wcs1)\n",
    "    print('dec:', ob_wcs2)\n",
    "    ob_wcs = [ob_wcs1, ob_wcs2]\n",
    "    for f in filter:\n",
    "        globals()['ob_pix_{}'.format(f)] = np.around(globals()['wcs_{}'.format(f)].world_to_pixel_values(ob_wcs[0], ob_wcs[1] )).astype('int32')\n",
    "        print('object_pixel_'+f+':', globals()[ 'ob_pix_{}'.format(f)][0], globals()['ob_pix_{}'.format(f)][1])"
   ]
  },
  {
   "cell_type": "code",
   "execution_count": null,
   "metadata": {
    "ExecuteTime": {
     "end_time": "2022-09-27T02:50:05.257278Z",
     "start_time": "2022-09-27T02:50:03.350571Z"
    },
    "code_folding": [
     0
    ],
    "scrolled": false
   },
   "outputs": [],
   "source": [
    "# 전체 이미지 시각화\n",
    "\n",
    "for f in filter: # 이미지 밝기 백분율\n",
    "    globals()['max_value_{}'.format(f)] = np.percentile(globals()[ 'dt_{}'.format(f) ], 99.8) # 최대갓 백분율\n",
    "    globals()['min_value_{}'.format(f)] = np.percentile(globals()[ 'dt_{}'.format(f) ], 15) # 최솟값 백분율\n",
    "\n",
    "fig = plt.figure(figsize = (20,18)) # 전체 이미지 크기\n",
    "n = 1\n",
    "for f in filter:\n",
    "    ax = fig.add_subplot(4,3,n, projection = wcs_u) # 천문좌표 중심 이미지 시각화\n",
    "    im1 = plt.imshow(globals()['dt_{}'.format(f)], cmap = 'gray_r', vmax = globals()['max_value_{}'.format(f)], vmin = globals()['min_value_{}'.format(f)], origin = 'lower') # 전체 이미지\n",
    "    ax.scatter(ob_wcs[0], ob_wcs[1], transform = ax.get_transform('fk5'), s = 300, edgecolor = 'red', facecolor = 'none', linewidth = 2) # 고리은하 위치 표시\n",
    "    plt.grid(color = 'white', ls = '--') \n",
    "    plt.colorbar(im1) \n",
    "    plt.title(f +'_ra '+str(ob_wcs[0])+', dec '+str(ob_wcs[1])) \n",
    "    \n",
    "    ax = fig.add_subplot(4,3,n+6) # 픽셀 좌표 중심 이미지 시각화\n",
    "    im2 = plt.imshow( globals()['dt_{}'.format(f)], cmap = 'gray_r', vmax = globals()['max_value_{}'.format(f)], vmin = globals()[ 'min_value_{}'.format(f)], origin = 'lower') # 전체 이미지\n",
    "    plt.plot( globals()['ob_pix_{}'.format(f)][0], globals()[ 'ob_pix_{}'.format(f)][1], 'o', ms = 20, mec='red', mfc='none', linewidth=5) # 고리은하 위치 표시\n",
    "    plt.grid(color = 'white', ls = '--') \n",
    "    plt.colorbar(im2) # 컬러바\n",
    "    plt.title(f +'_pix '+str( globals()['ob_pix_{}'.format(f)][0])+', '+str( globals()['ob_pix_{}'.format(f)][1])) \n",
    "    n+=1\n",
    "plt.show()"
   ]
  },
  {
   "cell_type": "markdown",
   "metadata": {
    "id": "ucHFN0OJleYR"
   },
   "source": [
    "# **데이터 전처리 및 정제**"
   ]
  },
  {
   "cell_type": "markdown",
   "metadata": {
    "id": "MZXLRtyklh1J"
   },
   "source": [
    "## **데이터 변환**"
   ]
  },
  {
   "cell_type": "markdown",
   "metadata": {
    "id": "5QEX9nPhlzfy"
   },
   "source": [
    "### **이미지 변환**"
   ]
  },
  {
   "cell_type": "code",
   "execution_count": null,
   "metadata": {
    "ExecuteTime": {
     "end_time": "2022-09-27T02:53:04.312955Z",
     "start_time": "2022-09-27T02:53:03.604114Z"
    },
    "code_folding": [
     0
    ],
    "run_control": {
     "marked": true
    },
    "scrolled": false
   },
   "outputs": [],
   "source": [
    "# 원본 전체 이미지 중 관찰 대상 천체만 포착 및 시각화\n",
    "\n",
    "vmax = 90. \n",
    "vmin = 15. \n",
    "print('max_percetile:', vmax)\n",
    "print('min_percetile:', vmin)\n",
    "\n",
    "fig = plt.figure(figsize = (14,9))\n",
    "n = 1\n",
    "for f in filter:\n",
    "    globals()['max_value_{}_temp'.format(f)] = np.percentile(globals()['dt_{}'.format(f) ], vmax)\n",
    "    globals()['min_value_{}_temp'.format(f)] = np.percentile(globals()['dt_{}'.format(f) ], vmin)\n",
    "    ax = fig.add_subplot( 2,3,n )\n",
    "    plt.imshow(globals()['dt_{}'.format(f)], cmap = 'gray_r', vmax = globals()['max_value_{}'.format(f)], vmin = globals()['min_value_{}'.format(f)], origin = 'lower')\n",
    "    plt.grid(color = 'white', ls = '--')\n",
    "    plt.colorbar()\n",
    "    plt.xlim(globals()['ob_pix_{}'.format(f) ][0]-150, globals()['ob_pix_{}'.format(f) ][0]+150) # 고리은하 중심 x축 300픽셀\n",
    "    plt.ylim(globals()['ob_pix_{}'.format(f) ][1]-150, globals()['ob_pix_{}'.format(f) ][1]+150) # 고리은하 중심 y축 300픽셀\n",
    "    plt.title(f+'_pix '+str(globals()['ob_pix_{}'.format(f)][0])+', '+str(globals()['ob_pix_{}'.format(f)][1]))\n",
    "    n+=1\n",
    "plt.show()"
   ]
  },
  {
   "cell_type": "code",
   "execution_count": null,
   "metadata": {
    "ExecuteTime": {
     "end_time": "2022-09-27T03:43:10.274870Z",
     "start_time": "2022-09-27T03:43:09.624784Z"
    },
    "code_folding": [],
    "run_control": {
     "marked": true
    }
   },
   "outputs": [],
   "source": [
    "# 원본 축소 조절 값 일력 및 결과 통계 수치로 확인 & 시각화\n",
    "\n",
    "all_shape = []    \n",
    "for f in filter:\n",
    "    for i in reversed(range(100,310,10)): # 이미지가 정사각형이 되기 위해 x축과 y축이 같아 질때 까지 짝수 단위로 축소하여 정사각 형 행렬 탐색\n",
    "        globals()['ob_dt_{}'.format(f)] = globals()['dt_{}'.format(f)][globals()['ob_pix_{}'.format(f)][1] - int(i/2) : globals()['ob_pix_{}'.format(f) ][1] + int(i/2), globals()['ob_pix_{}'.format(f)][0] - int(i/2) : globals()['ob_pix_{}'.format(f)][0] + int(i/2)]\n",
    "        if globals()['ob_dt_{}'.format(f)].shape[0] == globals()['ob_dt_{}'.format(f)].shape[1]:\n",
    "            all_shape.append(globals()['ob_dt_{}'.format(f)].shape)\n",
    "            break\n",
    "            \n",
    "shape1 = np.min(all_shape) \n",
    "shape2 = np.min(all_shape)\n",
    "\n",
    "center = [int(shape1/2), int(shape2/2)] # 축소로 바뀐 이미지의 중심 좌표 출력(이미지가 정사각형이니 x축 중심, y축 중심 같음)\n",
    "print('초기 이미지 중심 좌표:', center)\n",
    "    \n",
    "for f in filter: # 탐색된 정사각형 행렬로 이미지 조정\n",
    "    globals()['ob_dt_{}'.format(f)] = globals()['dt_{}'.format(f)][globals()['ob_pix_{}'.format(f)][1] - int(shape1/2) : globals()['ob_pix_{}'.format(f)][1] + int(shape1/2), globals()['ob_pix_{}'.format(f)][0] - int(shape2/2) : globals()['ob_pix_{}'.format(f)][0] + int(shape2/2)] \n",
    "    print('이미지 픽셀 구조_'+f+':', globals()[ 'ob_dt_{}'.format(f) ].shape) \n",
    "        \n",
    "# 원본 축소 변환 결과 시각화\n",
    "vmax = 90.\n",
    "vmin = 15.\n",
    "print('max_percetile:', vmax)\n",
    "print('min_percetile:', vmin)\n",
    "\n",
    "fig = plt.figure(figsize = (14,9))\n",
    "n = 1\n",
    "for f in filter:\n",
    "    globals()['max_value_{}'.format(f)] = np.percentile(globals()['ob_dt_{}'.format(f)], vmax)\n",
    "    globals()['min_value_{}'.format(f)] = np.percentile(globals()['ob_dt_{}'.format(f)], vmin)\n",
    "    ax = fig.add_subplot( 2,3,n )\n",
    "    plt.imshow(globals()['ob_dt_{}'.format(f)], cmap = 'gray_r', vmax = globals()['max_value_{}'.format(f)], vmin = globals()['min_value_{}'.format(f)], origin = 'lower')\n",
    "    plt.plot(center[1], center[0], '+', ms = 10, mec='red', mfc='red', linewidth=2)\n",
    "    plt.grid(color = 'white', ls = '--')\n",
    "    plt.colorbar()\n",
    "    plt.title(f+'_pix '+str(center[0])+', '+str(center[1]))\n",
    "    n+=1\n",
    "plt.show()"
   ]
  },
  {
   "cell_type": "markdown",
   "metadata": {
    "ExecuteTime": {
     "end_time": "2021-09-23T16:36:39.965921Z",
     "start_time": "2021-09-23T16:36:39.958917Z"
    }
   },
   "source": [
    "## **배경 하늘의 밝기 제거**"
   ]
  },
  {
   "cell_type": "markdown",
   "metadata": {},
   "source": [
    "### **배경 하늘 세기 값 추출**"
   ]
  },
  {
   "cell_type": "code",
   "execution_count": null,
   "metadata": {
    "ExecuteTime": {
     "end_time": "2022-09-27T03:50:42.262469Z",
     "start_time": "2022-09-27T03:50:42.232470Z"
    },
    "code_folding": [
     0
    ],
    "run_control": {
     "marked": true
    }
   },
   "outputs": [],
   "source": [
    "# 각 필터를 36개의 구역으로 균등하게 나눠, 평균 값이 가장 적은 5개 구역을 선별, 5개 구역의 평균으로 하늘 값 추정\n",
    "\n",
    "f_1 = 'i'\n",
    "for f in filter:\n",
    "    globals()['partition_{}'.format(f)] = []\n",
    "    globals()['noise_mean_{}'.format(f)] = []\n",
    "\n",
    "n = 1\n",
    "for f in filter:\n",
    "    for j in range(0,6):\n",
    "        for k in range(0,6):\n",
    "            globals()['partition_noise_{}'.format(f)] = globals()['ob_dt_{}'.format(f)][int(shape1/6)*j : int(shape1/6)*(j+1), int(shape2/6)*k : int(shape2/6)*(k+1)]\n",
    "            globals()['partition_noisemean_{}'.format(f)] = np.mean(globals()['partition_noise_{}'.format(f)])\n",
    "            globals()['partition_{}'.format(f)].append(globals()['partition_noise_{}'.format(f)])\n",
    "            globals()['noise_mean_{}'.format(f)].append(globals()['partition_noisemean_{}'.format(f)])\n",
    "            n += 1\n",
    "\n",
    "for f in filter:\n",
    "    globals()['nosie_mean_least5_{}'.format(f)] = np.sort(globals()['noise_mean_{}'.format(f)][0:5])\n",
    "    globals()['sky_nosie_mean_least5_mean_{}'.format(f)] = np.mean(globals()['nosie_mean_least5_{}'.format(f)])\n",
    "    print('5개 구역의 평균 하늘 값_' + f + ':' , globals()['nosie_mean_least5_{}'.format(f)])\n",
    "    print('5개 구역의 평균 하늘 값을 평균화 한 값_' + f + ':', globals()['sky_nosie_mean_least5_mean_{}'.format(f)])\n",
    "    print('------------------------------------------')"
   ]
  },
  {
   "cell_type": "code",
   "execution_count": null,
   "metadata": {
    "ExecuteTime": {
     "end_time": "2022-09-27T03:44:18.278847Z",
     "start_time": "2022-09-27T03:44:17.066747Z"
    },
    "code_folding": [
     0
    ],
    "run_control": {
     "marked": true
    }
   },
   "outputs": [],
   "source": [
    "# I 필터 기준 하늘 값 추출시 제외 영역\n",
    "\n",
    "# 하늘 값 추출시 제외 영역\n",
    "snr = 1.017\n",
    "globals()['exc_ob_{}'.format(f_1)] = np.where( globals() [ 'ob_dt_{}'.format(f_1) ] >= globals()['sky_nosie_mean_least5_mean_{}'.format(f_1)] * snr )\n",
    "print(str(f_1)+' filter 잡음 영역 평균'+'('+str(globals()['sky_nosie_mean_least5_mean_{}'.format(f_1)])+')'+'*SNR'+'('+str(snr)+'):', globals()['sky_nosie_mean_least5_mean_{}'.format(f_1)] * snr )\n",
    "print( '-----------------------------------------' )\n",
    "\n",
    "exc_ob_cor= globals()['exc_ob_{}'.format(f_1)]\n",
    "exc_ob_rad= 10\n",
    "print('제외한 천체(객체)들의 반경(픽셀):', exc_ob_rad)\n",
    "print( '-----------------------------------------' ) \n",
    "        \n",
    "# 하늘 값 추출시 제외 영역 마스크 지정\n",
    "exc_mask_reg = []\n",
    "exc_aperture_reg = []\n",
    "n = 1\n",
    "for j,k in zip(exc_ob_cor[1], exc_ob_cor[0]):\n",
    "    exc_center = PixCoord(j, k)\n",
    "    #print('%d_[x,y,r]:'%n, j, k, exc_ob_rad )\n",
    "    exc_aperture = CirclePixelRegion(exc_center, exc_ob_rad)\n",
    "    exc_mask = exc_aperture.to_mask(mode = 'center')\n",
    "    exc_aperture_reg.append(exc_aperture)\n",
    "    exc_mask_reg.append(exc_mask.bbox)\n",
    "    n += 1\n",
    "\n",
    "vmax = 90.\n",
    "vmin = 15.\n",
    "print('max_percetile:', vmax)\n",
    "print('min_percetile:', vmin)\n",
    "    \n",
    "# 그림\n",
    "fig = plt.figure( figsize = (10,4) )\n",
    "globals()[ 'max_value_{}_temp'.format(f_1) ] = np.percentile( globals()[ 'ob_dt_{}'.format(f_1) ], vmax )\n",
    "globals()[ 'min_value_{}_temp'.format(f_1) ] = np.percentile( globals()[ 'ob_dt_{}'.format(f_1) ], vmin )\n",
    "ax = fig.add_subplot(1,2,1)\n",
    "plt.imshow(globals()['ob_dt_{}'.format(f_1)], cmap = 'gray_r', vmax = globals()['max_value_{}_temp'.format(f_1)], vmin = globals()[ 'min_value_{}_temp'.format(f_1)], origin = 'lower')\n",
    "plt.plot(globals()['exc_ob_{}'.format(f_1)][1], globals()['exc_ob_{}'.format(f_1)][0], 'o', ms = 2, mec='red', mfc='red', linewidth=1)\n",
    "plt.grid(color = 'white', ls = '--')\n",
    "plt.colorbar()\n",
    "plt.title(f_1 + '_exception_region')\n",
    "\n",
    "ax = fig.add_subplot(1,2,2)\n",
    "plt.imshow(globals()['ob_dt_{}'.format(f_1)], cmap = 'gray_r', vmax = globals()['max_value_{}_temp'.format(f_1)], vmin = globals()[ 'min_value_{}_temp'.format(f_1)], origin = 'lower')\n",
    "for m, o in zip(range(len(exc_mask_reg)), range(len(exc_aperture_reg))):\n",
    "    ax.add_artist(exc_mask_reg[m].as_artist(facecolor='none', edgecolor='white', linewidth=2))\n",
    "    ax.add_artist(exc_aperture_reg[o].as_artist(facecolor='none', edgecolor='orange', linewidth=2))  \n",
    "plt.grid(color = 'white', ls = '--')\n",
    "plt.colorbar()\n",
    "plt.title(f_1 + '_exception_region_mask')\n",
    "plt.show()"
   ]
  },
  {
   "cell_type": "markdown",
   "metadata": {},
   "source": [
    "### **천체 밝기 값을 제외함으로써 배경 하늘의 상대적 세기 값 추출**"
   ]
  },
  {
   "cell_type": "code",
   "execution_count": null,
   "metadata": {
    "ExecuteTime": {
     "end_time": "2022-09-27T03:48:47.652002Z",
     "start_time": "2022-09-27T03:48:45.052603Z"
    },
    "code_folding": [
     0
    ]
   },
   "outputs": [],
   "source": [
    "# 하늘 값 평균 추출과 하늘의 상대적 세기 값 추출\n",
    "'''\n",
    "하늘 값 추출 규칙: 1) 하늘 값 추출시 제외영역의 통계값이 nan 값이 아니면, 각 필터의 제외 영역 값을 하늘 값으로 사용\n",
    "하지만 1)에서 nan 값이 발생하면, 2) 각 필터의 5개 구역의 평균 값을 하늘 값으로 사용\n",
    "'''        \n",
    "# 데이터 사본(copy) 생성\n",
    "for f in filter:\n",
    "    globals()['ob_dt_{}_c'.format(f)] = globals()['ob_dt_{}'.format(f)].copy()\n",
    "\n",
    "# 하늘 값 추출시 제외한 영역 0 변환 및 하늘 값 평균\n",
    "for f in filter:\n",
    "    globals()['ob_dt_{}_c'.format(f)] = globals()['ob_dt_{}'.format(f)].copy()\n",
    "    for i in range(len(exc_mask_reg)): \n",
    "        globals()['ob_dt_{}_c'.format(f)][exc_mask_reg[i].iymin : exc_mask_reg[i].iymax + 1, exc_mask_reg[i].ixmin : exc_mask_reg[i].ixmax + 1] = 0.\n",
    "        globals()['sky_{}'.format(f)] = np.mean(np.true_divide(globals()['ob_dt_{}_c'.format(f)].sum(1),(globals()['ob_dt_{}_c'.format(f)]!= 0.).sum(1)))\n",
    "    print('하늘 값_' + f + ':', globals()['sky_{}'.format(f)])\n",
    "print('--------------------------------------')\n",
    "\n",
    "my_skysub_u = []\n",
    "my_skysub_g = []\n",
    "my_skysub_r = []\n",
    "my_skysub_i = []\n",
    "my_skysub_z = []\n",
    "\n",
    "if math.isnan(globals()['sky_{}'.format(f)]) == False:\n",
    "    for f in filter: # 하늘 값 추출시 제외영역의 통계값이 nan 값이 아니면, 각 필터의 제외 영역 값을 하늘 값으로 사용 \n",
    "        globals()['skysub_{}'.format(f)] = (globals()['ob_dt_{}'.format(f)] - globals()['sky_{}'.format(f)]) # 하늘의 상대적 세기 값 = 원본 값 - 하늘 값\n",
    "        print(\"하늘 값 추출시 제외 영역의 통계값이 nan 값이 아니므로 \" + str(f) + \" 필터의 이 값을 하늘 값으로 사용\")\n",
    "else:\n",
    "    for f in filter: # 하늘 값 추출시 제외영역의 통계값이 nan 값이면, 각 필터의 5개 구역의 평균 값을 하늘 값으로 사용\n",
    "        globals()['skysub_{}'.format(f)] = (globals()['ob_dt_{}'.format(f)] - globals()['sky_nosie_mean_least5_mean_{}'.format(f)]) # 하늘의 상대적 세기 값 = 원본 값 - 하늘 값\n",
    "        print(\"하늘 값 추출시 제외 영역의 통계값이 nan 값이므로 \"+ str(f) + \" 필터의 5개 구역의 평균 값을 하늘 값으로 사용\")\n",
    "\n",
    "for f in filter:\n",
    "    if f == 'u':\n",
    "        my_skysub_u.append(np.min(globals()['skysub_{}'.format(f)]))\n",
    "        my_skysub_u.append(np.max(globals()['skysub_{}'.format(f)]))\n",
    "        my_skysub_u.append(np.mean(globals()['skysub_{}'.format(f)]))\n",
    "        my_skysub_u.append(np.median(globals()['skysub_{}'.format(f)]))\n",
    "        my_skysub_u.append(np.std(globals()['skysub_{}'.format(f)]))\n",
    "    elif f == 'g':\n",
    "        my_skysub_g.append(np.min(globals()['skysub_{}'.format(f)]))\n",
    "        my_skysub_g.append(np.max(globals()['skysub_{}'.format(f)]))\n",
    "        my_skysub_g.append(np.mean(globals()['skysub_{}'.format(f)]))\n",
    "        my_skysub_g.append(np.median(globals()['skysub_{}'.format(f)]))\n",
    "        my_skysub_g.append(np.std(globals()['skysub_{}'.format(f)]))\n",
    "    elif f == 'r':\n",
    "        my_skysub_r.append(np.min(globals()['skysub_{}'.format(f)]))\n",
    "        my_skysub_r.append(np.max(globals()['skysub_{}'.format(f)]))\n",
    "        my_skysub_r.append(np.mean(globals()['skysub_{}'.format(f)]))\n",
    "        my_skysub_r.append(np.median(globals()['skysub_{}'.format(f)]))\n",
    "        my_skysub_r.append(np.std(globals()['skysub_{}'.format(f)]))      \n",
    "    elif f == 'i':\n",
    "        my_skysub_i.append(np.min(globals()['skysub_{}'.format(f)]))\n",
    "        my_skysub_i.append(np.max(globals()['skysub_{}'.format(f)]))\n",
    "        my_skysub_i.append(np.mean(globals()['skysub_{}'.format(f)]))\n",
    "        my_skysub_i.append(np.median(globals()['skysub_{}'.format(f)]))\n",
    "        my_skysub_i.append(np.std(globals()['skysub_{}'.format(f)]))\n",
    "    else:\n",
    "        my_skysub_z.append(np.min(globals()['skysub_{}'.format(f)]))\n",
    "        my_skysub_z.append(np.max(globals()['skysub_{}'.format(f)]))\n",
    "        my_skysub_z.append(np.mean(globals()['skysub_{}'.format(f)]))\n",
    "        my_skysub_z.append(np.median(globals()['skysub_{}'.format(f)]))\n",
    "        my_skysub_z.append(np.std(globals()['skysub_{}'.format(f)]))"
   ]
  },
  {
   "cell_type": "code",
   "execution_count": null,
   "metadata": {
    "ExecuteTime": {
     "end_time": "2022-09-27T02:55:07.204516Z",
     "start_time": "2022-09-27T02:55:07.159513Z"
    },
    "code_folding": [
     0
    ]
   },
   "outputs": [],
   "source": [
    "# 하늘의 상대적 세기 값 산출 및 데이터 프레임 변환 및 csv 저장\n",
    "\n",
    "# 하늘의 상대적 세기 값 산출 및 데이터 프레임 변환\n",
    "all_skysub = {\n",
    "    'min' : [my_skysub_u[0], my_skysub_g[0], my_skysub_r[0], my_skysub_i[0], my_skysub_z[0]], # 각 필터별 하늘의 상대적 세기 최소값\n",
    "    'max' : [my_skysub_u[1], my_skysub_g[1], my_skysub_r[1], my_skysub_i[1], my_skysub_z[1]], # 각 필터별 하늘의 상대적 세기 최대값\n",
    "    'mean' : [my_skysub_u[2], my_skysub_g[2], my_skysub_r[2], my_skysub_i[2], my_skysub_z[2]], # 각 필터별 하늘의 상대적 세기 평균값\n",
    "    'median' : [my_skysub_u[3], my_skysub_g[3], my_skysub_r[3], my_skysub_i[3], my_skysub_z[3]], # 각 필터별 하늘의 상대적 세기 중앙값\n",
    "    'stdev' : [my_skysub_u[4], my_skysub_g[4], my_skysub_r[4], my_skysub_i[4], my_skysub_z[4]], # 각 필터별 하늘의 상대적 세기 표준편차값\n",
    "    }\n",
    "columns = ['min', 'max', 'mean', 'median', 'stdev']\n",
    "index = ['u', 'g', 'r', 'i', 'z']\n",
    "skysub_frame = pd.DataFrame(all_skysub, index = index, columns=columns).round(3)\n",
    "skysub_frame.index.name ='filter'\n",
    "display(skysub_frame)\n",
    "\n",
    "# csv 파일 저장\n",
    "save_file_name = str(ring_num)+'_1_skysub.csv'\n",
    "skysub_frame.to_csv(save_path + save_file_name, header=True, index=False)"
   ]
  },
  {
   "cell_type": "code",
   "execution_count": null,
   "metadata": {
    "ExecuteTime": {
     "end_time": "2022-09-27T02:55:10.399433Z",
     "start_time": "2022-09-27T02:55:09.926400Z"
    },
    "code_folding": [
     0
    ]
   },
   "outputs": [],
   "source": [
    "# 하늘값 제거 그림 시각화 \n",
    "\n",
    "vmax = 90.\n",
    "vmin = 15.\n",
    "print('max_percetile:', vmax)\n",
    "print('min_percetile:', vmin)\n",
    "\n",
    "# 그림\n",
    "fig = plt.figure( figsize = (14,9) )  \n",
    "n = 1\n",
    "for f in filter:\n",
    "    globals()['max_value_{}'.format(f)] = np.percentile(globals()['skysub_{}'.format(f)], vmax)\n",
    "    globals()['min_value_{}'.format(f)] = np.percentile(globals()['skysub_{}'.format(f)], vmin)\n",
    "    ax = fig.add_subplot(2,3,n)\n",
    "    plt.imshow(globals()['skysub_{}'.format(f)], cmap = 'gray_r', vmax = globals()['max_value_{}'.format(f)], vmin = globals()['min_value_{}'.format(f)], origin = 'lower')\n",
    "    plt.plot(center[1], center[0], '+', ms = 10, mec='red', mfc='red', linewidth=2)\n",
    "    plt.grid(color = 'white', ls = '--')\n",
    "    plt.colorbar()\n",
    "    plt.title(f + '_sky_sub')\n",
    "    n += 1\n",
    "plt.show()"
   ]
  },
  {
   "cell_type": "markdown",
   "metadata": {},
   "source": [
    "## **데이터 다림질(Smoothing)**"
   ]
  },
  {
   "cell_type": "markdown",
   "metadata": {},
   "source": [
    "### **커털 표준편차와 모드를 사용한 다림질 옵션 조정**"
   ]
  },
  {
   "cell_type": "code",
   "execution_count": null,
   "metadata": {
    "ExecuteTime": {
     "end_time": "2022-09-27T02:56:21.737720Z",
     "start_time": "2022-09-27T02:56:21.695358Z"
    },
    "code_folding": [
     1
    ]
   },
   "outputs": [],
   "source": [
    "# 데이터 다림질 및 그 결과 데이터 프레임 변환 csv로 저장하는 함수 정의\n",
    "def smooting(kernel_stddev = 0.9, kernel_mode = 'center', skysub_u = skysub_u, skysub_g = skysub_g, skysub_r = skysub_r, skysub_i = skysub_i, skysub_z = skysub_z):\n",
    "\n",
    "    # 다림질\n",
    "    kernel = Gaussian2DKernel(kernel_stddev, mode = kernel_mode) #  다림질을 위한 가우시안2D 커널 표준편차 및 모드 지정   \n",
    "    print('Gaussian2DKernel standard deviation:', kernel_stddev) #  다림질을 위한 가우시안2D 커널 표준편차\n",
    "    print('Gaussian2DKernel mode:', kernel_mode) # 다름질을 위한 커널 모드\n",
    "\n",
    "    # 결과\n",
    "    my_smo_u = []\n",
    "    my_smo_g = []\n",
    "    my_smo_r = []\n",
    "    my_smo_i = []\n",
    "    my_smo_z = []\n",
    "\n",
    "    for f in filter:\n",
    "        globals()['smo_{}'.format(f)] = convolve(globals()['skysub_{}'.format(f)], kernel) # 다림질 실행\n",
    "        if f == 'u':\n",
    "            my_smo_u.append(np.min(globals()['smo_{}'.format(f)]))\n",
    "            my_smo_u.append(np.max(globals()['smo_{}'.format(f)]))\n",
    "            my_smo_u.append(np.mean(globals()['smo_{}'.format(f)]))\n",
    "            my_smo_u.append(np.median(globals()['smo_{}'.format(f)]))\n",
    "            my_smo_u.append(np.std(globals()['smo_{}'.format(f)]))\n",
    "        elif f == 'g':\n",
    "            my_smo_g.append(np.min(globals()['smo_{}'.format(f)]))\n",
    "            my_smo_g.append(np.max(globals()['smo_{}'.format(f)]))\n",
    "            my_smo_g.append(np.mean(globals()['smo_{}'.format(f)]))\n",
    "            my_smo_g.append(np.median(globals()['smo_{}'.format(f)]))\n",
    "            my_smo_g.append(np.std(globals()['smo_{}'.format(f)]))\n",
    "        elif f == 'r':\n",
    "            my_smo_r.append(np.min(globals()['smo_{}'.format(f)]))\n",
    "            my_smo_r.append(np.max(globals()['smo_{}'.format(f)]))\n",
    "            my_smo_r.append(np.mean(globals()['smo_{}'.format(f)]))\n",
    "            my_smo_r.append(np.median(globals()['smo_{}'.format(f)]))\n",
    "            my_smo_r.append(np.std(globals()['smo_{}'.format(f)]))\n",
    "        elif f == 'i':\n",
    "            my_smo_i.append(np.min(globals()['smo_{}'.format(f)]))\n",
    "            my_smo_i.append(np.max(globals()['smo_{}'.format(f)]))\n",
    "            my_smo_i.append(np.mean(globals()['smo_{}'.format(f)]))\n",
    "            my_smo_i.append(np.median(globals()['smo_{}'.format(f)]))\n",
    "            my_smo_i.append(np.std(globals()['smo_{}'.format(f)]))\n",
    "        else:\n",
    "            my_smo_z.append(np.min(globals()['smo_{}'.format(f)]))\n",
    "            my_smo_z.append(np.max(globals()['smo_{}'.format(f)]))\n",
    "            my_smo_z.append(np.mean(globals()['smo_{}'.format(f)]))\n",
    "            my_smo_z.append(np.median(globals()['smo_{}'.format(f)]))\n",
    "            my_smo_z.append(np.std(globals()['smo_{}'.format(f)]))\n",
    "     \n",
    "    # 데이터 다림질 값 산출 및 데이터 프레임 변환\n",
    "    all_smo = {\n",
    "        'min' : [my_smo_u[0], my_smo_g[0], my_smo_r[0], my_smo_i[0], my_smo_z[0]], # 각 필터별 다림질 최소값\n",
    "        'max' : [my_smo_u[1], my_smo_g[1], my_smo_r[1], my_smo_i[1], my_smo_z[1]], # 각 필터별 다림질 최대값\n",
    "        'mean' : [my_smo_u[2], my_smo_g[2], my_smo_r[2], my_smo_i[2], my_smo_z[2]], # 각 필터별 다림질 평균값\n",
    "        'median' : [my_smo_u[3], my_smo_g[3], my_smo_r[3], my_smo_i[3], my_smo_z[3]], # 각 필터별 다림질 중앙값\n",
    "        'stdev' : [my_smo_u[4], my_smo_g[4], my_smo_r[4], my_smo_i[4], my_smo_z[4]], # 각 필터별 다림질 표준편차값\n",
    "        }\n",
    "    columns = ['min', 'max', 'mean', 'median', 'stdev']\n",
    "    index = ['u', 'g', 'r', 'i', 'z']\n",
    "    smo_frame = pd.DataFrame(all_smo, index = index, columns=columns).round(3)\n",
    "    smo_frame.index.name ='filter'\n",
    "    display(smo_frame)\n",
    "    \n",
    "    # csv 파일 저장\n",
    "    save_file_name = str(ring_num)+'_2_smo.csv'\n",
    "    smo_frame.to_csv(save_path + save_file_name, header=True, index=False)\n",
    "    \n",
    "    return smo_u, smo_g, smo_r, smo_i, smo_z"
   ]
  },
  {
   "cell_type": "code",
   "execution_count": null,
   "metadata": {
    "ExecuteTime": {
     "end_time": "2022-09-27T02:56:26.187667Z",
     "start_time": "2022-09-27T02:56:24.342359Z"
    },
    "code_folding": []
   },
   "outputs": [],
   "source": [
    "kn_st = float(input(\"다림질의 커널 표준편차 값을 입력하세요.(기본값: 0.9): \") or 0.9) \n",
    "kn_md = str(input(\"다림질의 커널 모드를 입력하세요.(기본값: center): \") or 'center')\n",
    "smo_u, smo_g, smo_r, smo_i, smo_z = smooting(kernel_stddev=kn_st, kernel_mode=kn_md)"
   ]
  },
  {
   "cell_type": "code",
   "execution_count": null,
   "metadata": {
    "ExecuteTime": {
     "end_time": "2022-09-27T02:55:32.061587Z",
     "start_time": "2022-09-27T02:55:31.814568Z"
    },
    "code_folding": [
     0
    ]
   },
   "outputs": [],
   "source": [
    "# 다림질 그림 시각화\n",
    "\n",
    "vmax = 90.\n",
    "vmin = 15.\n",
    "print('max_percetile:', vmax)\n",
    "print('min_percetile:', vmin)\n",
    "\n",
    "# 그림\n",
    "fig = plt.figure( figsize = (14,9) ) \n",
    "n = 1\n",
    "for f in filter:\n",
    "    globals()['max_value_{}'.format(f)] = np.percentile(globals()['smo_{}'.format(f)], vmax)\n",
    "    globals()['min_value_{}'.format(f)] = np.percentile(globals()['smo_{}'.format(f)], vmin)\n",
    "\n",
    "    ax = fig.add_subplot(2,3,n)\n",
    "    plt.imshow(globals()['smo_{}'.format(f)], cmap = 'gray_r', vmax = globals()['max_value_{}'.format(f)], vmin = globals()['min_value_{}'.format(f)], origin = 'lower')\n",
    "    plt.plot(center[1], center[0], '+', ms = 10, mec='red', mfc='red', linewidth=2)\n",
    "    plt.grid(color = 'white', ls = '--')\n",
    "    plt.colorbar()\n",
    "    plt.title(f + '_smoothing')\n",
    "    n += 1\n",
    "plt.show()"
   ]
  },
  {
   "cell_type": "markdown",
   "metadata": {},
   "source": [
    "# **데이터 분석**"
   ]
  },
  {
   "cell_type": "markdown",
   "metadata": {},
   "source": [
    "## **타원 기하학 산출**"
   ]
  },
  {
   "cell_type": "code",
   "execution_count": null,
   "metadata": {
    "ExecuteTime": {
     "end_time": "2022-09-27T03:10:51.194243Z",
     "start_time": "2022-09-27T03:10:51.183241Z"
    },
    "code_folding": [
     1,
     2
    ]
   },
   "outputs": [],
   "source": [
    "# 이미지에 좌표 클릭하는 함수 정의\n",
    "def add_point(event):\n",
    "    if event.inaxes != ax:\n",
    "        return\n",
    "    # button 1: 마우스 좌클릭 시 입력값 획득\n",
    "    if event.button == 1:\n",
    "        x = event.xdata\n",
    "        y = event.ydata\n",
    "        xdata.append(x)\n",
    "        ydata.append(y)\n",
    "        line.set_data(xdata, ydata)\n",
    "        plt.draw()\n",
    "        tx = 'select, x=%.1f, y=%.1f' % (np.around(event.xdata, decimals = 1), np.around(event.ydata, decimals = 1))\n",
    "        text.set_text(tx)\n",
    "    # button 3: 마우스 우클릭 시 기존 입력값 삭제\n",
    "    if event.button == 3:\n",
    "        xdata.pop()\n",
    "        ydata.pop()\n",
    "        line.set_data(xdata, ydata)\n",
    "        plt.draw()\n",
    "        tx = 'delete, x=%.1f, y=%.1f' % (np.around(event.xdata, decimals = 1), np.around(event.ydata, decimals = 1))\n",
    "        text.set_text(tx)\n",
    "    # 마우스 중간버튼 클릭 시 종료하기\n",
    "    if event.button == 2:\n",
    "        plt.disconnect(cid)\n",
    "        plt.close()"
   ]
  },
  {
   "cell_type": "markdown",
   "metadata": {},
   "source": [
    "### **이미지 중심좌표 보정 및 등광도선 설정**"
   ]
  },
  {
   "cell_type": "code",
   "execution_count": null,
   "metadata": {
    "ExecuteTime": {
     "end_time": "2022-09-27T03:10:49.485435Z",
     "start_time": "2022-09-27T03:10:48.791874Z"
    },
    "code_folding": [],
    "run_control": {
     "marked": true
    }
   },
   "outputs": [],
   "source": [
    "# phoutils의 EllipseGeometry로 구해진 각 필터당 정확한 이미지 중심 좌표\n",
    "\n",
    "geometry0 = EllipseGeometry(x0=len(smo_i)/2, y0=len(smo_i)/2, sma=20, eps=0.5, pa=-0.5, fix_center=True, linear_growth=True) # EllipseGeometry의 초기값 지정\n",
    "for f in filter:\n",
    "    print(f)\n",
    "    geometry0.find_center(globals()['smo_{}'.format(f)]) # EllipseGeometry를 통해 이미지의 중심 좌표 찾기"
   ]
  },
  {
   "cell_type": "code",
   "execution_count": null,
   "metadata": {
    "ExecuteTime": {
     "end_time": "2022-09-27T03:11:02.579994Z",
     "start_time": "2022-09-27T03:10:53.429392Z"
    },
    "code_folding": [
     0
    ]
   },
   "outputs": [],
   "source": [
    "# 출력된 정확한 이미지 중심 좌표 임력하기\n",
    "\n",
    "cen_u = [] # u 필터의 정확환 중심 좌표\n",
    "cen_g = [] # g 필터의 정확환 중심 좌표\n",
    "cen_r = [] # r 필터의 정확환 중심 좌표\n",
    "cen_i = [] # i 필터의 정확환 중심 좌표\n",
    "cen_z = [] # z 필터의 정확환 중심 좌표\n",
    "for f in filter:\n",
    "    cen_r1, cen_r2 = map(int, input(\"쉼표(,)를 이용해 정확히 구해진 %s 필터의 중심 좌표(x,y)를 입력하세요.(예:25,25): \"%f).split(',')) \n",
    "    globals()['cen_{}'.format(f)].append(cen_r1)\n",
    "    globals()['cen_{}'.format(f)].append(cen_r2)"
   ]
  },
  {
   "cell_type": "code",
   "execution_count": null,
   "metadata": {
    "ExecuteTime": {
     "end_time": "2022-09-27T03:11:08.320986Z",
     "start_time": "2022-09-27T03:11:04.839037Z"
    },
    "code_folding": []
   },
   "outputs": [],
   "source": [
    "# 등치선 레벨 조정\n",
    "\n",
    "min_per = int(input(\"등치선의 최소 백분위를 입력하세요.(기본값: 89): \") or 89)\n",
    "step_num = int(input(\"등치선의 레벨을 입력하세요.(기본값: 25): \") or 25)\n",
    "max_per = 99.9\n",
    "print('min_percentile:', min_per)\n",
    "print('max_percentile:', max_per)\n",
    "print('step:', step_num) \n",
    "for f in filter:\n",
    "    globals()['levels_{}'.format(f)] = np.linspace(np.percentile(globals()['smo_{}'.format(f)], min_per), np.percentile(globals()['smo_{}'.format(f)], max_per), step_num)"
   ]
  },
  {
   "cell_type": "code",
   "execution_count": null,
   "metadata": {
    "ExecuteTime": {
     "end_time": "2022-09-27T03:11:17.890909Z",
     "start_time": "2022-09-27T03:11:17.111830Z"
    },
    "code_folding": [
     0
    ],
    "run_control": {
     "marked": true
    }
   },
   "outputs": [],
   "source": [
    "# 이미지 등광도선 확인\n",
    "\n",
    "vmax = 90.\n",
    "vmin = 15.\n",
    "\n",
    "for f in filter:\n",
    "    globals()['max_value_{}_temp'.format(f)] = np.percentile( globals()['smo_{}'.format(f)], vmax )\n",
    "    globals()['min_value_{}_temp'.format(f)] = np.percentile( globals()['smo_{}'.format(f)], vmin )\n",
    "    globals()['max_{}'.format(f)] = np.max(globals()['smo_{}'.format(f)])\n",
    "\n",
    "# 그림\n",
    "fig = plt.figure( figsize = (17, 8) )\n",
    "    \n",
    "ax1 = fig.add_subplot(2,4,1)\n",
    "im = plt.imshow(globals()['smo_{}'.format(filter[1])], cmap = 'gray_r', vmax = globals()['max_value_{}_temp'.format(filter[1])], vmin = globals()[ 'min_value_{}_temp'.format(filter[1])], origin = 'lower') #interpolation='nearest'\n",
    "plt.colorbar(im)\n",
    "ct = plt.contour(globals()['smo_{}'.format(filter[1])], levels = globals()['levels_{}'.format(filter[1])], origin = 'lower', colors = 'aqua', linewidths = 1.0)\n",
    "plt.plot(globals()['cen_{}'.format(filter[1])][0], globals()['cen_{}'.format(filter[1])][1], '+', ms = 10, mec='red', mfc='red', linewidth=2)\n",
    "plt.grid(color = 'white', ls = '--')\n",
    "plt.title(filter[1] + '_reg')\n",
    "\n",
    "ax2 = fig.add_subplot(2,4,2)\n",
    "ct = plt.contour(globals()['smo_{}'.format(filter[1])], levels = globals()['levels_{}'.format(filter[1])], origin = 'lower', linewidths = 0.5, colors = 'black') #colors= colors,\n",
    "plt.xlim(globals()['cen_{}'.format(filter[1])][0]-100, globals()['cen_{}'.format(filter[1])][0]+100 )\n",
    "plt.ylim(globals()['cen_{}'.format(filter[1])][1]-100, globals()['cen_{}'.format(filter[1])][1]+100 )\n",
    "plt.plot(globals()['cen_{}'.format(filter[1])][0], globals()['cen_{}'.format(filter[1])][1], '+', ms = 10, mec='red', mfc='red', linewidth=2)\n",
    "plt.grid(color = 'white', ls = '--')\n",
    "plt.title(filter[1] + '_reg, min_per: ' + str(min_per) + ', max_per: ' + str(max_per) + ', step: ' + str(step_num))\n",
    "plt.show()\n",
    "\n",
    "ax3 = fig.add_subplot(2,4,3)\n",
    "im = plt.imshow(globals()['smo_{}'.format(filter[2])], cmap = 'gray_r', vmax = globals()['max_value_{}_temp'.format(filter[2])], vmin = globals()[ 'min_value_{}_temp'.format(filter[2])], origin = 'lower') #interpolation='nearest'\n",
    "plt.colorbar(im)\n",
    "ct = plt.contour(globals()['smo_{}'.format(filter[2])], levels = globals()['levels_{}'.format(filter[2])], origin = 'lower', colors = 'aqua', linewidths = 1.0)\n",
    "plt.plot(globals()['cen_{}'.format(filter[2])][0], globals()['cen_{}'.format(filter[2])][1], '+', ms = 10, mec='red', mfc='red', linewidth=2)\n",
    "plt.grid(color = 'white', ls = '--')\n",
    "plt.title(filter[2] + '_reg')\n",
    "\n",
    "ax4 = fig.add_subplot(2,4,4)\n",
    "ct = plt.contour(globals()['smo_{}'.format(filter[2])], levels = globals()['levels_{}'.format(filter[2])], origin = 'lower', linewidths = 0.5, colors = 'black') #colors= colors,\n",
    "plt.xlim(globals()['cen_{}'.format(filter[2])][0]-100, globals()['cen_{}'.format(filter[2])][0]+100)\n",
    "plt.ylim(globals()['cen_{}'.format(filter[2])][1]-100,  globals()['cen_{}'.format(filter[2])][1]+100 )\n",
    "plt.plot( globals()['cen_{}'.format(filter[2])][0],  globals()['cen_{}'.format(filter[2])][1], '+', ms = 10, mec='red', mfc='red', linewidth=2)\n",
    "plt.grid(color = 'white', ls = '--')\n",
    "plt.title(filter[2] + '_reg, min_per: ' + str(min_per) + ', max_per: ' + str(max_per) + ', step: ' + str(step_num))\n",
    "plt.show()\n",
    "\n",
    "ax5 = fig.add_subplot(2,4,5)\n",
    "im = plt.imshow(globals()['smo_{}'.format(filter[3])], cmap = 'gray_r', vmax = globals()['max_value_{}_temp'.format(filter[3])], vmin = globals()[ 'min_value_{}_temp'.format(filter[3])], origin = 'lower') #interpolation='nearest'\n",
    "plt.colorbar(im)\n",
    "ct = plt.contour(globals()['smo_{}'.format(filter[3])], levels = globals()['levels_{}'.format(filter[3])], origin = 'lower', colors = 'aqua', linewidths = 1.0)\n",
    "plt.plot( globals()['cen_{}'.format(filter[3])][0], globals()['cen_{}'.format(filter[3])][1], '+', ms = 10, mec='red', mfc='red', linewidth=2)\n",
    "plt.grid(color = 'white', ls = '--')\n",
    "plt.title(filter[3] + '_reg')\n",
    "\n",
    "ax6 = fig.add_subplot(2,4,6)\n",
    "ct = plt.contour(globals()['smo_{}'.format(filter[3])], levels = globals()['levels_{}'.format(filter[3])], origin = 'lower', linewidths = 0.5, colors = 'black') #colors= colors,\n",
    "plt.xlim(globals()['cen_{}'.format(filter[3])][0]-100, globals()['cen_{}'.format(filter[3])][0]+100 )\n",
    "plt.ylim(globals()['cen_{}'.format(filter[3])][1]-100, globals()['cen_{}'.format(filter[3])][1]+100 )\n",
    "plt.plot(globals()['cen_{}'.format(filter[3])][0], globals()['cen_{}'.format(filter[3])][1], '+', ms = 10, mec='red', mfc='red', linewidth=2)\n",
    "plt.grid(color = 'white', ls = '--')\n",
    "plt.title(filter[3] + '_reg, min_per: ' + str(min_per) + ', max_per: ' + str(max_per) + ', step: ' + str(step_num))\n",
    "plt.show()\n",
    "\n",
    "ax7 = fig.add_subplot(2,4,7)\n",
    "im = plt.imshow(globals()['smo_{}'.format(filter[4])], cmap = 'gray_r', vmax = globals()['max_value_{}_temp'.format(filter[4])], vmin = globals()[ 'min_value_{}_temp'.format(filter[4])], origin = 'lower') #interpolation='nearest'\n",
    "plt.colorbar(im)\n",
    "ct = plt.contour(globals()['smo_{}'.format(filter[4])], levels = globals()['levels_{}'.format(filter[4])], origin = 'lower', colors = 'aqua', linewidths = 1.0)\n",
    "plt.plot( globals()['cen_{}'.format(filter[4])][0], globals()['cen_{}'.format(filter[4])][1], '+', ms = 10, mec='red', mfc='red', linewidth=2)\n",
    "plt.grid(color = 'white', ls = '--')\n",
    "plt.title(filter[4] + '_reg')\n",
    "\n",
    "ax8 = fig.add_subplot(2,4,8)\n",
    "ct = plt.contour(globals()['smo_{}'.format(filter[4])], levels = globals()['levels_{}'.format(filter[4])], origin = 'lower', linewidths = 0.5, colors = 'black') #colors= colors,\n",
    "plt.xlim(globals()['cen_{}'.format(filter[4])][0]-100, globals()['cen_{}'.format(filter[4])][0]+100 )\n",
    "plt.ylim(globals()['cen_{}'.format(filter[4])][1]-100, globals()['cen_{}'.format(filter[4])][1]+100 )\n",
    "plt.plot(globals()['cen_{}'.format(filter[4])][0], globals()['cen_{}'.format(filter[4])][1], '+', ms = 10, mec='red', mfc='red', linewidth=2)\n",
    "plt.grid(color = 'white', ls = '--')\n",
    "plt.title(filter[4] + '_reg, min_per: ' + str(min_per) + ', max_per: ' + str(max_per) + ', step: ' + str(step_num))\n",
    "plt.show()"
   ]
  },
  {
   "cell_type": "code",
   "execution_count": null,
   "metadata": {
    "ExecuteTime": {
     "end_time": "2022-09-27T03:13:52.921249Z",
     "start_time": "2022-09-27T03:13:52.310773Z"
    },
    "code_folding": [
     0
    ],
    "run_control": {
     "marked": true
    }
   },
   "outputs": [],
   "source": [
    "# 사진 저장\n",
    "\n",
    "save_file_name = str(ring_num)+'_0_selcet_coordinate.jpg'\n",
    "plt.savefig(save_path + save_file_name)"
   ]
  },
  {
   "cell_type": "markdown",
   "metadata": {},
   "source": [
    "### **천체 마스킹 및 추가 다림질 조정**"
   ]
  },
  {
   "cell_type": "code",
   "execution_count": null,
   "metadata": {
    "ExecuteTime": {
     "end_time": "2022-09-27T03:14:51.966861Z",
     "start_time": "2022-09-27T03:14:49.677741Z"
    },
    "code_folding": [
     0,
     7
    ],
    "run_control": {
     "marked": false
    }
   },
   "outputs": [],
   "source": [
    "# 추가로 천체 마스킹 및 다림질 조정\n",
    "\"\"\"\n",
    "1) 추가로 천체 마스킹 및 다림질 조정 -> y(yes) -> 마스킹 좌표, 반경 입력 -> 입력 값이 있을 경우 마스킹 작동, 입력 값이 없으면 마스킹 없이 통과 -> 다림질 옵션 조정 -> 입력 값이 있을 경우 다림질 작동, 입력 없이 없으면 기본값으로 다림질 작동(기존과 동일) -> 변경 완료\n",
    "2) 추가로 천체 마스킹 및 다림질 조정 -> n(no) -> 통과\n",
    "\"\"\"\n",
    "select = str(input('추가로 마스킹 할 천체 영역이 있는가요? y, n: '))\n",
    "print('-------------------------------------------------')    \n",
    "if select == 'y':\n",
    "    mask_ob_cor=[]\n",
    "    mask_ob_rad=[]\n",
    "    n = 1\n",
    "    try:\n",
    "        for i, j, r in zip(range(1,40,2), range(2,41,2), range(1,20,1)):\n",
    "            [globals()['num_{}'.format(i)], globals()['num_{}'.format(j)], globals()['rad_{}'.format(r)]] = map(float, input(\"추가 천체 제거를 위해, 콤마(,)를 이용해 %d번째 마스크 하려는 영역의 중심 좌표(x,y)와 반경(r)을 0 보다 큰 수로 순서대로 입력하세요.(예:25,25,5) 그만 두려면 아무키나 입력하세요.: \"%n).split(','))\n",
    "            mask_ob_cor.append([ globals()['num_{}'.format(i)],globals()['num_{}'.format(j)]])\n",
    "            mask_ob_rad.append([ globals()['rad_{}'.format(r)]])\n",
    "            n += 1\n",
    "    except:\n",
    "        pass\n",
    "\n",
    "    # 추가 천체 마스킹 \n",
    "    mask_reg = []\n",
    "    aperture_reg = []\n",
    "    n = 1\n",
    "    for k, r in zip(mask_ob_cor, mask_ob_rad):\n",
    "        center_1 = PixCoord(k[0], k[1])\n",
    "        #print('%d_[x,y,r]:'%n, k[0], k[1], r[0])\n",
    "        aperture = CirclePixelRegion(center_1, r[0])\n",
    "        mask = aperture.to_mask(mode = 'center')\n",
    "        aperture_reg.append(aperture)\n",
    "        mask_reg.append(mask.bbox)\n",
    "        n += 1\n",
    "    \n",
    "    for f in filter:\n",
    "        globals()['skysub_{}_c'.format(f)] = globals()['skysub_{}'.format(f)].copy()\n",
    "        for i in range(len(mask_reg)): \n",
    "            globals()['skysub_{}_c'.format(f)][mask_reg[i].iymin : mask_reg[i].iymax + 1, mask_reg[i].ixmin : mask_reg[i].ixmax + 1] = np.nan\n",
    "            \n",
    "    print('-------------------------------------------------')         \n",
    "    # 데이터 다림질\n",
    "    kn_st1 = float(input(\"다림질의 커널 표준편차 값을 입력하세요.(기본값: 0.9): \") or 0.9) \n",
    "    kn_md1 = str(input(\"다림질의 커널 모드를 입력하세요.(기본값: center): \") or 'center')\n",
    "    smo_u, smo_g, smo_r, smo_i, smo_z = smooting(kernel_stddev=kn_st1, kernel_mode=kn_md1, skysub_u=skysub_u_c, skysub_g=skysub_g_c, skysub_r=skysub_r_c, skysub_i=skysub_i_c, skysub_z=skysub_z_c) # kernel_stddev default = 0.9, kernel_mode default = 'center'\n",
    "    print(\"변경 완료: 다음 단계로 넘어가 이미지에 좌표 클릭 포인팅을 하십시오.\")\n",
    "    \n",
    "else:\n",
    "    print(\"다음 단계로 넘어가 은하 이미지에 타원을 그리기 위한 작업을 진행 하십시오.\")"
   ]
  },
  {
   "cell_type": "markdown",
   "metadata": {},
   "source": [
    "### **타원 기하학 산출**"
   ]
  },
  {
   "cell_type": "code",
   "execution_count": null,
   "metadata": {
    "ExecuteTime": {
     "end_time": "2022-09-27T03:16:05.728936Z",
     "start_time": "2022-09-27T03:16:05.599658Z"
    },
    "code_folding": [],
    "run_control": {
     "marked": false
    },
    "scrolled": false
   },
   "outputs": [],
   "source": [
    "#이미지에 좌표 클릭시 포인팅 및 좌표 출력\n",
    "\n",
    "f_1 = 'i'\n",
    "\n",
    "print('은하 이미지에 그려질 타원의 장축 반경을 마우스 왼쪽 버튼으로 클릭하세요.(오른쪽 버튼: 선택 취소)(※유의사항: 오직 목표 은하만 포착할 수 있게끔 장축 반경 고려)')\n",
    "print( '-----------------------------------------' )\n",
    "xdata = [0]; ydata = [0]\n",
    "\n",
    "# 모든 필터 중심 좌표\n",
    "cen = globals()['cen_{}'.format(f_1)]\n",
    "\n",
    "vmax = 90.\n",
    "vmin = 15.\n",
    "\n",
    "# 그림\n",
    "fig = plt.figure( figsize = (5,5) )\n",
    "globals()['max_value_{}_temp'.format(f_1)] = np.percentile( globals()['smo_{}'.format(f_1)], vmax )\n",
    "globals()['min_value_{}_temp'.format(f_1)] = np.percentile( globals()['smo_{}'.format(f_1)], vmin )\n",
    "\n",
    "globals()['max_{}'.format(f_1)] = np.max(globals()['smo_{}'.format(f_1)])\n",
    "\n",
    "ax = fig.add_subplot(1,1,1)\n",
    "im = plt.imshow(globals()['smo_{}'.format(f_1)], cmap = 'gray_r', vmax = globals()['max_value_{}_temp'.format(f_1)], vmin = globals()[ 'min_value_{}_temp'.format(f_1)], origin = 'lower', interpolation='nearest') #interpolation='nearest'\n",
    "plt.colorbar(im)\n",
    "ct = plt.contour(globals()['smo_{}'.format(f_1)], levels = globals()['levels_{}'.format(f_1)], origin = 'lower', colors = 'aqua', linewidths = 1.0)\n",
    "plt.grid(color = 'white', ls = '--')\n",
    "line, = ax.plot(xdata, ydata, '*', ms = 5, mec='yellow', mfc='yellow', linewidth=2)\n",
    "cid = plt.connect('button_press_event', add_point)\n",
    "text = ax.text(70,330, \"\", va=\"bottom\", ha=\"left\")\n",
    "plt.title(f_1 + '_reg')\n",
    "plt.show()"
   ]
  },
  {
   "cell_type": "code",
   "execution_count": null,
   "metadata": {
    "ExecuteTime": {
     "end_time": "2022-09-27T03:18:51.823456Z",
     "start_time": "2022-09-27T03:18:51.719035Z"
    },
    "code_folding": [
     0
    ]
   },
   "outputs": [],
   "source": [
    "# 이미지 저장\n",
    "\n",
    "save_file_name = str(ring_num)+'_1_selcet_coordinate.jpg'\n",
    "plt.savefig(save_path + save_file_name)"
   ]
  },
  {
   "cell_type": "code",
   "execution_count": null,
   "metadata": {
    "ExecuteTime": {
     "start_time": "2022-09-27T03:53:44.092Z"
    },
    "code_folding": []
   },
   "outputs": [],
   "source": [
    "# 단축 반경 입력\n",
    "\n",
    "xdata = np.around(xdata,decimals = 1)\n",
    "ydata = np.around(ydata,decimals = 1)\n",
    "# 기본 (0,0) 값 삭제\n",
    "if (xdata[0], ydata[0]) == (0,0):\n",
    "    xdata = np.delete(xdata, 0)\n",
    "    ydata = np.delete(ydata, 0)\n",
    "    print(xdata, ydata)\n",
    "else:\n",
    "    print(xdata, ydata)\n",
    "        \n",
    "cor = [int(xdata[0]), int(ydata[0])]\n",
    "major_ax = math.sqrt((cen[0] - cor[0])**2 + (cen[1] - cor[1])**2)\n",
    "print('장축 반경 거리(픽셀):', major_ax)\n",
    "d = float(input('은하 이미지에 그려질 타원의 단축 반경을 입력하세요.(예:75): '))"
   ]
  },
  {
   "cell_type": "code",
   "execution_count": null,
   "metadata": {
    "ExecuteTime": {
     "end_time": "2022-09-27T03:47:25.096117Z",
     "start_time": "2022-09-27T03:47:24.578102Z"
    },
    "code_folding": []
   },
   "outputs": [],
   "source": [
    "# y = ax + b 일차함수로 장축, 단축 반경 계산\n",
    "\n",
    "a = (cen[1]-cor[1])/(cen[0]-cor[0])\n",
    "if abs(a) == 0:\n",
    "    a = 0.000000000001\n",
    "else:\n",
    "    a = a\n",
    "b = cen[1] - a*cen[0]\n",
    "\n",
    "# y1 = -x/a + b1 -> y = ax + b와 수직인 일차함수\n",
    "b1 = cen[1] + (cen[0]/a)\n",
    "\n",
    "# 타원 기하학 계산\n",
    "minor_ax = d\n",
    "major_ax = math.sqrt((cen[0]-cor[0])**2+(cen[1]-cor[1])**2)\n",
    "\n",
    "ellipse = (major_ax - minor_ax)/major_ax\n",
    "print('타원율:', ellipse)\n",
    "position_angle_rad = math.atan((cen[1]-cor[1])/(cen[0]-cor[0]))\n",
    "position_angle_deg = (position_angle_rad)/np.pi*180\n",
    "print('위치각(deg):', position_angle_deg)\n",
    "print('위치각(radian):', position_angle_rad)\n",
    "\n",
    "vmax = 90.\n",
    "vmin = 15.\n",
    "print('--------------------------------------')\n",
    "print('max_percetile:', vmax)\n",
    "print('min_percetile:', vmin)\n",
    "\n",
    "# 그림\n",
    "fig = plt.figure( figsize = (18,9) )\n",
    "n = 1\n",
    "for f in filter:\n",
    "    globals()[ 'geometry_{}'.format(f)] = EllipseGeometry(x0=globals()[ 'cen_{}'.format(f)][0], y0=globals()[ 'cen_{}'.format(f)][1], sma=major_ax, eps=ellipse, pa=position_angle_rad,  astep = 0.1, linear_growth=True) # astep=0,1, fix_center=True, linear_growth=True\n",
    "    globals()[ 'aper_{}'.format(f)] = EllipticalAperture((globals()[ 'geometry_{}'.format(f)].x0, globals()[ 'geometry_{}'.format(f)].y0), globals()[ 'geometry_{}'.format(f)].sma, globals()[ 'geometry_{}'.format(f)].sma*(1 - globals()[ 'geometry_{}'.format(f)].eps), globals()[ 'geometry_{}'.format(f)].pa)\n",
    "\n",
    "    globals()[ 'max_value_{}_temp'.format(f) ] = np.percentile( globals()[ 'smo_{}'.format(f) ], vmax )\n",
    "    globals()[ 'min_value_{}_temp'.format(f) ] = np.percentile( globals()[ 'smo_{}'.format(f) ], vmin )\n",
    "    ax = fig.add_subplot(2,3,n)\n",
    "    im = plt.imshow(globals()['smo_{}'.format(f)], cmap = 'gray_r', vmax = globals()['max_value_{}'.format(f)], vmin = globals()[ 'min_value_{}'.format(f)], origin = 'lower') #interpolation = 'nearest'\n",
    "    ct = plt.contour(globals()['smo_{}'.format(f)], levels = globals()['levels_{}'.format(f_1)], origin = 'lower', colors = 'aqua', linewidths = 1)\n",
    "    globals()[ 'aper_{}'.format(f)].plot(color = 'greenyellow', linewidth = 6, linestyle = 'dashed')\n",
    "    plt.grid(color = 'white', ls = '--')\n",
    "    plt.colorbar(im)\n",
    "    plt.title(f + '_geometry, major: ' + str(int(major_ax)) + ', minor: ' + str(int(minor_ax)))\n",
    "    n += 1\n",
    "plt.show()"
   ]
  },
  {
   "cell_type": "code",
   "execution_count": null,
   "metadata": {
    "ExecuteTime": {
     "end_time": "2022-09-27T03:19:36.979276Z",
     "start_time": "2022-09-27T03:19:36.520480Z"
    },
    "code_folding": [
     0
    ],
    "run_control": {
     "marked": false
    }
   },
   "outputs": [],
   "source": [
    "# 이미지 저장\n",
    "\n",
    "save_file_name = str(ring_num)+'_2_geometry_contour.jpg'\n",
    "plt.savefig(save_path + save_file_name)"
   ]
  },
  {
   "cell_type": "markdown",
   "metadata": {},
   "source": [
    "## **등광도 분석**"
   ]
  },
  {
   "cell_type": "markdown",
   "metadata": {
    "id": "EepOD8gon09R"
   },
   "source": [
    "### **등광도 맞춤 분석**"
   ]
  },
  {
   "cell_type": "code",
   "execution_count": null,
   "metadata": {
    "ExecuteTime": {
     "end_time": "2022-09-27T03:20:28.624288Z",
     "start_time": "2022-09-27T03:19:39.526726Z"
    },
    "code_folding": [],
    "run_control": {
     "marked": false
    }
   },
   "outputs": [],
   "source": [
    "# Isolist 정보 추출\n",
    "\n",
    "\"\"\"\"\"\n",
    "처음은 등광도 맞춤을 기본값으로 분석 -> 등광도 맞춤을 기본값으로 분석 후, 실제와 분석된 등광도 선의 불일치가 심한 경우 등광도 맞춤 옵션 조정\n",
    "\"\"\"\"\"\n",
    "iso_select = str(input('등광도 맞춤 옵션에 변화를 주시겠습니까? y, n: '))\n",
    "print('---------------------------------------------------')  \n",
    "if iso_select == 'y':\n",
    "    iso_step = float(input(\"등광도 맞춤 옵션 중 장반경 분석 간격(step)을 입력 하세요.(기본값: 1) \" or 1))\n",
    "    iso_dist = float(input(\"등광도 맞춤 옵션 중 1픽셀 당 초(arcsec)를 입력 하세요.(기본값: 0.396, 주의:step과 정비례로 입력) \" or 0.396))\n",
    "    iso_nclip = int(input(\"등광도 맞춤 옵션 중 nclip 값을 입력 하세요.(기본값: 0, 주의:자연수 입력) \" or 0))\n",
    "    iso_fflag = float(input(\"등광도 맞춤 옵션 중 fflag 값을 입력 하세요.(기본값: 0.7) \" or 0.7))\n",
    "else:\n",
    "    iso_step = 1\n",
    "    iso_dist = 0.396\n",
    "    iso_nclip = 0\n",
    "    iso_fflag = 0.7      \n",
    "    print(\"장반경 분석 간격(step, 기본값 1) :\", iso_step)\n",
    "    print(\"1픽셀당 초(arcsec, 기본값 0.396) :\", iso_dist)\n",
    "    print(\"nclip(기본값 0) :\", iso_nclip)\n",
    "    print(\"fflag(기본값 0.7) :\", iso_fflag)\n",
    "\n",
    "for f in filter:\n",
    "    globals()['r_pix_{}'.format(f)] = [] # 각 필터별 픽셀 기준 등광도 맞춤 분석된 장반경 값 모음\n",
    "    globals()['mu_{}'.format(f)] = [] # 각 필터별 등광도 맞춤 분석된 광도 값 모음\n",
    "    globals()['ep_{}'.format(f)] = [] # 각 필터별 등광도 맞춤 분석된 타원율 값 모음\n",
    "    globals()['ep_err_{}'.format(f)] = [] # 각 필터별 등광도 맞춤 분석된 타원율 에러 값 모음\n",
    "    globals()['pa_{}'.format(f)] = [] # 각 필터별 등광도 맞춤 분석된 위치각 값 모음\n",
    "    globals()['pa_err_{}'.format(f)] = [] # 각 필터별 등광도 맞춤 분석된 위치각 에러 값 모음 \n",
    "    \n",
    "for f in filter:\n",
    "    try:\n",
    "        globals()['ellipse_{}'.format(f)] = Ellipse(globals()['smo_{}'.format(f)], geometry=globals()['geometry_{}'.format(f)])\n",
    "        globals()['isolist_{}'.format(f)] = globals()['ellipse_{}'.format(f)].fit_image(minsma = 0, step = iso_step, linear = True, maxsma = major_ax, fix_center = True, nclip = iso_nclip, fflag = iso_fflag) \n",
    "        globals()['intens_{}'.format(f)] = -2.5*np.log10(globals()['isolist_{}'.format(f)].intens) \n",
    "        \n",
    "        globals()['iso_{}_c'.format(f)] = globals()['isolist_{}'.format(f)].pa.copy()\n",
    "\n",
    "        # IRAF 기준 타원 위치각 설명과 동일하게 변환(+Y축을 기준으로 +90 ~ -90로 타원 위치각이 분포)\n",
    "        globals()['iso_{}_c_deg'.format(f)] = globals()['iso_{}_c'.format(f)]/np.pi*180. # 라디안(radian)을 도(degree)로 변환\n",
    "        globals()['iso_{}_c_deg'.format(f)][globals()['iso_{}_c_deg'.format(f)] < 90] = globals()['iso_{}_c_deg'.format(f)][globals()['iso_{}_c_deg'.format(f)] < 90] + 180 # 90 도 미만에 +180를 하여, 모든 타원 위치각이 180 ~ 270도로 변환\n",
    "        globals()['pa_{}_deg'.format(f)] = globals()['iso_{}_c_deg'.format(f)] - 90. # 모든 각도에 -90도를 하여, 0 ~ 180 도로 분포하도록 함. 즉, +Y축을 기준으로 +90 ~ -90로 타원 위치각이 분포\n",
    "        \n",
    "        globals()['pa_err_{}_deg'.format(f)]= globals()['isolist_{}'.format(f)].pa_err/np.pi*180. # 라디안을 도(degree)로 변환\n",
    "        globals()['mu_{}'.format(f)].append(np.around(globals()['intens_{}'.format(f)], 3)) # 각 필터별 등광도 맞춤 분석된 광도 값(소수점 3자리 까지만)\n",
    "        globals()['ep_{}'.format(f)].append(np.around(globals()['isolist_{}'.format(f)].eps, 3)) # 각 필터별 등광도 맞춤 분석된 타원율 값(소수점 3자리 까지만)\n",
    "        globals()['ep_err_{}'.format(f)].append(np.around(globals()['isolist_{}'.format(f)].ellip_err, 3)) # 각 필터별 등광도 맞춤 분석된 타원율 에러 값(소수점 3자리 까지만)\n",
    "        globals()['pa_{}'.format(f)].append(np.around(globals()['pa_{}_deg'.format(f)], 3)) # 각 필터별 등광도 맞춤 분석된 위치각 값(소수점 3자리 까지만)\n",
    "        globals()['pa_err_{}'.format(f)].append(np.around(globals()['pa_err_{}_deg'.format(f)], 3)) # 각 필터별 등광도 맞춤 분석된 위치각 에러 값(소수점 3자리 까지만)\n",
    "        \n",
    "    except:\n",
    "        pass\n",
    "    \n",
    "for f in filter:\n",
    "    for p in range(len(globals()['isolist_{}'.format(f)].sma)):\n",
    "        globals()['r_pix_{}'.format(f)].append(p)\n",
    "    globals()['r_arc_{}'.format(f)] = np.around(np.asarray(globals()['r_pix_{}'.format(f)])*iso_dist, 2) \n",
    "    # iso_step = 1 이면 iso_dist = 0.396 / iso_step = 0.5 이면, iso_setp = 0.198 로 변화 필요"
   ]
  },
  {
   "cell_type": "code",
   "execution_count": null,
   "metadata": {
    "ExecuteTime": {
     "end_time": "2022-09-27T03:20:54.368975Z",
     "start_time": "2022-09-27T03:20:54.294533Z"
    },
    "code_folding": [
     0
    ],
    "run_control": {
     "marked": true
    }
   },
   "outputs": [],
   "source": [
    "# 등광도 물리값 표\n",
    "\n",
    "display('isolist_u_table', isolist_u.to_table())\n",
    "display('isolist_g_table', isolist_i.to_table())\n",
    "display('isolist_r_table', isolist_i.to_table())\n",
    "display('isolist_i_table', isolist_i.to_table())\n",
    "display('isolist_z_table', isolist_z.to_table())"
   ]
  },
  {
   "cell_type": "markdown",
   "metadata": {},
   "source": [
    " ### **등광도 지도 작성(Isophotal contour map)**"
   ]
  },
  {
   "cell_type": "code",
   "execution_count": null,
   "metadata": {
    "ExecuteTime": {
     "end_time": "2022-09-27T03:21:05.387491Z",
     "start_time": "2022-09-27T03:21:04.927961Z"
    },
    "code_folding": [],
    "run_control": {
     "marked": false
    },
    "scrolled": false
   },
   "outputs": [],
   "source": [
    "# 등광도곡선 그리기\n",
    "\n",
    "for f in filter:\n",
    "    min_pix = 10 # 등광도 곡선 최소 픽셀 지점(시작점)\n",
    "    globals()['max_pix_{}'.format(f)] = int(major_ax) # 등광도 곡선 최대 픽셀 지점(끝점) -> 위에서 입력한 장반경 값과 같음\n",
    "    step = 10\n",
    "\n",
    "vmax = 90.\n",
    "vmin = 15.\n",
    "print('max_percetile', vmax)\n",
    "print('min_percetile:', vmin)            \n",
    "\n",
    "# 그림\n",
    "fig = plt.figure( figsize = (14,9) )\n",
    "n = 1\n",
    "for f in filter :\n",
    "    globals()[ 'max_value_{}_temp'.format(f) ] = np.percentile( globals()[ 'smo_{}'.format(f) ], vmax )\n",
    "    globals()[ 'min_value_{}_temp'.format(f) ] = np.percentile( globals()[ 'smo_{}'.format(f) ], vmin )   \n",
    "    ax = fig.add_subplot(2,3,n)\n",
    "    ct = plt.contour(globals()['smo_{}'.format(f)], levels = globals()['levels_{}'.format(f)] , origin = 'lower', colors= 'black', linewidths = 0.5)\n",
    "    plt.xlim( globals()[ 'cen_{}'.format(f)][0]-100, globals()[ 'cen_{}'.format(f)][0]+100 ) # 이미지 확대를 위해 중심 기준 x축 방향 +-100 처리함\n",
    "    plt.ylim( globals()[ 'cen_{}'.format(f)][1]-100, globals()[ 'cen_{}'.format(f)][1]+100 ) # 이미지 확대를 위해 중심 기준 y축 방향 +-100 처리함\n",
    "    ax.grid(color = 'white', ls = '--')\n",
    "    ax.set_title(f + '_isophotal contour map')\n",
    "    smas = np.linspace(min_pix, globals()['max_pix_{}'.format(f)], step)\n",
    "    try:\n",
    "        for sma in smas:\n",
    "            iso = globals()['isolist_{}'.format(f)].get_closest(sma)\n",
    "            x, y, = iso.sampled_coordinates()\n",
    "            ax.plot(x, y, ls = '--', color = 'red', lw = 0.5)\n",
    "    except:\n",
    "        pass\n",
    "    n += 1\n",
    "plt.show()"
   ]
  },
  {
   "cell_type": "code",
   "execution_count": null,
   "metadata": {
    "ExecuteTime": {
     "end_time": "2022-09-27T03:21:15.830069Z",
     "start_time": "2022-09-27T03:21:15.494029Z"
    },
    "code_folding": [
     0
    ]
   },
   "outputs": [],
   "source": [
    "# 이미지 저장\n",
    "\n",
    "save_file_name = str(ring_num)+'_3_isophote_contour.jpg'\n",
    "plt.savefig(save_path + save_file_name)"
   ]
  },
  {
   "cell_type": "markdown",
   "metadata": {
    "id": "_CeBPj9fn7ew"
   },
   "source": [
    "### **등광도 관련 밝기 강도(Luminosity Profile), 타원율(Ellipticity), 위치각(Position Angle) 특징 분석**"
   ]
  },
  {
   "cell_type": "code",
   "execution_count": null,
   "metadata": {
    "ExecuteTime": {
     "end_time": "2022-09-27T03:21:17.977655Z",
     "start_time": "2022-09-27T03:21:17.877649Z"
    },
    "code_folding": [
     0
    ],
    "run_control": {
     "marked": true
    },
    "scrolled": true
   },
   "outputs": [],
   "source": [
    "# 등광도 물리 값 데이터 프레임 변환\n",
    "\n",
    "for f in filter:\n",
    "    try:\n",
    "        columns = ['R\"', 'Mu', 'Ellipticity', 'Ellip_error', 'PA', 'PA_error']\n",
    "        #globals()['df_r_{}'.format(f)] = pd.DataFrame(globals()['sma_{}'.format(f)]).transpose()\n",
    "        globals()['df_r_{}'.format(f)] = pd.DataFrame(globals()['r_arc_{}'.format(f)]) # 각 필터별 등광도 분석된 장반경\n",
    "        globals()['df_mu_{}'.format(f)] = pd.DataFrame(globals()['mu_{}'.format(f)]).transpose() # 각 필터별 등광도 분석된 광도 값\n",
    "        globals()['df_ep_{}'.format(f)] = pd.DataFrame(globals()['ep_{}'.format(f)]).transpose() # 각 필터별 등광도 분석된 타원율 값\n",
    "        globals()['df_ep_err_{}'.format(f)] = pd.DataFrame(globals()['ep_err_{}'.format(f)]).transpose() # 각 필터별 등광도 분석된 타원율 에러 값\n",
    "        globals()['df_pa_{}'.format(f)] = pd.DataFrame(globals()['pa_{}'.format(f)]).transpose() # 각 필터별 등광도 분석된 위치각 값\n",
    "        globals()['df_pa_err_{}'.format(f)] = pd.DataFrame(globals()['pa_err_{}'.format(f)]).transpose() # 각 필터별 등광도 분석된 위치각 에러 값\n",
    "    \n",
    "        globals()['df_my_eps_{}'.format(f)] = pd.concat([globals()['df_r_{}'.format(f)], globals()['df_mu_{}'.format(f)], globals()['df_ep_{}'.format(f)], globals()['df_ep_err_{}'.format(f)], globals()['df_pa_{}'.format(f)], globals()['df_pa_err_{}'.format(f)]], axis = 1)\n",
    "        globals()['df_my_eps_{}'.format(f)].columns = columns\n",
    "    except:\n",
    "        pass"
   ]
  },
  {
   "cell_type": "code",
   "execution_count": null,
   "metadata": {
    "ExecuteTime": {
     "end_time": "2022-09-27T03:22:43.207813Z",
     "start_time": "2022-09-27T03:22:43.081968Z"
    },
    "code_folding": [
     0
    ],
    "run_control": {
     "marked": true
    }
   },
   "outputs": [],
   "source": [
    "# csv 파일 저장\n",
    "\n",
    "df_all = []\n",
    "for f in filter:\n",
    "    cc = globals()['df_my_eps_{}'.format(f)].rename(columns = lambda x: f +'_' + x)\n",
    "    df_all.append(cc)\n",
    "    save_file_name1 = str(ring_num)+'_4_'+ f + '_eps__result.csv'\n",
    "    globals()['df_my_eps_{}'.format(f)].to_csv(save_path + save_file_name1, header=True, index=False)\n",
    "\n",
    "save_file_name2 = str(ring_num)+'_eps__result.csv' \n",
    "df_all_concat = pd.concat(df_all, axis=1)\n",
    "df_all_concat.to_csv(save_path + save_file_name2, header=True, index=False)   \n",
    "display(df_all_concat)"
   ]
  },
  {
   "cell_type": "code",
   "execution_count": null,
   "metadata": {
    "ExecuteTime": {
     "end_time": "2022-09-27T03:32:53.264955Z",
     "start_time": "2022-09-27T03:32:52.702128Z"
    },
    "code_folding": [
     0
    ],
    "colab": {
     "base_uri": "https://localhost:8080/",
     "height": 513
    },
    "id": "k-CIHGvf7zFW",
    "outputId": "c46764a2-bf04-4907-8c29-1783dd7ca397",
    "run_control": {
     "marked": true
    },
    "scrolled": false
   },
   "outputs": [],
   "source": [
    "# 그래프 시각화 에러 값 포함\n",
    "\n",
    "plt.ion()\n",
    "plt.figure(figsize=(6, 3.5), dpi=300)\n",
    "for i,j,k,f in zip(range(1,17,3), range(2,18,3), range(3,19,3), filter):\n",
    "    plt.subplot(5,3,i)\n",
    "    plt.plot(globals()['df_my_eps_{}'.format(f)]['R\"'][10:], globals()['df_my_eps_{}'.format(f)]['Mu'][10:], 'r^-', ms=0.5, linewidth=0.2, label= f)\n",
    "    plt.xlabel('Major_R(arcsec)', fontsize = 3 ,labelpad = 1) \n",
    "    plt.ylabel('Magnitude', fontsize = 3, labelpad = 1)\n",
    "    plt.xticks()\n",
    "    plt.yticks()\n",
    "    plt.tick_params(axis = 'x', direction = 'out', length = 1.5, width = 0.5, labelsize = 3, pad = 1)\n",
    "    plt.tick_params(axis = 'y', direction = 'out', length = 1.5, width = 0.5, labelsize = 3, pad = 1)\n",
    "    plt.gca().invert_yaxis()\n",
    "    plt.legend(loc = 'best', fontsize = 3.5)\n",
    "\n",
    "    plt.subplot(5,3,j)\n",
    "    plt.errorbar(globals()['df_my_eps_{}'.format(f)]['R\"'][10:], globals()['df_my_eps_{}'.format(f)]['Ellipticity'][10:], globals()['df_my_eps_{}'.format(f)]['Ellip_error'][10:], fmt='r^-', ms=0.5, linewidth=0.2, elinewidth=0.2, ecolor='black', capsize=1, capthick=0.5, label= f)\n",
    "    plt.xlabel('Major_R(arcsec)', fontsize = 3 ,labelpad = 1) \n",
    "    plt.ylabel('Ellipticity', fontsize = 3, labelpad = 1)\n",
    "    plt.xticks()\n",
    "    plt.yticks()\n",
    "    plt.tick_params(axis = 'x', direction = 'out', length = 1.5, width = 0.5, labelsize = 3, pad = 1)\n",
    "    plt.tick_params(axis = 'y', direction = 'out', length = 1.5, width = 0.5, labelsize = 3, pad = 1)\n",
    "    plt.legend(loc = 'best', fontsize = 3.5)\n",
    "\n",
    "    plt.subplot(5,3,k)\n",
    "    plt.errorbar(globals()['df_my_eps_{}'.format(f)]['R\"'][10:], globals()['df_my_eps_{}'.format(f)]['PA'][10:], globals()['df_my_eps_{}'.format(f)]['PA_error'][10:], fmt='r^-', ms=0.5, linewidth=0.2, elinewidth=0.2, ecolor='black', capsize=1, capthick=0.5, label= f)\n",
    "    plt.xlabel('Major_R(arcsec)', fontsize = 3 ,labelpad = 1)\n",
    "    plt.ylabel('Position Angle (deg)', fontsize = 3, labelpad = 1)\n",
    "    plt.xticks()\n",
    "    plt.yticks()\n",
    "    plt.tick_params(axis = 'x', direction = 'out', length = 1.5, width = 0.5, labelsize = 3, pad = 1)\n",
    "    plt.tick_params(axis = 'y', direction = 'out', length = 1.5, width = 0.5, labelsize = 3, pad = 1)\n",
    "    plt.legend(loc = 'best', fontsize = 3.5)\n",
    "\n",
    "plt.show()"
   ]
  },
  {
   "cell_type": "code",
   "execution_count": null,
   "metadata": {
    "ExecuteTime": {
     "end_time": "2022-09-27T03:33:09.804343Z",
     "start_time": "2022-09-27T03:33:09.140293Z"
    },
    "code_folding": [
     0
    ]
   },
   "outputs": [],
   "source": [
    "# 이미지 저장\n",
    "\n",
    "save_file_name = str(ring_num)+'_4_isophote_graph.jpg'\n",
    "plt.savefig(save_path + save_file_name)"
   ]
  },
  {
   "cell_type": "code",
   "execution_count": null,
   "metadata": {
    "ExecuteTime": {
     "end_time": "2022-09-27T03:33:11.700127Z",
     "start_time": "2022-09-27T03:33:11.180971Z"
    },
    "code_folding": [
     0
    ],
    "run_control": {
     "marked": false
    },
    "scrolled": false
   },
   "outputs": [],
   "source": [
    "# 그래프 시각화 에러 값 불포함\n",
    "\n",
    "plt.ion()\n",
    "plt.figure(figsize=(6, 3.5), dpi=300)\n",
    "for i,j,k,f in zip(range(1,17,3), range(2,18,3), range(3,19,3), filter):\n",
    "    plt.subplot(5,3,i)\n",
    "    plt.plot(globals()['df_my_eps_{}'.format(f)]['R\"'][10:], globals()['df_my_eps_{}'.format(f)]['Mu'][10:], 'r^-', ms=0.5, linewidth=0.2, label= f)\n",
    "    plt.xlabel('Major_R(arcsec)', fontsize = 3 ,labelpad = 1) \n",
    "    plt.ylabel('Magnitude', fontsize = 3, labelpad = 1)\n",
    "    plt.xticks()\n",
    "    plt.yticks()\n",
    "    plt.tick_params(axis = 'x', direction = 'out', length = 1.5, width = 0.5, labelsize = 3, pad = 1)\n",
    "    plt.tick_params(axis = 'y', direction = 'out', length = 1.5, width = 0.5, labelsize = 3, pad = 1)\n",
    "    plt.gca().invert_yaxis()\n",
    "    plt.legend(loc = 'best', fontsize = 3.5)\n",
    "\n",
    "    plt.subplot(5,3,j)\n",
    "    plt.plot(globals()['df_my_eps_{}'.format(f)]['R\"'][10:], globals()['df_my_eps_{}'.format(f)]['Ellipticity'][10:], 'r^-', ms=0.5, linewidth=0.2, label= f)\n",
    "    plt.xlabel('Major_R(arcsec)', fontsize = 3 ,labelpad = 1) \n",
    "    plt.ylabel('Ellipticity', fontsize = 3, labelpad = 1)\n",
    "    plt.xticks()\n",
    "    plt.yticks()\n",
    "    plt.tick_params(axis = 'x', direction = 'out', length = 1.5, width = 0.5, labelsize = 3, pad = 1)\n",
    "    plt.tick_params(axis = 'y', direction = 'out', length = 1.5, width = 0.5, labelsize = 3, pad = 1)\n",
    "    plt.legend(loc = 'best', fontsize = 3.5)\n",
    "\n",
    "    plt.subplot(5,3,k)\n",
    "    plt.plot(globals()['df_my_eps_{}'.format(f)]['R\"'][10:], globals()['df_my_eps_{}'.format(f)]['PA'][10:], 'r^-', ms=0.5, linewidth=0.2, label= f)\n",
    "    plt.xlabel('Major_R(arcsec)', fontsize = 3 ,labelpad = 1)\n",
    "    plt.ylabel('Position Angle (deg)', fontsize = 3, labelpad = 1)\n",
    "    plt.xticks()\n",
    "    plt.yticks()\n",
    "    plt.tick_params(axis = 'x', direction = 'out', length = 1.5, width = 0.5, labelsize = 3, pad = 1)\n",
    "    plt.tick_params(axis = 'y', direction = 'out', length = 1.5, width = 0.5, labelsize = 3, pad = 1)\n",
    "    plt.legend(loc = 'best', fontsize = 3.5)\n",
    "\n",
    "plt.show()"
   ]
  },
  {
   "cell_type": "code",
   "execution_count": null,
   "metadata": {
    "ExecuteTime": {
     "end_time": "2022-09-27T03:33:20.465061Z",
     "start_time": "2022-09-27T03:33:19.915304Z"
    },
    "code_folding": [
     0
    ]
   },
   "outputs": [],
   "source": [
    "# 이미지 저장\n",
    "\n",
    "save_file_name = str(ring_num)+'_5_isophote_graph.jpg'\n",
    "plt.savefig(save_path + save_file_name)"
   ]
  },
  {
   "cell_type": "markdown",
   "metadata": {},
   "source": [
    "### **랜덤포레스트 회귀분석을 통한 등광도 특징 보조 분석**"
   ]
  },
  {
   "cell_type": "code",
   "execution_count": null,
   "metadata": {
    "ExecuteTime": {
     "end_time": "2022-09-27T03:33:25.957626Z",
     "start_time": "2022-09-27T03:33:21.622614Z"
    },
    "code_folding": [
     0
    ],
    "run_control": {
     "marked": true
    }
   },
   "outputs": [],
   "source": [
    "# 머신러닝으로 분석할 필터 선택, 변수 설정\n",
    "\n",
    "sel = str(input(\"분석하려는 필터를 입력하세요.\")) # 필터 선택\n",
    "r = globals()['df_my_eps_{}'.format(sel)][['R\"']] # 거리 변수 설정\n",
    "mu = globals()['df_my_eps_{}'.format(sel)].Mu # 광도 변수 설정\n",
    "ep = globals()['df_my_eps_{}'.format(sel)].Ellipticity # 타원율 변수 설정\n",
    "pa = globals()['df_my_eps_{}'.format(sel)].PA # 위치각 변수 설정"
   ]
  },
  {
   "cell_type": "code",
   "execution_count": null,
   "metadata": {
    "ExecuteTime": {
     "end_time": "2022-09-27T03:39:36.476316Z",
     "start_time": "2022-09-27T03:39:10.520168Z"
    },
    "code_folding": []
   },
   "outputs": [],
   "source": [
    "# 머신러닝 랜덤포레스트 회귀\n",
    "\n",
    "# 랜덤포레스트 초매개변수 설정\n",
    "rfr = RandomForestRegressor()\n",
    "\n",
    "param_grid = {'n_estimators': [1000], 'max_depth' : [4], 'min_samples_leaf' : [5], 'bootstrap': [True]}  # 초매개변수 설정\n",
    "grid_search = GridSearchCV(rfr, param_grid, scoring='neg_mean_squared_error', return_train_score=True) # 성능 측정 지표 설정\n",
    "\n",
    "# 랜덤포레스트 훈련 및 예측\n",
    "grid_search.fit(r, mu) # 밝기 강도 예측\n",
    "y0_pred = grid_search.predict(r)\n",
    "\n",
    "grid_search.fit(r, ep) # 타원율 예측\n",
    "y1_pred = grid_search.predict(r)\n",
    "\n",
    "grid_search.fit(r, pa) # 위치각 예측\n",
    "y2_pred = grid_search.predict(r)"
   ]
  },
  {
   "cell_type": "code",
   "execution_count": null,
   "metadata": {
    "ExecuteTime": {
     "end_time": "2022-09-27T03:34:13.955955Z",
     "start_time": "2022-09-27T03:34:13.814085Z"
    },
    "code_folding": [
     0
    ],
    "run_control": {
     "marked": true
    }
   },
   "outputs": [],
   "source": [
    "# 머신러닝 반영 회귀 그래프\n",
    "\n",
    "plt.ion()\n",
    "plt.figure(figsize=(4,4.5), dpi=300)\n",
    "for f in sel:\n",
    "    plt.subplot(3,1,1)\n",
    "    plt.plot(globals()['df_my_eps_{}'.format(f)]['R\"'][10:], globals()['df_my_eps_{}'.format(f)]['Mu'][10:], 'r^-', ms=7, mfc='none', linewidth=1, alpha = 0.5, label= f + '_Ori')\n",
    "    plt.plot(r[10:], y0_pred[10:], 'gx:', ms=7, mec='green', mew=1, mfc='none', linewidth=1.5, alpha = 1, label= f + '_RFR')\n",
    "    plt.ylabel('Magnitude', fontsize = 9.5, labelpad = 1)\n",
    "    plt.xticks()\n",
    "    plt.yticks()\n",
    "    plt.tick_params(axis = 'x', direction = 'out', length = 3.5, width = 2, labelsize = 9.5, pad = 1)\n",
    "    plt.tick_params(axis = 'y', direction = 'out', length = 3.5, width = 2, labelsize = 9.5, pad = 1)\n",
    "    plt.gca().invert_yaxis()\n",
    "    plt.legend(loc = 'best', fontsize = 9.5)\n",
    "\n",
    "    plt.subplot(3,1,2)\n",
    "    #plt.errorbar(globals()['df_my_eps_{}'.format(f)]['R\"'][10:], globals()['df_my_eps_{}'.format(f)]['Ellipticity'][10:], globals()['df_my_eps_{}'.format(f)]['Ellip_error'][10:], fmt='r^-', ms=7, mfc='none', linewidth=1, elinewidth=1, ecolor='black', capsize=2, capthick=2.5, alpha = 0.5, label= f + '_Ori')\n",
    "    plt.plot(globals()['df_my_eps_{}'.format(f)]['R\"'][10:], globals()['df_my_eps_{}'.format(f)]['Ellipticity'][10:], 'r^-', ms=7, mfc='none', linewidth=1, alpha = 0.5, label= f + '_Ori')\n",
    "    plt.plot(r[10:], y1_pred[10:], 'gx:', ms=7, mec='green', mew=1, mfc='none', linewidth=1.5, alpha = 1, label= f + '_RFR')\n",
    "\n",
    "    plt.ylabel('Ellipticity', fontsize = 9.5, labelpad = 1)\n",
    "    plt.xticks()\n",
    "    plt.yticks()\n",
    "    plt.tick_params(axis = 'x', direction = 'out', length = 3.5, width = 2, labelsize = 9.5, pad = 1)\n",
    "    plt.tick_params(axis = 'y', direction = 'out', length = 3.5, width = 2, labelsize = 9.5, pad = 1)\n",
    "    plt.legend(loc = 'upper right', fontsize = 9.5)\n",
    "\n",
    "    plt.subplot(3,1,3)\n",
    "    #plt.errorbar(globals()['df_my_eps_{}'.format(f)]['R\"'][10:], globals()['df_my_eps_{}'.format(f)]['PA'][10:], globals()['df_my_eps_{}'.format(f)]['PA_error'][10:], fmt='r^-', ms=7, mfc='none', linewidth=1, elinewidth=1, ecolor='black', capsize=2, capthick=2.5, alpha = 0.5, label= f + '_Ori')\n",
    "    plt.plot(globals()['df_my_eps_{}'.format(f)]['R\"'][10:], globals()['df_my_eps_{}'.format(f)]['PA'][10:], 'r^-', ms=7, mfc='none', linewidth=1, alpha = 0.5, label= f + '_Ori')\n",
    "    plt.plot(r[10:], y2_pred[10:], 'gx:', ms=7, mec='green', mew=1, mfc='none', linewidth=1.5, alpha = 1, label= f + '_RFR')\n",
    "    plt.xlabel('Major_R(arcsec)', fontsize = 9.5,labelpad = 1)\n",
    "    plt.ylabel('Position Angle (deg)', fontsize = 9.5, labelpad = 1)\n",
    "    plt.xticks()\n",
    "    plt.yticks()\n",
    "    plt.tick_params(axis = 'x', direction = 'out', length = 3.5, width = 2, labelsize = 9.5, pad = 1)\n",
    "    plt.tick_params(axis = 'y', direction = 'out', length = 3.5, width = 2, labelsize = 9.5, pad = 1)\n",
    "    plt.legend(loc = 'best', fontsize = 9.5)\n",
    "\n",
    "    plt.show()"
   ]
  },
  {
   "cell_type": "code",
   "execution_count": null,
   "metadata": {
    "ExecuteTime": {
     "end_time": "2022-09-27T03:34:24.115795Z",
     "start_time": "2022-09-27T03:34:23.902505Z"
    },
    "code_folding": [
     0
    ]
   },
   "outputs": [],
   "source": [
    "# 이미지 저장\n",
    "\n",
    "save_file_name = str(ring_num)+'_6_isophote_graph.jpg'\n",
    "plt.savefig(save_path + save_file_name)"
   ]
  }
 ],
 "metadata": {
  "colab": {
   "collapsed_sections": [],
   "name": "고리은하 fits u, g, i 활용 분류",
   "provenance": [],
   "toc_visible": true
  },
  "kernelspec": {
   "display_name": "Python 3",
   "language": "python",
   "name": "python3"
  },
  "language_info": {
   "codemirror_mode": {
    "name": "ipython",
    "version": 3
   },
   "file_extension": ".py",
   "mimetype": "text/x-python",
   "name": "python",
   "nbconvert_exporter": "python",
   "pygments_lexer": "ipython3",
   "version": "3.8.3"
  },
  "toc": {
   "base_numbering": 1,
   "nav_menu": {},
   "number_sections": true,
   "sideBar": true,
   "skip_h1_title": false,
   "title_cell": "Table of Contents",
   "title_sidebar": "Contents",
   "toc_cell": false,
   "toc_position": {
    "height": "calc(100% - 180px)",
    "left": "10px",
    "top": "150px",
    "width": "165px"
   },
   "toc_section_display": true,
   "toc_window_display": true
  },
  "varInspector": {
   "cols": {
    "lenName": 16,
    "lenType": 16,
    "lenVar": 40
   },
   "kernels_config": {
    "python": {
     "delete_cmd_postfix": "",
     "delete_cmd_prefix": "del ",
     "library": "var_list.py",
     "varRefreshCmd": "print(var_dic_list())"
    },
    "r": {
     "delete_cmd_postfix": ") ",
     "delete_cmd_prefix": "rm(",
     "library": "var_list.r",
     "varRefreshCmd": "cat(var_dic_list()) "
    }
   },
   "oldHeight": 740.818952,
   "position": {
    "height": "762.812px",
    "left": "1491.77px",
    "right": "20px",
    "top": "65.9688px",
    "width": "409.938px"
   },
   "types_to_exclude": [
    "module",
    "function",
    "builtin_function_or_method",
    "instance",
    "_Feature"
   ],
   "varInspector_section_display": "block",
   "window_display": false
  }
 },
 "nbformat": 4,
 "nbformat_minor": 1
}
