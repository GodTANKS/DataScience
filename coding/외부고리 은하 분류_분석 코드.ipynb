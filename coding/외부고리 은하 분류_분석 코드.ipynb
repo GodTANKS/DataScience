{
 "cells": [
  {
   "cell_type": "markdown",
   "metadata": {
    "id": "JfoOMaMEjLrm"
   },
   "source": [
    "# **데이터 수집 및 탐색**"
   ]
  },
  {
   "cell_type": "markdown",
   "metadata": {},
   "source": [
    "## **데이터 수집**"
   ]
  },
  {
   "cell_type": "markdown",
   "metadata": {},
   "source": [
    "### **패키지 라이브러리 불러오기**"
   ]
  },
  {
   "cell_type": "markdown",
   "metadata": {},
   "source": [
    "* 패키지를 자동으로 설치한 뒤 다음의 알고리즘 실행에 필요한 여러가지 패키지와 라이브러리를 불러옵니다."
   ]
  },
  {
   "cell_type": "code",
   "execution_count": null,
   "metadata": {
    "ExecuteTime": {
     "end_time": "2022-10-05T08:16:00.686857Z",
     "start_time": "2022-10-05T08:15:23.764258Z"
    },
    "code_folding": [
     0
    ],
    "run_control": {
     "marked": false
    }
   },
   "outputs": [],
   "source": [
    "# 패키지 설치\n",
    "\n",
    "!pip install astropy\n",
    "!pip install regions\n",
    "!pip install sklearn\n",
    "!pip install pandas\n",
    "!pip install photutils\n",
    "!pip install jupyter_contrib_nbextensions && jupyter contrib nbextension install --user # 쥬피터 노트북 각종 편의 옵션 제공"
   ]
  },
  {
   "cell_type": "code",
   "execution_count": null,
   "metadata": {
    "ExecuteTime": {
     "end_time": "2022-10-28T01:35:49.741150Z",
     "start_time": "2022-10-28T01:35:40.088482Z"
    },
    "code_folding": [
     0
    ],
    "run_control": {
     "marked": true
    }
   },
   "outputs": [],
   "source": [
    "# 패키지 라이브러리 불러오기\n",
    "\n",
    "%matplotlib notebook\n",
    "from IPython.core.display import display, HTML\n",
    "display(HTML(\"<style>.container { width:97% !important; }</style>\"))\n",
    "\n",
    "from astropy.wcs import WCS\n",
    "from astropy.io import fits\n",
    "from astropy.utils.data import get_pkg_data_filename\n",
    "from astropy.convolution import Gaussian2DKernel, convolve, convolve_fft\n",
    "\n",
    "from regions import PixCoord, CirclePixelRegion\n",
    "\n",
    "from photutils.aperture import EllipticalAperture\n",
    "from photutils.isophote import EllipseGeometry, Ellipse\n",
    "\n",
    "from sklearn.ensemble import RandomForestRegressor\n",
    "from sklearn.model_selection import GridSearchCV\n",
    "\n",
    "import click2label\n",
    "import math\n",
    "import matplotlib\n",
    "import matplotlib.pyplot as plt\n",
    "import matplotlib.patches as patches\n",
    "import pandas as pd\n",
    "import numpy as np"
   ]
  },
  {
   "cell_type": "markdown",
   "metadata": {},
   "source": [
    "### **분석할 데이터 불러오기**"
   ]
  },
  {
   "cell_type": "markdown",
   "metadata": {},
   "source": [
    "* 운영체제 윈도우(Windows) 기준, C 드라이브에 ring_galaxy 라는 이름의 폴더를 만든 후, Github에서 다운로드한 모든 외부고리 은하 fits 파일과 ring_galaxy.csv 파일을 이 폴더에 저장해놓습니다.\n",
    "* 또한 ring_galaxy 라는 폴더 안에 result 라는 이름의 폴더를 만들어 놓습니다. 이 폴더에는 데이터 처리 및 분석시 얻은 결과물이 저장됩니다."
   ]
  },
  {
   "cell_type": "code",
   "execution_count": null,
   "metadata": {
    "ExecuteTime": {
     "end_time": "2022-10-28T01:36:09.465855Z",
     "start_time": "2022-10-28T01:36:09.451799Z"
    },
    "code_folding": [
     0
    ]
   },
   "outputs": [],
   "source": [
    "# 불러올 데이터의 위치 경로 및 분석 결과 일괄 저장 경로 지정\n",
    "\n",
    "often_path = 'C:\\\\ring_galaxy\\\\' #  고리은하 fits 파일과 csv 파일 불러오는 경로 지정\n",
    "save_path = 'C:\\\\ring_galaxy\\\\result\\\\' # 분석 결과 일괄 저장 경로 지정"
   ]
  },
  {
   "cell_type": "markdown",
   "metadata": {},
   "source": [
    "* 고리은하 목록을 불러옵니다."
   ]
  },
  {
   "cell_type": "code",
   "execution_count": null,
   "metadata": {
    "ExecuteTime": {
     "end_time": "2022-10-28T01:36:10.837432Z",
     "start_time": "2022-10-28T01:36:10.767789Z"
    },
    "code_folding": [],
    "run_control": {
     "marked": true
    },
    "scrolled": true
   },
   "outputs": [],
   "source": [
    "# 고리은하 csv 파일로부터 고리은하 목록 불러와 확인하기\n",
    "\n",
    "pd.set_option('display.max_rows', None)\n",
    "ring_df = pd.read_csv(often_path + 'ring_galaxy.csv') # 고리은하 csv 파일 불러오기\n",
    "display(ring_df)"
   ]
  },
  {
   "cell_type": "markdown",
   "metadata": {},
   "source": [
    "* 분석하려는 고리은하 번호(object number)를 입력합니다.(예: 1010). 그러면 해당 은하의 적경(ra), 적위(dec) 좌표와 fits 파일이 불러와 집니다."
   ]
  },
  {
   "cell_type": "code",
   "execution_count": null,
   "metadata": {
    "ExecuteTime": {
     "end_time": "2022-10-28T01:36:29.313869Z",
     "start_time": "2022-10-28T01:36:24.075779Z"
    },
    "code_folding": [
     0
    ]
   },
   "outputs": [],
   "source": [
    "# 분석하려는 고리은하 번호 입력\n",
    "\n",
    "ring_num = int(input('분석하려는 고리은하 번호(object_number)를 입력하세요.')) # 분석할 고리은하 번호 입력\n",
    "ring = ring_df['object_number'] == ring_num\n",
    "ring_info = ring_df[ring]\n",
    "display(ring_info) # 선택한 고리은하의 데이터 프레임 정보 출력\n",
    "ring_ra = ring_info['ra'].values[0] # 선택한 고리은하 적경 값\n",
    "ring_dec = ring_info['dec'].values[0] # 선택한 고리은하 적위 값"
   ]
  },
  {
   "cell_type": "code",
   "execution_count": null,
   "metadata": {
    "ExecuteTime": {
     "end_time": "2022-10-28T01:36:33.404969Z",
     "start_time": "2022-10-28T01:36:33.287600Z"
    },
    "code_folding": [
     0
    ],
    "run_control": {
     "marked": true
    }
   },
   "outputs": [],
   "source": [
    "# 각 필터 fits 파일 불러오기\n",
    "\n",
    "u = fits.open(often_path + str(ring_num)+'_u.fits') # u필터 fits 파일 불러오기\n",
    "g = fits.open(often_path + str(ring_num)+'_g.fits') # g필터 fits 파일 불러오기\n",
    "r = fits.open(often_path + str(ring_num)+'_r.fits') # r필터 fits 파일 불러오기\n",
    "i = fits.open(often_path + str(ring_num)+'_i.fits') # i필터 fits 파일 불러오기\n",
    "z = fits.open(often_path + str(ring_num)+'_z.fits') # z필터 fits 파일 불러오기\n",
    "\n",
    "filter = ['u', 'g', 'r', 'i', 'z'] # 필터 모음"
   ]
  },
  {
   "cell_type": "markdown",
   "metadata": {
    "id": "-S77XT9pjlpt"
   },
   "source": [
    "## **데이터 탐색(EDA)**"
   ]
  },
  {
   "cell_type": "markdown",
   "metadata": {},
   "source": [
    "### **데이터 기본 통계 정보**"
   ]
  },
  {
   "cell_type": "markdown",
   "metadata": {},
   "source": [
    "* 분석하려는 은하의 fits 파일의 헤더 정보와 데이터 구조, 기본 통계 정보를 확인합니다."
   ]
  },
  {
   "cell_type": "code",
   "execution_count": null,
   "metadata": {
    "ExecuteTime": {
     "end_time": "2022-10-28T01:36:35.343599Z",
     "start_time": "2022-10-28T01:36:35.326085Z"
    },
    "code_folding": [
     0
    ],
    "colab": {
     "base_uri": "https://localhost:8080/"
    },
    "id": "c4-sApJp7zE_",
    "outputId": "b7f9f867-f706-461a-cf0f-8bd2bf94bc34",
    "run_control": {
     "marked": true
    }
   },
   "outputs": [],
   "source": [
    "# 각 필터 fits 파일 정보\n",
    "\n",
    "for f in filter:\n",
    "    print(globals()['{}'.format(f) ].info())\n",
    "    print('------------------------------------------------')"
   ]
  },
  {
   "cell_type": "code",
   "execution_count": null,
   "metadata": {
    "ExecuteTime": {
     "end_time": "2022-10-28T01:36:36.502485Z",
     "start_time": "2022-10-28T01:36:36.105107Z"
    },
    "code_folding": [
     0
    ],
    "colab": {
     "base_uri": "https://localhost:8080/"
    },
    "id": "9Iq4Sci47zFB",
    "outputId": "782ff9b7-fee4-44ea-d7b2-dd319ed5bf5f",
    "scrolled": false
   },
   "outputs": [],
   "source": [
    "# 각 필터 fits 파일 헤더, 데이터 상세 정보\n",
    "\n",
    "for f in filter:\n",
    "    globals()['hdr_{}'.format(f) ] = globals()[ '{}'.format(f) ][0].header # 헤더 정보\n",
    "    globals()['dt_{}'.format(f) ] = globals()[ '{}'.format(f) ][0].data # 데이터 정보\n",
    "\n",
    "print(hdr_u)\n",
    "print('--------------------------------------------------')\n",
    "print(dt_u) "
   ]
  },
  {
   "cell_type": "code",
   "execution_count": null,
   "metadata": {
    "ExecuteTime": {
     "end_time": "2022-10-28T01:36:37.181329Z",
     "start_time": "2022-10-28T01:36:36.753949Z"
    },
    "code_folding": [
     2
    ]
   },
   "outputs": [],
   "source": [
    "# 각 필터 fits 파일 데이터 통계 정보\n",
    "\n",
    "for f in filter:\n",
    "    print('데이터 구조_'+f+':', globals()[ 'dt_{}'.format(f) ].shape) # 행렬\n",
    "    print('데이터 최소값_'+f+':', np.min( globals()[ 'dt_{}'.format(f)])) # 최소값\n",
    "    print('데이터 최대값_'+f+':', np.max( globals()[ 'dt_{}'.format(f)])) # 최대값\n",
    "    print('데이터 평균_'+f+':', np.mean( globals()[ 'dt_{}'.format(f)])) # 평균값\n",
    "    print('데이터 중앙값_'+f+':', np.median( globals()[ 'dt_{}'.format(f)])) # 중앙값\n",
    "    print('데이터 표준편차값_'+f+':', np.std( globals()[ 'dt_{}'.format(f) ])) # 표준준편차값\n",
    "    print('--------------------------------------------')"
   ]
  },
  {
   "cell_type": "markdown",
   "metadata": {
    "id": "m86jVgZmjlKG"
   },
   "source": [
    "### **이미지 시각화**"
   ]
  },
  {
   "cell_type": "markdown",
   "metadata": {},
   "source": [
    "* 분석하려는 은하의 fits 파일에 담긴 적경, 적위 위치 좌표를 컴퓨터가 이미지로써 인식이 가능하도록 픽셀 좌표로 변환합니다. \n",
    "* fits 파일의 원본 전체 이미지 속에서 분석하려는 은하의 위치를 확인합니다. "
   ]
  },
  {
   "cell_type": "code",
   "execution_count": null,
   "metadata": {
    "ExecuteTime": {
     "end_time": "2022-10-28T01:36:40.127089Z",
     "start_time": "2022-10-28T01:36:40.009029Z"
    },
    "code_folding": [
     0
    ],
    "run_control": {
     "marked": false
    }
   },
   "outputs": [],
   "source": [
    "# 각 필터 fits 파일 천체 이미지의 중심 픽셀 및 천문 좌표 정보\n",
    "\n",
    "for f in filter:\n",
    "    globals()[ 'wcs_{}'.format(f) ] = WCS(globals()[ 'hdr_{}'.format(f) ])\n",
    "    print( 'wcs_'+f+':', globals()[ 'wcs_{}'.format(f) ] )\n",
    "    print( '-----------------------------------------' )"
   ]
  },
  {
   "cell_type": "code",
   "execution_count": null,
   "metadata": {
    "ExecuteTime": {
     "end_time": "2022-10-28T01:36:41.283410Z",
     "start_time": "2022-10-28T01:36:41.260766Z"
    },
    "code_folding": [
     0
    ],
    "run_control": {
     "marked": true
    }
   },
   "outputs": [],
   "source": [
    "# 각 필터 fits 파일 관찰 대상의 천문 좌표를 픽셀 좌표로 변경한 정보\n",
    "\n",
    "if ring_num == 1401: # 1401 고리은하의 천문 좌표 -> 픽셀 좌표 변환\n",
    "    for f in filter:\n",
    "        ob_wcs = [213.3, 8.8]\n",
    "        globals()['ob_pix_{}'.format(f)] = [350,1037]\n",
    "        print('ob_pix_'+f+':', globals()['ob_pix_{}'.format(f) ][0], globals()[ 'ob_pix_{}'.format(f) ][1])\n",
    "elif ring_num == 1450: # 1450 고리은하의 천문 좌표 -> 픽셀 좌표 변환\n",
    "    for f in filter:\n",
    "        ob_wcs = [228.3, 5.7]\n",
    "        globals()['ob_pix_{}'.format(f)] = [729, 1124]\n",
    "        print('ob_pix_'+f+':', globals()['ob_pix_{}'.format(f) ][0], globals()[ 'ob_pix_{}'.format(f) ][1])\n",
    "else: # 그 외 모든 고리은하 천문 좌표 -> 픽셀 좌표 변환   \n",
    "    ob_wcs1 = ring_ra \n",
    "    ob_wcs2 = ring_dec\n",
    "    print('적경(ra):', ob_wcs1)\n",
    "    print('적위(dec):', ob_wcs2)\n",
    "    ob_wcs = [ob_wcs1, ob_wcs2]\n",
    "    for f in filter:\n",
    "        globals()['ob_pix_{}'.format(f)] = np.around(globals()['wcs_{}'.format(f)].world_to_pixel_values(ob_wcs[0], ob_wcs[1] )).astype('int32')\n",
    "        print('픽셀 좌표_'+f+':', globals()[ 'ob_pix_{}'.format(f)][0], globals()['ob_pix_{}'.format(f)][1])"
   ]
  },
  {
   "cell_type": "code",
   "execution_count": null,
   "metadata": {
    "ExecuteTime": {
     "end_time": "2022-10-28T01:36:58.157186Z",
     "start_time": "2022-10-28T01:36:51.053873Z"
    },
    "code_folding": [
     0
    ],
    "scrolled": false
   },
   "outputs": [],
   "source": [
    "# 전체 이미지 시각화\n",
    "\n",
    "for f in filter: # 이미지 밝기 백분율\n",
    "    globals()['max_value_{}'.format(f)] = np.percentile(globals()[ 'dt_{}'.format(f) ], 99.8) # 최대갓 백분율\n",
    "    globals()['min_value_{}'.format(f)] = np.percentile(globals()[ 'dt_{}'.format(f) ], 15) # 최솟값 백분율\n",
    "\n",
    "fig = plt.figure(figsize = (20,18)) # 전체 이미지 크기\n",
    "n = 1\n",
    "for f in filter:\n",
    "    ax = fig.add_subplot(4,3,n, projection = wcs_u) # 천문좌표 중심 이미지 시각화\n",
    "    im1 = plt.imshow(globals()['dt_{}'.format(f)], cmap = 'gray_r', vmax = globals()['max_value_{}'.format(f)], vmin = globals()['min_value_{}'.format(f)], origin = 'lower') # 전체 이미지\n",
    "    ax.scatter(ob_wcs[0], ob_wcs[1], transform = ax.get_transform('fk5'), s = 300, edgecolor = 'red', facecolor = 'none', linewidth = 2) # 고리은하 위치 표시\n",
    "    plt.grid(color = 'white', ls = '--') \n",
    "    plt.colorbar(im1) \n",
    "    plt.title(f +'_ra '+str(ob_wcs[0])+', dec '+str(ob_wcs[1])) \n",
    "    \n",
    "    ax = fig.add_subplot(4,3,n+6) # 픽셀 좌표 중심 이미지 시각화\n",
    "    im2 = plt.imshow( globals()['dt_{}'.format(f)], cmap = 'gray_r', vmax = globals()['max_value_{}'.format(f)], vmin = globals()[ 'min_value_{}'.format(f)], origin = 'lower') # 전체 이미지\n",
    "    plt.plot( globals()['ob_pix_{}'.format(f)][0], globals()[ 'ob_pix_{}'.format(f)][1], 'o', ms = 20, mec='red', mfc='none', linewidth=5) # 고리은하 위치 표시\n",
    "    plt.grid(color = 'white', ls = '--') \n",
    "    plt.colorbar(im2) # 컬러바\n",
    "    plt.title(f +'_pix '+str( globals()['ob_pix_{}'.format(f)][0])+', '+str( globals()['ob_pix_{}'.format(f)][1])) \n",
    "    n+=1\n",
    "plt.show()"
   ]
  },
  {
   "cell_type": "markdown",
   "metadata": {
    "id": "ucHFN0OJleYR"
   },
   "source": [
    "# **데이터 처리**"
   ]
  },
  {
   "cell_type": "markdown",
   "metadata": {
    "id": "MZXLRtyklh1J"
   },
   "source": [
    "## **데이터 변환**"
   ]
  },
  {
   "cell_type": "markdown",
   "metadata": {
    "id": "5QEX9nPhlzfy"
   },
   "source": [
    "### **이미지 변환**"
   ]
  },
  {
   "cell_type": "markdown",
   "metadata": {},
   "source": [
    "* 원본 전체 이미지 중 분석하려는 은하만 포착하고 시각화 합니다.\n",
    "* 이때 분석하기에 적합하도록 은하 이미지를 300 x 300 픽셀 이하의 정사각형 구조로 적절히 입력합니다. 기본값을 통한 자동 조절을 원하시면 엔터를 누르십시오."
   ]
  },
  {
   "cell_type": "code",
   "execution_count": null,
   "metadata": {
    "ExecuteTime": {
     "end_time": "2022-10-28T01:37:57.790698Z",
     "start_time": "2022-10-28T01:37:57.215514Z"
    },
    "code_folding": [
     0
    ],
    "run_control": {
     "marked": true
    },
    "scrolled": false
   },
   "outputs": [],
   "source": [
    "# 원본 전체 이미지 중 분석 대상 은하만 포착 및 시각화\n",
    "\n",
    "vmax = 90. \n",
    "vmin = 15. \n",
    "print('max_percetile:', vmax)\n",
    "print('min_percetile:', vmin)\n",
    "\n",
    "fig = plt.figure(figsize = (14,9))\n",
    "n = 1\n",
    "for f in filter:\n",
    "    globals()['max_value_{}_temp'.format(f)] = np.percentile(globals()['dt_{}'.format(f) ], vmax)\n",
    "    globals()['min_value_{}_temp'.format(f)] = np.percentile(globals()['dt_{}'.format(f) ], vmin)\n",
    "    ax = fig.add_subplot( 2,3,n )\n",
    "    plt.imshow(globals()['dt_{}'.format(f)], cmap = 'gray_r', vmax = globals()['max_value_{}'.format(f)], vmin = globals()['min_value_{}'.format(f)], origin = 'lower')\n",
    "    plt.grid(color = 'white', ls = '--')\n",
    "    plt.colorbar()\n",
    "    plt.xlim(globals()['ob_pix_{}'.format(f) ][0]-150, globals()['ob_pix_{}'.format(f) ][0]+150) # 고리은하 중심 x축 300픽셀\n",
    "    plt.ylim(globals()['ob_pix_{}'.format(f) ][1]-150, globals()['ob_pix_{}'.format(f) ][1]+150) # 고리은하 중심 y축 300픽셀\n",
    "    plt.title(f+'_pix '+str(globals()['ob_pix_{}'.format(f)][0])+', '+str(globals()['ob_pix_{}'.format(f)][1]))\n",
    "    n+=1\n",
    "plt.show()"
   ]
  },
  {
   "cell_type": "code",
   "execution_count": null,
   "metadata": {
    "ExecuteTime": {
     "end_time": "2022-10-28T01:38:05.176993Z",
     "start_time": "2022-10-28T01:38:00.737199Z"
    },
    "code_folding": [
     0
    ],
    "run_control": {
     "marked": true
    },
    "scrolled": false
   },
   "outputs": [],
   "source": [
    "# 원본 축소 조절 값 일력 및 결과 통계 수치로 확인 & 시각화\n",
    "\n",
    "try: # 분석하고자 하는 픽셀구조 입력 (기본값은 300 픽셀 * 300 픽셀)\n",
    "    shape_x, shape_y = map(int, input('쉼표(,)를 이용해 분석에 적합하도록 정사각형의 픽셀 구조를 입력하세요. 기본값을 통한 자동 조절을 원하시면 엔터를 누르십시오.(기본값: 300, 300): ').split(',')) \n",
    "    print('입력한 이미지 픽셀 구조: ', shape_x, shape_y)\n",
    "except:\n",
    "    shape_x = 300\n",
    "    shape_y = 300\n",
    "    print('기본값에 의한 이미지 픽셀 구조:', shape_x, shape_y)\n",
    "\n",
    "print('------- 분석하려는 은하가 모퉁이에 있는 경우 컴퓨터의 자동계산에 의해 입력한 픽셀 구조 보다 작게 될 수 있습니다. --------')\n",
    "\n",
    "all_shape = []    \n",
    "for f in filter:\n",
    "    for i in reversed(range(50, shape_x+10, 10)): # 은하가 모퉁이에 있으면 이미지가 짤리기 때문에, 이미지가 정사각형이 되게끔  x축과 y축이 같아 질때 까지 짝수 단위로 축소 \n",
    "        globals()['ob_dt_{}'.format(f)] = globals()['dt_{}'.format(f)][globals()['ob_pix_{}'.format(f)][1] - int(i/2) : globals()['ob_pix_{}'.format(f) ][1] + int(i/2), globals()['ob_pix_{}'.format(f)][0] - int(i/2) : globals()['ob_pix_{}'.format(f)][0] + int(i/2)]\n",
    "        if globals()['ob_dt_{}'.format(f)].shape[0] == globals()['ob_dt_{}'.format(f)].shape[1]:\n",
    "            all_shape.append(globals()['ob_dt_{}'.format(f)].shape)\n",
    "            break\n",
    "            \n",
    "shape1 = np.min(all_shape) \n",
    "shape2 = np.min(all_shape)\n",
    "\n",
    "center = [int(shape1/2), int(shape2/2)] # 이미지의 중심 좌표 출력(이미지가 정사각형이니 x축 중심, y축 중심 같음)\n",
    "print('초기 이미지 중심 좌표:', center)\n",
    "    \n",
    "for f in filter: # 탐색된 정사각형 행렬로 이미지 조정\n",
    "    globals()['ob_dt_{}'.format(f)] = globals()['dt_{}'.format(f)][globals()['ob_pix_{}'.format(f)][1] - int(shape1/2) : globals()['ob_pix_{}'.format(f)][1] + int(shape1/2), globals()['ob_pix_{}'.format(f)][0] - int(shape2/2) : globals()['ob_pix_{}'.format(f)][0] + int(shape2/2)] \n",
    "    print('이미지 픽셀 구조_'+f+':', globals()[ 'ob_dt_{}'.format(f) ].shape) \n",
    "        \n",
    "# 그림\n",
    "vmax = 90.\n",
    "vmin = 15.\n",
    "print('max_percetile:', vmax)\n",
    "print('min_percetile:', vmin)\n",
    "\n",
    "fig = plt.figure(figsize = (14,9))\n",
    "n = 1\n",
    "for f in filter:\n",
    "    globals()['max_value_{}'.format(f)] = np.percentile(globals()['ob_dt_{}'.format(f)], vmax)\n",
    "    globals()['min_value_{}'.format(f)] = np.percentile(globals()['ob_dt_{}'.format(f)], vmin)\n",
    "    ax = fig.add_subplot( 2,3,n )\n",
    "    plt.imshow(globals()['ob_dt_{}'.format(f)], cmap = 'gray_r', vmax = globals()['max_value_{}'.format(f)], vmin = globals()['min_value_{}'.format(f)], origin = 'lower')\n",
    "    plt.plot(center[1], center[0], '+', ms = 10, mec='red', mfc='red', linewidth=2)\n",
    "    plt.grid(color = 'white', ls = '--')\n",
    "    plt.colorbar()\n",
    "    plt.title(f+'_pix '+str(center[0])+', '+str(center[1]))\n",
    "    n+=1\n",
    "plt.show()"
   ]
  },
  {
   "cell_type": "markdown",
   "metadata": {
    "ExecuteTime": {
     "end_time": "2021-09-23T16:36:39.965921Z",
     "start_time": "2021-09-23T16:36:39.958917Z"
    }
   },
   "source": [
    "## **배경 하늘의 밝기 제거(skysub)**"
   ]
  },
  {
   "cell_type": "markdown",
   "metadata": {},
   "source": [
    "### **배경 하늘 평균 값 추정**"
   ]
  },
  {
   "cell_type": "markdown",
   "metadata": {},
   "source": [
    "* 배경 하늘 값 추정은 두 가지 방식으로 이루어집니다.\n",
    "* 첫 번째는 이미지를 36개의 구역으로 균등하게 나눠, 평균 값이 가장 적은 5개 구역을 선별하고 그것을 평균화하여 배경 하늘 값을 추정합니다. \n",
    "  이를 '5개 최소구역평균 배경하늘 값' 이라고 명명합니다.\n",
    "* 두 번째는 이미지에서 신호 대 잡음비(Signal Noise Ratio, SNR)가 1.017배가 넘는 천체는 마스킹을 한 뒤 그 나머지를 평균화 하여 배경 하늘 값을 추정합니다.\n",
    "  이를 '천체마스킹평균 배경하늘 값'이라고 명명합니다.  "
   ]
  },
  {
   "cell_type": "code",
   "execution_count": null,
   "metadata": {
    "ExecuteTime": {
     "end_time": "2022-10-28T01:38:12.453975Z",
     "start_time": "2022-10-28T01:38:12.421582Z"
    },
    "code_folding": [
     0
    ],
    "run_control": {
     "marked": true
    }
   },
   "outputs": [],
   "source": [
    "# 각 필터의 이미지를 36개의 구역으로 균등하게 나눠, 평균 값이 가장 적은 5개 구역을 선별, 5개 구역의 평균으로 배경 하늘 값 추정\n",
    "\n",
    "f_1 = 'i'\n",
    "for f in filter:\n",
    "    globals()['partition_{}'.format(f)] = []\n",
    "    globals()['noise_mean_{}'.format(f)] = []\n",
    "\n",
    "n = 1\n",
    "for f in filter:\n",
    "    for j in range(0,6):\n",
    "        for k in range(0,6):\n",
    "            globals()['partition_noise_{}'.format(f)] = globals()['ob_dt_{}'.format(f)][int(shape1/6)*j : int(shape1/6)*(j+1), int(shape2/6)*k : int(shape2/6)*(k+1)]\n",
    "            globals()['partition_noisemean_{}'.format(f)] = np.mean(globals()['partition_noise_{}'.format(f)])\n",
    "            globals()['partition_{}'.format(f)].append(globals()['partition_noise_{}'.format(f)])\n",
    "            globals()['noise_mean_{}'.format(f)].append(globals()['partition_noisemean_{}'.format(f)])\n",
    "            n += 1\n",
    "\n",
    "for f in filter:\n",
    "    globals()['nosie_mean_least5_{}'.format(f)] = np.sort(globals()['noise_mean_{}'.format(f)][0:5])\n",
    "    globals()['sky_nosie_mean_least5_mean_{}'.format(f)] = np.mean(globals()['nosie_mean_least5_{}'.format(f)])\n",
    "    print('5개 구역의 평균 하늘 값_' + f + ':' , globals()['nosie_mean_least5_{}'.format(f)])\n",
    "    print('5개 구역의 평균 하늘 값을 평균화 한 값_' + f + ':', globals()['sky_nosie_mean_least5_mean_{}'.format(f)])\n",
    "    print('------------------------------------------')"
   ]
  },
  {
   "cell_type": "code",
   "execution_count": null,
   "metadata": {
    "ExecuteTime": {
     "end_time": "2022-10-28T01:38:26.675631Z",
     "start_time": "2022-10-28T01:38:23.432408Z"
    },
    "code_folding": [
     0
    ],
    "run_control": {
     "marked": true
    }
   },
   "outputs": [],
   "source": [
    "# I 필터 기준 이미지에서 snr이 1.017배가 넘는 천체는 마스킹을 한 뒤 그 나머지를 모두 배경 하늘 값으로 추정\n",
    "\n",
    "# 배경 하늘 값 추출시 제외 영역\n",
    "snr = 1.017\n",
    "globals()['exc_ob_{}'.format(f_1)] = np.where( globals() [ 'ob_dt_{}'.format(f_1) ] >= globals()['sky_nosie_mean_least5_mean_{}'.format(f_1)] * snr )\n",
    "print(str(f_1)+' filter 잡음 영역 평균'+'('+str(globals()['sky_nosie_mean_least5_mean_{}'.format(f_1)])+')'+'*SNR'+'('+str(snr)+'):', globals()['sky_nosie_mean_least5_mean_{}'.format(f_1)] * snr )\n",
    "print( '-----------------------------------------' )\n",
    "\n",
    "exc_ob_cor= globals()['exc_ob_{}'.format(f_1)]\n",
    "exc_ob_rad= 10\n",
    "print('제외한 천체(객체)들의 반경(픽셀):', exc_ob_rad)\n",
    "print( '-----------------------------------------' ) \n",
    "        \n",
    "# 배경 하늘 값 추출시 제외 영역 마스크 지정\n",
    "exc_mask_reg = []\n",
    "exc_aperture_reg = []\n",
    "n = 1\n",
    "for j,k in zip(exc_ob_cor[1], exc_ob_cor[0]):\n",
    "    exc_center = PixCoord(j, k)\n",
    "    #print('%d_[x,y,r]:'%n, j, k, exc_ob_rad )\n",
    "    exc_aperture = CirclePixelRegion(exc_center, exc_ob_rad)\n",
    "    exc_mask = exc_aperture.to_mask(mode = 'center')\n",
    "    exc_aperture_reg.append(exc_aperture)\n",
    "    exc_mask_reg.append(exc_mask.bbox)\n",
    "    n += 1\n",
    "\n",
    "# 데이터 사본(copy) 생성\n",
    "for f in filter:\n",
    "    globals()['ob_dt_{}_c'.format(f)] = globals()['ob_dt_{}'.format(f)].copy()\n",
    "\n",
    "# 배경 하늘 값 추출시 제외한 영역 0 변환(마스킹) 및 배경 하늘 값 평균\n",
    "for f in filter:\n",
    "    globals()['ob_dt_{}_c'.format(f)] = globals()['ob_dt_{}'.format(f)].copy()\n",
    "    for i in range(len(exc_mask_reg)): \n",
    "        globals()['ob_dt_{}_c'.format(f)][exc_mask_reg[i].iymin : exc_mask_reg[i].iymax + 1, exc_mask_reg[i].ixmin : exc_mask_reg[i].ixmax + 1] = 0.\n",
    "        globals()['sky_{}'.format(f)] = np.mean(np.true_divide(globals()['ob_dt_{}_c'.format(f)].sum(1),(globals()['ob_dt_{}_c'.format(f)]!= 0.).sum(1)))\n",
    "    print('하늘 값_' + f + ':', globals()['sky_{}'.format(f)])\n",
    "print('--------------------------------------')    \n",
    "    \n",
    "vmax = 90.\n",
    "vmin = 15.\n",
    "print('max_percetile:', vmax)\n",
    "print('min_percetile:', vmin)\n",
    "    \n",
    "# 그림(i필터만)\n",
    "fig = plt.figure( figsize = (10,4) )\n",
    "globals()[ 'max_value_{}_temp'.format(f_1) ] = np.percentile( globals()[ 'ob_dt_{}'.format(f_1) ], vmax )\n",
    "globals()[ 'min_value_{}_temp'.format(f_1) ] = np.percentile( globals()[ 'ob_dt_{}'.format(f_1) ], vmin )\n",
    "ax = fig.add_subplot(1,2,1)\n",
    "plt.imshow(globals()['ob_dt_{}'.format(f_1)], cmap = 'gray_r', vmax = globals()['max_value_{}_temp'.format(f_1)], vmin = globals()[ 'min_value_{}_temp'.format(f_1)], origin = 'lower')\n",
    "plt.plot(globals()['exc_ob_{}'.format(f_1)][1], globals()['exc_ob_{}'.format(f_1)][0], 'o', ms = 2, mec='red', mfc='red', linewidth=1)\n",
    "plt.grid(color = 'white', ls = '--')\n",
    "plt.colorbar()\n",
    "plt.title(f_1 + '_exception_region')\n",
    "\n",
    "ax = fig.add_subplot(1,2,2)\n",
    "plt.imshow(globals()['ob_dt_{}'.format(f_1)], cmap = 'gray_r', vmax = globals()['max_value_{}_temp'.format(f_1)], vmin = globals()[ 'min_value_{}_temp'.format(f_1)], origin = 'lower')\n",
    "for m, o in zip(range(len(exc_mask_reg)), range(len(exc_aperture_reg))):\n",
    "    ax.add_artist(exc_mask_reg[m].as_artist(facecolor='none', edgecolor='white', linewidth=2))\n",
    "    ax.add_artist(exc_aperture_reg[o].as_artist(facecolor='none', edgecolor='orange', linewidth=2))  \n",
    "plt.grid(color = 'white', ls = '--')\n",
    "plt.colorbar()\n",
    "plt.title(f_1 + '_exception_region_mask')\n",
    "plt.show()"
   ]
  },
  {
   "cell_type": "markdown",
   "metadata": {},
   "source": [
    "### **배경 하늘의 밝기가 제거된 하늘 값 추출**"
   ]
  },
  {
   "cell_type": "markdown",
   "metadata": {},
   "source": [
    "* 배경 하늘의 밝기가 제거된 하늘 값 추출(skysub)은 은하만의 고유 밝기를 알기 위한 작업입니다. 이를 위해 '원본 이미지'에서 '배경 하늘 값'을 빼며 알고리즘은 다음의 규칙으로 작동합니다.\n",
    "* 먼저 '원본 이미지'와 '천체마스킹평균 배경하늘 값'을 뺀 것을 우선으로 사용합니다.\n",
    "* 그런데 그 과정에서 Nan이 발생하면(너무 많이 마스킹하면 Nan 발생), '원본 이미지'와 '5개 최소구역평균 배경하늘 값'을 뺀 것을 사용합니다."
   ]
  },
  {
   "cell_type": "code",
   "execution_count": null,
   "metadata": {
    "ExecuteTime": {
     "end_time": "2022-10-28T01:39:05.942303Z",
     "start_time": "2022-10-28T01:39:05.890918Z"
    },
    "code_folding": [
     0
    ],
    "run_control": {
     "marked": false
    }
   },
   "outputs": [],
   "source": [
    "# 배경 하늘의 밝기가 제거된 하늘 값 추출(skysub)\n",
    "\n",
    "my_skysub_u = []\n",
    "my_skysub_g = []\n",
    "my_skysub_r = []\n",
    "my_skysub_i = []\n",
    "my_skysub_z = []\n",
    "\n",
    "if math.isnan(globals()['sky_{}'.format(f)]) == False:\n",
    "    for f in filter: # 배경 하늘의 밝기가 제거된 하늘 값 추출시 제외영역의 통계값이 nan 값이 아니면, '천체마스킹평균 배경하늘 값'을 배경 하늘 평균값으로 사용 \n",
    "        globals()['skysub_{}'.format(f)] = (globals()['ob_dt_{}'.format(f)] - globals()['sky_{}'.format(f)]) # 배경 하늘의 밝기가 제거된 하늘 값 = 원본 값 - 배경 하늘 평균값\n",
    "        print(\"배경 하늘의 밝기가 제거된 하늘 값 추출시 제외 영역의 통계값이 nan 값이 아니므로 \" + str(f) + \" 필터의 천체마스킹평균 배경하늘 값이 이 계산에 사용됨\")\n",
    "else:\n",
    "    for f in filter: # 배경 하늘의 밝기가 제거된 하늘 값 추출시 제외영역의 통계값이 nan 값이면, '5개 최소구역평균 배경하늘 값' 을  배경 하늘 평균값으로 사용\n",
    "        globals()['skysub_{}'.format(f)] = (globals()['ob_dt_{}'.format(f)] - globals()['sky_nosie_mean_least5_mean_{}'.format(f)]) # 배경 하늘의 밝기가 제거된 하늘 값 = 원본 값 - 배경 하늘 평균값\n",
    "        print(\"배경 하늘의 밝기가 제거된 하늘 값 추출시 제외 영역의 통계값이 nan 값이므로 \"+ str(f) + \" 필터의 5개 최소구역평균 배경하늘 값이 이 계산에 사용됨\")\n",
    "\n",
    "for f in filter:\n",
    "    if f == 'u':\n",
    "        my_skysub_u.append(np.min(globals()['skysub_{}'.format(f)]))\n",
    "        my_skysub_u.append(np.max(globals()['skysub_{}'.format(f)]))\n",
    "        my_skysub_u.append(np.mean(globals()['skysub_{}'.format(f)]))\n",
    "        my_skysub_u.append(np.median(globals()['skysub_{}'.format(f)]))\n",
    "        my_skysub_u.append(np.std(globals()['skysub_{}'.format(f)]))\n",
    "    elif f == 'g':\n",
    "        my_skysub_g.append(np.min(globals()['skysub_{}'.format(f)]))\n",
    "        my_skysub_g.append(np.max(globals()['skysub_{}'.format(f)]))\n",
    "        my_skysub_g.append(np.mean(globals()['skysub_{}'.format(f)]))\n",
    "        my_skysub_g.append(np.median(globals()['skysub_{}'.format(f)]))\n",
    "        my_skysub_g.append(np.std(globals()['skysub_{}'.format(f)]))\n",
    "    elif f == 'r':\n",
    "        my_skysub_r.append(np.min(globals()['skysub_{}'.format(f)]))\n",
    "        my_skysub_r.append(np.max(globals()['skysub_{}'.format(f)]))\n",
    "        my_skysub_r.append(np.mean(globals()['skysub_{}'.format(f)]))\n",
    "        my_skysub_r.append(np.median(globals()['skysub_{}'.format(f)]))\n",
    "        my_skysub_r.append(np.std(globals()['skysub_{}'.format(f)]))      \n",
    "    elif f == 'i':\n",
    "        my_skysub_i.append(np.min(globals()['skysub_{}'.format(f)]))\n",
    "        my_skysub_i.append(np.max(globals()['skysub_{}'.format(f)]))\n",
    "        my_skysub_i.append(np.mean(globals()['skysub_{}'.format(f)]))\n",
    "        my_skysub_i.append(np.median(globals()['skysub_{}'.format(f)]))\n",
    "        my_skysub_i.append(np.std(globals()['skysub_{}'.format(f)]))\n",
    "    else:\n",
    "        my_skysub_z.append(np.min(globals()['skysub_{}'.format(f)]))\n",
    "        my_skysub_z.append(np.max(globals()['skysub_{}'.format(f)]))\n",
    "        my_skysub_z.append(np.mean(globals()['skysub_{}'.format(f)]))\n",
    "        my_skysub_z.append(np.median(globals()['skysub_{}'.format(f)]))\n",
    "        my_skysub_z.append(np.std(globals()['skysub_{}'.format(f)]))"
   ]
  },
  {
   "cell_type": "code",
   "execution_count": null,
   "metadata": {
    "ExecuteTime": {
     "end_time": "2022-10-28T01:39:10.013442Z",
     "start_time": "2022-10-28T01:39:09.958865Z"
    },
    "code_folding": [
     0
    ],
    "run_control": {
     "marked": true
    }
   },
   "outputs": [],
   "source": [
    "# 은하만의 밝기 산출 및 데이터 프레임 변환 및 csv 저장\n",
    "\n",
    "# 은하만의 밝기 산출 및 데이터 프레임 변환\n",
    "all_skysub = {\n",
    "    'min' : [my_skysub_u[0], my_skysub_g[0], my_skysub_r[0], my_skysub_i[0], my_skysub_z[0]], # 각 필터별 하늘의 상대적 세기 최소값\n",
    "    'max' : [my_skysub_u[1], my_skysub_g[1], my_skysub_r[1], my_skysub_i[1], my_skysub_z[1]], # 각 필터별 하늘의 상대적 세기 최대값\n",
    "    'mean' : [my_skysub_u[2], my_skysub_g[2], my_skysub_r[2], my_skysub_i[2], my_skysub_z[2]], # 각 필터별 하늘의 상대적 세기 평균값\n",
    "    'median' : [my_skysub_u[3], my_skysub_g[3], my_skysub_r[3], my_skysub_i[3], my_skysub_z[3]], # 각 필터별 하늘의 상대적 세기 중앙값\n",
    "    'stdev' : [my_skysub_u[4], my_skysub_g[4], my_skysub_r[4], my_skysub_i[4], my_skysub_z[4]], # 각 필터별 하늘의 상대적 세기 표준편차값\n",
    "    }\n",
    "columns = ['min', 'max', 'mean', 'median', 'stdev']\n",
    "index = ['u', 'g', 'r', 'i', 'z']\n",
    "skysub_frame = pd.DataFrame(all_skysub, index = index, columns=columns).round(3)\n",
    "skysub_frame.index.name ='filter'\n",
    "display(skysub_frame)\n",
    "\n",
    "# csv 파일 저장\n",
    "save_file_name = str(ring_num)+'_1_skysub.csv'\n",
    "skysub_frame.to_csv(save_path + save_file_name, header=True, index=False)"
   ]
  },
  {
   "cell_type": "code",
   "execution_count": null,
   "metadata": {
    "ExecuteTime": {
     "end_time": "2022-10-28T01:39:12.405450Z",
     "start_time": "2022-10-28T01:39:12.163926Z"
    },
    "code_folding": [
     0
    ]
   },
   "outputs": [],
   "source": [
    "# 배경 하늘의 밝기가 제거된 하늘 값 추출 그림 시각화 \n",
    "\n",
    "vmax = 90.\n",
    "vmin = 15.\n",
    "print('max_percetile:', vmax)\n",
    "print('min_percetile:', vmin)\n",
    "\n",
    "# 그림\n",
    "fig = plt.figure( figsize = (14,9) )  \n",
    "n = 1\n",
    "for f in filter:\n",
    "    globals()['max_value_{}'.format(f)] = np.percentile(globals()['skysub_{}'.format(f)], vmax)\n",
    "    globals()['min_value_{}'.format(f)] = np.percentile(globals()['skysub_{}'.format(f)], vmin)\n",
    "    ax = fig.add_subplot(2,3,n)\n",
    "    plt.imshow(globals()['skysub_{}'.format(f)], cmap = 'gray_r', vmax = globals()['max_value_{}'.format(f)], vmin = globals()['min_value_{}'.format(f)], origin = 'lower')\n",
    "    plt.plot(center[1], center[0], '+', ms = 10, mec='red', mfc='red', linewidth=2)\n",
    "    plt.grid(color = 'white', ls = '--')\n",
    "    plt.colorbar()\n",
    "    plt.title(f + '_sky_sub')\n",
    "    n += 1\n",
    "plt.show()"
   ]
  },
  {
   "cell_type": "markdown",
   "metadata": {},
   "source": [
    "## **데이터 다림질(Smoothing)**"
   ]
  },
  {
   "cell_type": "markdown",
   "metadata": {},
   "source": [
    "### **커털 표준편차와 모드를 사용한 다림질 옵션 조정**"
   ]
  },
  {
   "cell_type": "markdown",
   "metadata": {},
   "source": [
    "* 데이터 다림질은 잡음과 섞인 이미지의 신호를 정규분포 형태로 부드럽게 바꿔주는 작업입니다.\n",
    "* 다림질의 옵션에는 가우시안 2D커널의 가우시안 표준편차와 커널 모드가 있습니다. 기본값으로 진행할시 엔터를 누르십시오.\n",
    "* 가우시안 표준편차가 클수록 등광도선이 더 부드럽고 단순해집니다.\n",
    "* 가우시안 커널 모드 포함 다림질에 대한 자세한 설명은 다음의 주소에서 확인하십시오. https://docs.astropy.org/en/stable/api/astropy.convolution.Gaussian2DKernel.html"
   ]
  },
  {
   "cell_type": "code",
   "execution_count": null,
   "metadata": {
    "ExecuteTime": {
     "end_time": "2022-10-28T01:39:34.468125Z",
     "start_time": "2022-10-28T01:39:34.425897Z"
    },
    "code_folding": [
     1
    ],
    "run_control": {
     "marked": false
    }
   },
   "outputs": [],
   "source": [
    "# 데이터 다림질 및 그 결과 데이터 프레임 변환 csv로 저장하는 함수 정의\n",
    "def smoothing(kernel_stddev = 0.9, kernel_mode = 'center', x_size = None, y_size = None, sub_u = skysub_u, sub_g = skysub_g, sub_r = skysub_r, sub_i = skysub_i, sub_z = skysub_z):\n",
    "\n",
    "    # 다림질\n",
    "    kernel = Gaussian2DKernel(kernel_stddev, mode = kernel_mode, x_size=x_size, y_size=y_size) #  다림질을 위한 가우시안2D 커널 표준편차 및 모드 지정   \n",
    "    print('가우시안2D 커널 표준편차:', kernel_stddev) #  다림질을 위한 가우시안2D 커널 표준편차\n",
    "    print('가우시안2D 커널 모드:', kernel_mode) # 다림질을 위한 커널 모드, 커널 종류: 'linear_interp', 'oversample', 'integrate'\n",
    "\n",
    "    # 결과\n",
    "    my_smo_u = []\n",
    "    my_smo_g = []\n",
    "    my_smo_r = []\n",
    "    my_smo_i = []\n",
    "    my_smo_z = []\n",
    " \n",
    "    smo_u = convolve(sub_u, kernel, nan_treatment='interpolate')\n",
    "    my_smo_u.append(np.min(smo_u))\n",
    "    my_smo_u.append(np.max(smo_u))\n",
    "    my_smo_u.append(np.mean(smo_u))\n",
    "    my_smo_u.append(np.median(smo_u))\n",
    "    my_smo_u.append(np.std(smo_u))\n",
    "    \n",
    "    smo_g = convolve(sub_g, kernel, nan_treatment='interpolate')\n",
    "    my_smo_g.append(np.min(smo_g))\n",
    "    my_smo_g.append(np.max(smo_g))\n",
    "    my_smo_g.append(np.mean(smo_g))\n",
    "    my_smo_g.append(np.median(smo_g))\n",
    "    my_smo_g.append(np.std(smo_g))    \n",
    "\n",
    "    smo_r = convolve(sub_r, kernel, nan_treatment='interpolate')\n",
    "    my_smo_r.append(np.min(smo_r))\n",
    "    my_smo_r.append(np.max(smo_r))\n",
    "    my_smo_r.append(np.mean(smo_r))\n",
    "    my_smo_r.append(np.median(smo_r))\n",
    "    my_smo_r.append(np.std(smo_r))    \n",
    "     \n",
    "        \n",
    "    smo_i = convolve(sub_i, kernel, nan_treatment='interpolate')\n",
    "    my_smo_i.append(np.min(smo_i))\n",
    "    my_smo_i.append(np.max(smo_i))\n",
    "    my_smo_i.append(np.mean(smo_i))\n",
    "    my_smo_i.append(np.median(smo_i))\n",
    "    my_smo_i.append(np.std(smo_i))\n",
    " \n",
    "    smo_z = convolve(sub_z, kernel, nan_treatment='interpolate')\n",
    "    my_smo_z.append(np.min(smo_z))\n",
    "    my_smo_z.append(np.max(smo_z))\n",
    "    my_smo_z.append(np.mean(smo_z))\n",
    "    my_smo_z.append(np.median(smo_z))\n",
    "    my_smo_z.append(np.std(smo_z))  \n",
    "        \n",
    "    # 데이터 다림질 값 산출 및 데이터 프레임 변환\n",
    "    all_smo = {\n",
    "        'min' : [my_smo_u[0], my_smo_g[0], my_smo_r[0], my_smo_i[0], my_smo_z[0]], # 각 필터별 다림질 최소값\n",
    "        'max' : [my_smo_u[1], my_smo_g[1], my_smo_r[1], my_smo_i[1], my_smo_z[1]], # 각 필터별 다림질 최대값\n",
    "        'mean' : [my_smo_u[2], my_smo_g[2], my_smo_r[2], my_smo_i[2], my_smo_z[2]], # 각 필터별 다림질 평균값\n",
    "        'median' : [my_smo_u[3], my_smo_g[3], my_smo_r[3], my_smo_i[3], my_smo_z[3]], # 각 필터별 다림질 중앙값\n",
    "        'stdev' : [my_smo_u[4], my_smo_g[4], my_smo_r[4], my_smo_i[4], my_smo_z[4]], # 각 필터별 다림질 표준편차값\n",
    "        }\n",
    "    columns = ['min', 'max', 'mean', 'median', 'stdev']\n",
    "    index = ['u', 'g', 'r', 'i', 'z']\n",
    "    smo_frame = pd.DataFrame(all_smo, index = index, columns=columns).round(3)\n",
    "    smo_frame.index.name ='filter'\n",
    "    display(smo_frame)\n",
    "    \n",
    "    # csv 파일 저장\n",
    "    save_file_name = str(ring_num)+'_2_smo.csv'\n",
    "    smo_frame.to_csv(save_path + save_file_name, header=True, index=False)\n",
    "    \n",
    "    return smo_u, smo_g, smo_r, smo_i, smo_z"
   ]
  },
  {
   "cell_type": "code",
   "execution_count": null,
   "metadata": {
    "ExecuteTime": {
     "end_time": "2022-10-28T01:39:39.742370Z",
     "start_time": "2022-10-28T01:39:36.132233Z"
    },
    "code_folding": [
     0
    ]
   },
   "outputs": [],
   "source": [
    "# 데이터 다림질\n",
    "kn_st = float(input(\"다림질의 커널 표준편차 값을 입력하세요. 기본값으로 진행할시 엔터를 누르십시오.(기본값: 0.9): \") or 0.9) \n",
    "kn_md = str(input(\"다림질의 커널 모드를 입력하세요. 기본값으로 진행할시 엔터를 누르십시오.(기본값: center, 커널 종류: linear_interp, oversample, integrate): \") or 'center')\n",
    "smo_u, smo_g, smo_r, smo_i, smo_z = smoothing(kernel_stddev=kn_st, kernel_mode=kn_md)"
   ]
  },
  {
   "cell_type": "code",
   "execution_count": null,
   "metadata": {
    "ExecuteTime": {
     "end_time": "2022-10-28T01:39:46.526725Z",
     "start_time": "2022-10-28T01:39:46.251072Z"
    },
    "code_folding": [
     0
    ],
    "run_control": {
     "marked": true
    }
   },
   "outputs": [],
   "source": [
    "# 다림질 그림 시각화\n",
    "\n",
    "vmax = 90.\n",
    "vmin = 15.\n",
    "print('max_percetile:', vmax)\n",
    "print('min_percetile:', vmin)\n",
    "\n",
    "# 그림\n",
    "fig = plt.figure( figsize = (14,9) ) \n",
    "n = 1\n",
    "for f in filter:\n",
    "    globals()['max_value_{}'.format(f)] = np.percentile(globals()['smo_{}'.format(f)], vmax)\n",
    "    globals()['min_value_{}'.format(f)] = np.percentile(globals()['smo_{}'.format(f)], vmin)\n",
    "\n",
    "    ax = fig.add_subplot(2,3,n)\n",
    "    plt.imshow(globals()['smo_{}'.format(f)], cmap = 'gray_r', vmax = globals()['max_value_{}'.format(f)], vmin = globals()['min_value_{}'.format(f)], origin = 'lower')\n",
    "    plt.plot(center[1], center[0], '+', ms = 10, mec='red', mfc='red', linewidth=2)\n",
    "    plt.grid(color = 'white', ls = '--')\n",
    "    plt.colorbar()\n",
    "    plt.title(f + '_smoothing')\n",
    "    n += 1\n",
    "plt.show()"
   ]
  },
  {
   "cell_type": "markdown",
   "metadata": {},
   "source": [
    "# **데이터 분석**"
   ]
  },
  {
   "cell_type": "markdown",
   "metadata": {},
   "source": [
    "## **타원 기하학 산출**"
   ]
  },
  {
   "cell_type": "markdown",
   "metadata": {},
   "source": [
    "### **이미지 중심좌표 보정 및 등광도선 설정**"
   ]
  },
  {
   "cell_type": "markdown",
   "metadata": {},
   "source": [
    "* photutils의 EllipseGeometry로 구해진 각 필터당 정확한 이미지 중심 좌표를 산출합니다."
   ]
  },
  {
   "cell_type": "code",
   "execution_count": null,
   "metadata": {
    "ExecuteTime": {
     "end_time": "2022-10-28T01:39:54.961842Z",
     "start_time": "2022-10-28T01:39:54.355001Z"
    },
    "code_folding": [],
    "run_control": {
     "marked": true
    }
   },
   "outputs": [],
   "source": [
    "# photutils의 EllipseGeometry로 구해진 각 필터당 정확한 이미지 중심 좌표\n",
    "\n",
    "geometry0 = EllipseGeometry(x0=center[1], y0=center[0], sma=20, eps=0.5, pa=-0.5) # EllipseGeometry의 초기값 지정\n",
    "for f in filter:\n",
    "    print(f)\n",
    "    geometry0.find_center(globals()['smo_{}'.format(f)]) # EllipseGeometry를 통해 이미지의 중심 좌표 찾기"
   ]
  },
  {
   "cell_type": "markdown",
   "metadata": {},
   "source": [
    "* 위에서 산출한 이미지 중심 좌표를 각 필터별로 정확히 입력하여 그 위치를 보정합니다."
   ]
  },
  {
   "cell_type": "code",
   "execution_count": null,
   "metadata": {
    "ExecuteTime": {
     "end_time": "2022-10-28T01:40:15.585685Z",
     "start_time": "2022-10-28T01:40:00.668777Z"
    },
    "code_folding": [
     0
    ],
    "run_control": {
     "marked": true
    }
   },
   "outputs": [],
   "source": [
    "# 위에서 출력된 정확한 이미지 중심 좌표 임력하기\n",
    "\n",
    "cen_u = [] # u 필터의 정확환 중심 좌표\n",
    "cen_g = [] # g 필터의 정확환 중심 좌표\n",
    "cen_r = [] # r 필터의 정확환 중심 좌표\n",
    "cen_i = [] # i 필터의 정확환 중심 좌표\n",
    "cen_z = [] # z 필터의 정확환 중심 좌표\n",
    "for f in filter:\n",
    "    cen_r1, cen_r2 = map(int, input(\"쉼표(,)를 이용해 위에서 산출한 %s 필터의 중심 좌표(x,y)를 입력하세요.(예:150,150): \"%f).split(',')) \n",
    "    globals()['cen_{}'.format(f)].append(cen_r1)\n",
    "    globals()['cen_{}'.format(f)].append(cen_r2)"
   ]
  },
  {
   "cell_type": "markdown",
   "metadata": {},
   "source": [
    "* 등광도선의 최소 백분위와 레벨을 조정합니다. 기본값으로 진행할시 엔터를 누르십시오.\n",
    "* 등광도선의 최소 백분위가 낮을수록 등광도선이 더 자세하게, 레벨은 높을수록 더 많이 등광도선이 그려집니다.\n",
    "* 은하 내부에 천체가 있는지, 은하 내부가 복잡한지 등 등광도선의 모습을 통해 은하의 상태를 확인합니다.\n",
    "* 은하 내부에 천체가 있는 이유는, 사실 시선 방향에 있던 별과 겹쳐서 마치 은하 내부에 천체가 있는 것처럼 이미지에 투영되었기 때문입니다. 즉, 은하 내부에는 별이 없습니다.\n",
    "* 은하 내부가 복잡한 이유는, 은하를 희미한 밝기를 더 많이 포착하기 위해 등광도선을 많이 그렸기 때문입니다. "
   ]
  },
  {
   "cell_type": "code",
   "execution_count": null,
   "metadata": {
    "ExecuteTime": {
     "end_time": "2022-10-28T01:46:52.499973Z",
     "start_time": "2022-10-28T01:46:50.131172Z"
    },
    "code_folding": [
     0
    ],
    "run_control": {
     "marked": true
    }
   },
   "outputs": [],
   "source": [
    "# 등광도선 최소 백분위, 레벨 조정\n",
    "\n",
    "min_per = int(input(\"등광도선의 최소 백분위를 입력하세요. 기본값으로 진행할시 엔터를 누르십시오.(기본값: 89): \") or 89)\n",
    "step_num = int(input(\"등광도선의 레벨을 입력하세요. 기본값으로 진행할시 엔터를 누르십시오.(기본값: 25): \") or 25)\n",
    "max_per = 99.9\n",
    "print('최고 백분위:', min_per)\n",
    "print('최소 백분위:', max_per)\n",
    "print('레벨:', step_num) \n",
    "for f in filter:\n",
    "    globals()['levels_{}'.format(f)] = np.linspace(np.percentile(globals()['smo_{}'.format(f)], min_per), np.percentile(globals()['smo_{}'.format(f)], max_per), step_num)"
   ]
  },
  {
   "cell_type": "code",
   "execution_count": null,
   "metadata": {
    "ExecuteTime": {
     "end_time": "2022-10-28T01:46:54.784472Z",
     "start_time": "2022-10-28T01:46:54.068688Z"
    },
    "code_folding": [
     0
    ],
    "run_control": {
     "marked": false
    }
   },
   "outputs": [],
   "source": [
    "# 이미지 등광도선 확인\n",
    "def image_contour_identification():\n",
    "    vmax = 90.\n",
    "    vmin = 15.\n",
    "\n",
    "    for f in filter:\n",
    "        globals()['max_value_{}_temp'.format(f)] = np.percentile( globals()['smo_{}'.format(f)], vmax)\n",
    "        globals()['min_value_{}_temp'.format(f)] = np.percentile( globals()['smo_{}'.format(f)], vmin)\n",
    "        globals()['max_{}'.format(f)] = np.max(globals()['smo_{}'.format(f)])\n",
    "\n",
    "    # 그림\n",
    "    fig = plt.figure( figsize = (17, 8) )\n",
    "\n",
    "    ax1 = fig.add_subplot(2,4,1)\n",
    "    im = plt.imshow(globals()['smo_{}'.format(filter[1])], cmap = 'gray_r', vmax = globals()['max_value_{}_temp'.format(filter[1])], vmin = globals()[ 'min_value_{}_temp'.format(filter[1])], origin = 'lower') #interpolation='nearest'\n",
    "    plt.colorbar(im)\n",
    "    ct = plt.contour(globals()['smo_{}'.format(filter[1])], levels = globals()['levels_{}'.format(filter[1])], origin = 'lower', colors = 'aqua', linewidths = 1.0)\n",
    "    plt.plot(globals()['cen_{}'.format(filter[1])][0], globals()['cen_{}'.format(filter[1])][1], '+', ms = 10, mec='red', mfc='red', linewidth=2)\n",
    "    plt.grid(color = 'white', ls = '--')\n",
    "    plt.title(filter[1] + '_reg')\n",
    "\n",
    "    ax2 = fig.add_subplot(2,4,2)\n",
    "    ct = plt.contour(globals()['smo_{}'.format(filter[1])], levels = globals()['levels_{}'.format(filter[1])], origin = 'lower', linewidths = 0.5, colors = 'black') #colors= colors,\n",
    "    #plt.xlim(globals()['cen_{}'.format(filter[1])][0]-50, globals()['cen_{}'.format(filter[1])][0]+50) # 이미지 확대를 위해 중심 기준 y축 방향 +-50 처리함\n",
    "    #plt.ylim(globals()['cen_{}'.format(filter[1])][1]-50, globals()['cen_{}'.format(filter[1])][1]+50) # 이미지 확대를 위해 중심 기준 y축 방향 +-50 처리함\n",
    "    plt.plot(globals()['cen_{}'.format(filter[1])][0], globals()['cen_{}'.format(filter[1])][1], '+', ms = 10, mec='red', mfc='red', linewidth=2)\n",
    "    plt.grid(color = 'white', ls = '--')\n",
    "    plt.title(filter[1] + '_reg, min_per: ' + str(min_per) + ', max_per: ' + str(max_per) + ', step: ' + str(step_num))\n",
    "    plt.show()\n",
    "\n",
    "    ax3 = fig.add_subplot(2,4,3)\n",
    "    im = plt.imshow(globals()['smo_{}'.format(filter[2])], cmap = 'gray_r', vmax = globals()['max_value_{}_temp'.format(filter[2])], vmin = globals()[ 'min_value_{}_temp'.format(filter[2])], origin = 'lower') #interpolation='nearest'\n",
    "    plt.colorbar(im)\n",
    "    ct = plt.contour(globals()['smo_{}'.format(filter[2])], levels = globals()['levels_{}'.format(filter[2])], origin = 'lower', colors = 'aqua', linewidths = 1.0)\n",
    "    plt.plot(globals()['cen_{}'.format(filter[2])][0], globals()['cen_{}'.format(filter[2])][1], '+', ms = 10, mec='red', mfc='red', linewidth=2)\n",
    "    plt.grid(color = 'white', ls = '--')\n",
    "    plt.title(filter[2] + '_reg')\n",
    "\n",
    "    ax4 = fig.add_subplot(2,4,4)\n",
    "    ct = plt.contour(globals()['smo_{}'.format(filter[2])], levels = globals()['levels_{}'.format(filter[2])], origin = 'lower', linewidths = 0.5, colors = 'black') #colors= colors,\n",
    "    #plt.xlim(globals()['cen_{}'.format(filter[2])][0]-50, globals()['cen_{}'.format(filter[2])][0]+50) # 이미지 확대를 위해 중심 기준 y축 방향 +-50 처리함\n",
    "    #plt.ylim(globals()['cen_{}'.format(filter[2])][1]-50, globals()['cen_{}'.format(filter[2])][1]+50) # 이미지 확대를 위해 중심 기준 y축 방향 +-50 처리함\n",
    "    plt.plot( globals()['cen_{}'.format(filter[2])][0],  globals()['cen_{}'.format(filter[2])][1], '+', ms = 10, mec='red', mfc='red', linewidth=2)\n",
    "    plt.grid(color = 'white', ls = '--')\n",
    "    plt.title(filter[2] + '_reg, min_per: ' + str(min_per) + ', max_per: ' + str(max_per) + ', step: ' + str(step_num))\n",
    "    plt.show()\n",
    "\n",
    "    ax5 = fig.add_subplot(2,4,5)\n",
    "    im = plt.imshow(globals()['smo_{}'.format(filter[3])], cmap = 'gray_r', vmax = globals()['max_value_{}_temp'.format(filter[3])], vmin = globals()[ 'min_value_{}_temp'.format(filter[3])], origin = 'lower') #interpolation='nearest'\n",
    "    plt.colorbar(im)\n",
    "    ct = plt.contour(globals()['smo_{}'.format(filter[3])], levels = globals()['levels_{}'.format(filter[3])], origin = 'lower', colors = 'aqua', linewidths = 1.0)\n",
    "    plt.plot( globals()['cen_{}'.format(filter[3])][0], globals()['cen_{}'.format(filter[3])][1], '+', ms = 10, mec='red', mfc='red', linewidth=2)\n",
    "    plt.grid(color = 'white', ls = '--')\n",
    "    plt.title(filter[3] + '_reg')\n",
    "\n",
    "    ax6 = fig.add_subplot(2,4,6)\n",
    "    ct = plt.contour(globals()['smo_{}'.format(filter[3])], levels = globals()['levels_{}'.format(filter[3])], origin = 'lower', linewidths = 0.5, colors = 'black') #colors= colors,\n",
    "    #plt.xlim(globals()['cen_{}'.format(filter[3])][0]-50, globals()['cen_{}'.format(filter[3])][0]+50) # 이미지 확대를 위해 중심 기준 y축 방향 +-50 처리함\n",
    "    #plt.ylim(globals()['cen_{}'.format(filter[3])][1]-50, globals()['cen_{}'.format(filter[3])][1]+50) # 이미지 확대를 위해 중심 기준 y축 방향 +-50 처리함\n",
    "    plt.plot(globals()['cen_{}'.format(filter[3])][0], globals()['cen_{}'.format(filter[3])][1], '+', ms = 10, mec='red', mfc='red', linewidth=2)\n",
    "    plt.grid(color = 'white', ls = '--')\n",
    "    plt.title(filter[3] + '_reg, min_per: ' + str(min_per) + ', max_per: ' + str(max_per) + ', step: ' + str(step_num))\n",
    "    plt.show()\n",
    "\n",
    "    ax7 = fig.add_subplot(2,4,7)\n",
    "    im = plt.imshow(globals()['smo_{}'.format(filter[4])], cmap = 'gray_r', vmax = globals()['max_value_{}_temp'.format(filter[4])], vmin = globals()[ 'min_value_{}_temp'.format(filter[4])], origin = 'lower') #interpolation='nearest'\n",
    "    plt.colorbar(im)\n",
    "    ct = plt.contour(globals()['smo_{}'.format(filter[4])], levels = globals()['levels_{}'.format(filter[4])], origin = 'lower', colors = 'aqua', linewidths = 1.0)\n",
    "    plt.plot( globals()['cen_{}'.format(filter[4])][0], globals()['cen_{}'.format(filter[4])][1], '+', ms = 10, mec='red', mfc='red', linewidth=2)\n",
    "    plt.grid(color = 'white', ls = '--')\n",
    "    plt.title(filter[4] + '_reg')\n",
    "\n",
    "    ax8 = fig.add_subplot(2,4,8)\n",
    "    ct = plt.contour(globals()['smo_{}'.format(filter[4])], levels = globals()['levels_{}'.format(filter[4])], origin = 'lower', linewidths = 0.5, colors = 'black') #colors= colors,\n",
    "    #plt.xlim(globals()['cen_{}'.format(filter[4])][0]-50, globals()['cen_{}'.format(filter[4])][0]+50) # 이미지 확대를 위해 중심 기준 y축 방향 +-50 처리함\n",
    "    #plt.ylim(globals()['cen_{}'.format(filter[4])][1]-50, globals()['cen_{}'.format(filter[4])][1]+50) # 이미지 확대를 위해 중심 기준 y축 방향 +-50 처리함\n",
    "    plt.plot(globals()['cen_{}'.format(filter[4])][0], globals()['cen_{}'.format(filter[4])][1], '+', ms = 10, mec='red', mfc='red', linewidth=2)\n",
    "    plt.grid(color = 'white', ls = '--')\n",
    "    plt.title(filter[4] + '_reg, min_per: ' + str(min_per) + ', max_per: ' + str(max_per) + ', step: ' + str(step_num))\n",
    "    plt.show()\n",
    "    \n",
    "image_contour_identification()"
   ]
  },
  {
   "cell_type": "code",
   "execution_count": null,
   "metadata": {
    "ExecuteTime": {
     "end_time": "2022-10-28T01:47:02.667385Z",
     "start_time": "2022-10-28T01:47:02.191117Z"
    },
    "code_folding": [],
    "run_control": {
     "marked": true
    }
   },
   "outputs": [],
   "source": [
    "# 이미지 저장\n",
    "\n",
    "save_file_name = str(ring_num)+'_0_image_contour_identification.jpg'\n",
    "plt.savefig(save_path + save_file_name)"
   ]
  },
  {
   "cell_type": "markdown",
   "metadata": {},
   "source": [
    "### **내부 천체 마스킹 및 다림질 조정**"
   ]
  },
  {
   "cell_type": "markdown",
   "metadata": {},
   "source": [
    "* 위 등광도선 작업에서 내부에 천체가 존재한다면, 그 천체를 마스킹 하고 다시 다림질을 합니다.\n",
    "* 내부 천체 마스킹 및 다림질 조정이 필요하다면 -> y를 입력하고 -> 마스킹 좌표, 반경을 입력합니다. -> 그 다음으로 다림질 옵션을 조정하며, 기본값으로 진행할시 엔터를 누릅니다. 천체 마스킹시 가우시안 표준편차만 1.5~2로 조정하는게 좋습니다.\n",
    "* 내부 천체 마스킹 및 다림질 조정이 필요없다면 -> n을 입력합니다."
   ]
  },
  {
   "cell_type": "code",
   "execution_count": null,
   "metadata": {
    "ExecuteTime": {
     "end_time": "2022-10-28T01:47:11.495205Z",
     "start_time": "2022-10-28T01:47:07.373682Z"
    },
    "code_folding": [
     0
    ],
    "run_control": {
     "marked": true
    }
   },
   "outputs": [],
   "source": [
    "# 추가로 천체 마스킹 및 재다림질 조정\n",
    "\n",
    "select = str(input('추가로 마스킹 할 천체 영역이 있는가요? y, n: '))\n",
    "print('-------------------------------------------------')    \n",
    "if select == 'y':\n",
    "    mask_ob_cor=[]\n",
    "    mask_ob_rad=[]\n",
    "    n = 1\n",
    "    try:\n",
    "        for i, j, r in zip(range(1,40,2), range(2,41,2), range(1,20,1)):\n",
    "            [globals()['num_{}'.format(i)], globals()['num_{}'.format(j)], globals()['rad_{}'.format(r)]] = map(float, input(\"추가 천체 제거를 위해, 콤마(,)를 이용해 %d번째 마스크 하려는 영역의 중심 좌표(x,y)와 반경(r)을 0 보다 큰 수로 순서대로 입력하세요.(예:25,25,5) 그만 두려면 아무 값이나 입력하세요.: \"%n).split(','))\n",
    "            mask_ob_cor.append([ globals()['num_{}'.format(i)],globals()['num_{}'.format(j)]])\n",
    "            mask_ob_rad.append([ globals()['rad_{}'.format(r)]])\n",
    "            n += 1\n",
    "    except:\n",
    "        pass\n",
    "\n",
    "    # 추가 천체 마스킹 \n",
    "    mask_reg = []\n",
    "    aperture_reg = []\n",
    "    n = 1\n",
    "    for k, r in zip(mask_ob_cor, mask_ob_rad):\n",
    "        center_1 = PixCoord(k[0], k[1])\n",
    "        #print('%d_[x,y,r]:'%n, k[0], k[1], r[0])\n",
    "        aperture = CirclePixelRegion(center_1, r[0])\n",
    "        mask = aperture.to_mask(mode = 'center')\n",
    "        aperture_reg.append(aperture)\n",
    "        mask_reg.append(mask.bbox)\n",
    "        n += 1\n",
    "    \n",
    "    for f in filter:\n",
    "        globals()['skysub_{}_c'.format(f)] = globals()['skysub_{}'.format(f)].copy()\n",
    "        for i in range(len(mask_reg)): \n",
    "            globals()['skysub_{}_c'.format(f)][mask_reg[i].iymin : mask_reg[i].iymax + 1, mask_reg[i].ixmin : mask_reg[i].ixmax + 1] = np.nan\n",
    "            \n",
    "    print('-------------------------------------------------')         \n",
    "    # 데이터 다림질\n",
    "    kn_st1 = float(input(\"다림질의 커널 표준편차 값을 입력하세요. 기본값으로 진행할시 엔터를 누르십시오.(기본값: 0.9): \") or 0.9) \n",
    "    kn_md1 = str(input(\"다림질의 커널 모드를 입력하세요. 기본값으로 진행할시 엔터를 누르십시오.(기본값: center): \") or 'center')\n",
    "    smo_u, smo_g, smo_r, smo_i, smo_z = smoothing(kernel_stddev=kn_st1, kernel_mode=kn_md1, x_size = (10*int(r[0]))+1, y_size = (10*int(r[0]))+1, sub_u=skysub_u_c, sub_g=skysub_g_c, sub_r=skysub_r_c, sub_i=skysub_i_c, sub_z=skysub_z_c)\n",
    "    image_contour_identification()\n",
    "        \n",
    "    print(\"변경 완료: 다음 단계로 넘어가 은하 위에 타원을 그리기 위한 작업을 진행하십시오.\")\n",
    "    \n",
    "else:\n",
    "    print(\"다음 단계로 넘어가 은하 위에 타원을 그리기 위한 작업을 진행하십시오.\")"
   ]
  },
  {
   "cell_type": "markdown",
   "metadata": {},
   "source": [
    "### **타원 기하학 산출**"
   ]
  },
  {
   "cell_type": "markdown",
   "metadata": {},
   "source": [
    "* 타원 기하학을 산출하려면 은하 위에 타원을 그려야 합니다.\n",
    "* 은하 위에 그려질 타원의 장축 반경(픽셀)을 마우스 왼쪽 버튼으로 클릭하세요.(오른쪽 버튼: 선택 취소)\n",
    "* ※ 유의사항: 1. 오직 목표 은하만 포착할 수 있게끔 장축 반경을 고려하세요. 2. 여러 곳 클릭해도 마지막 최근 값만 장축 반경 계산에 적용됩니다."
   ]
  },
  {
   "cell_type": "code",
   "execution_count": null,
   "metadata": {
    "ExecuteTime": {
     "end_time": "2022-10-28T02:27:16.058016Z",
     "start_time": "2022-10-28T02:27:16.035928Z"
    },
    "code_folding": [
     0,
     2
    ],
    "run_control": {
     "marked": true
    }
   },
   "outputs": [],
   "source": [
    "# 이미지에 좌표 클릭하는 함수 정의\n",
    "def add_point(event):\n",
    "    if event.inaxes != ax:\n",
    "        return\n",
    "    # button 1: 마우스 좌클릭 시 입력값 획득\n",
    "    if event.button == 1:\n",
    "        x = event.xdata\n",
    "        y = event.ydata\n",
    "        xdata.append(x)\n",
    "        ydata.append(y)\n",
    "        line.set_data(xdata, ydata)\n",
    "        plt.plot([cen[0], x],  [cen[1], y], linewidth=2) # color = 'yellow',\n",
    "        plt.draw()\n",
    "        tx = 'select, x=%.1f, y=%.1f' % (np.around(x, decimals = 1), np.around(y, decimals = 1))\n",
    "        text.set_text(tx)\n",
    "    # button 3: 마우스 우클릭 시 기존 입력값 삭제\n",
    "    if event.button == 3:\n",
    "        xdata.pop()\n",
    "        ydata.pop()\n",
    "        line.set_data(xdata, ydata)\n",
    "        plt.draw()\n",
    "        tx = 'delete, x=%.1f, y=%.1f' % (np.around(x, decimals = 1), np.around(y, decimals = 1))\n",
    "        text.set_text(tx)\n",
    "    # 마우스 중간버튼 클릭 시 종료하기\n",
    "    if event.button == 2:\n",
    "        plt.disconnect(cid)\n",
    "        plt.close()"
   ]
  },
  {
   "cell_type": "code",
   "execution_count": null,
   "metadata": {
    "ExecuteTime": {
     "end_time": "2022-10-28T02:48:26.278336Z",
     "start_time": "2022-10-28T02:48:26.140659Z"
    },
    "code_folding": [
     0
    ],
    "run_control": {
     "marked": false
    },
    "scrolled": false
   },
   "outputs": [],
   "source": [
    "#이미지에 좌표 클릭시 포인팅 및 좌표 출력\n",
    "\n",
    "f_1 = 'i'\n",
    "\n",
    "print('은하 이미지에 그려질 타원의 장축 반경을 마우스 왼쪽 버튼으로 클릭하세요.(오른쪽 버튼: 선택 취소)')\n",
    "print('※유의사항: 1. 오직 목표 은하만 포착할 수 있게끔 장축 반경을 고려하세요. 2. 여러 곳을 클릭해도 마지막 최근 값만 장축 반경 계산에 적용됩니다.')\n",
    "print( '-----------------------------------------' )\n",
    "xdata = [0]; ydata = [0]\n",
    "\n",
    "# 모든 필터 중심 좌표\n",
    "cen = globals()['cen_{}'.format(f_1)]\n",
    "\n",
    "vmax = 90.\n",
    "vmin = 15.\n",
    "\n",
    "# 그림\n",
    "fig = plt.figure( figsize = (5,5) )\n",
    "globals()['max_value_{}_temp'.format(f_1)] = np.percentile( globals()['smo_{}'.format(f_1)], vmax )\n",
    "globals()['min_value_{}_temp'.format(f_1)] = np.percentile( globals()['smo_{}'.format(f_1)], vmin )\n",
    "\n",
    "globals()['max_{}'.format(f_1)] = np.max(globals()['smo_{}'.format(f_1)])\n",
    "\n",
    "ax = fig.add_subplot(1,1,1)\n",
    "im = plt.imshow(globals()['smo_{}'.format(f_1)], cmap = 'gray_r', vmax = globals()['max_value_{}_temp'.format(f_1)], vmin = globals()[ 'min_value_{}_temp'.format(f_1)], origin = 'lower', interpolation='nearest') #interpolation='nearest'\n",
    "plt.colorbar(im)\n",
    "ct = plt.contour(globals()['smo_{}'.format(f_1)], levels = globals()['levels_{}'.format(f_1)], origin = 'lower', colors = 'aqua', linewidths = 1.0)\n",
    "plt.plot(cen[0], cen[1], '+', ms = 10, mec='red', mfc='red', linewidth=2)\n",
    "plt.grid(color = 'white', ls = '--')\n",
    "line, = ax.plot(xdata, ydata, '*', ms = 10, mec='yellow', mfc='yellow', linewidth=2)\n",
    "cid = plt.connect('button_press_event', add_point)\n",
    "text = ax.text(70,330, \"\", va=\"bottom\", ha=\"left\")\n",
    "plt.title(f_1 + '_semi-major axis point')\n",
    "\n",
    "plt.show()"
   ]
  },
  {
   "cell_type": "code",
   "execution_count": null,
   "metadata": {
    "ExecuteTime": {
     "end_time": "2022-10-28T02:42:17.850834Z",
     "start_time": "2022-10-28T02:42:17.752860Z"
    },
    "code_folding": [
     0
    ]
   },
   "outputs": [],
   "source": [
    "# 이미지 저장\n",
    "\n",
    "save_file_name = str(ring_num)+'_1_selcet_coordinate.jpg'\n",
    "plt.savefig(save_path + save_file_name)"
   ]
  },
  {
   "cell_type": "markdown",
   "metadata": {},
   "source": [
    "* 은하 위에 그려질 타원의 단축 반경(픽셀)을 적절히 입력합니다."
   ]
  },
  {
   "cell_type": "code",
   "execution_count": null,
   "metadata": {
    "ExecuteTime": {
     "end_time": "2022-10-28T02:48:45.533564Z",
     "start_time": "2022-10-28T02:48:36.240293Z"
    },
    "code_folding": [
     0
    ]
   },
   "outputs": [],
   "source": [
    "# 단축 반경 입력\n",
    "\n",
    "xdata = np.around(xdata,decimals = 1)\n",
    "ydata = np.around(ydata,decimals = 1)\n",
    "# 기본 (0,0) 값 삭제\n",
    "if (xdata[0], ydata[0]) == (0,0):\n",
    "    xdata = np.delete(xdata, 0)\n",
    "    ydata = np.delete(ydata, 0)\n",
    "    print('마우스 클릭한 장축 x 좌표 모음, y좌표 모음(삭제 값은 미반영): ', xdata, ydata)\n",
    "else:\n",
    "    print('마우스 클릭한 장축 x 좌표 모음, y좌표 모음(삭제 값은 미반영): ', xdata, ydata)\n",
    "        \n",
    "cor = [int(xdata[-1]), int(ydata[-1])] # 가장 최근인 마지막으로 클릭한 타원의 장축반경 x,y 좌표만 적용\n",
    "major_ax = math.sqrt((cen[0] - cor[0])**2 + (cen[1] - cor[1])**2)\n",
    "print('장축 반경 거리(픽셀):', major_ax)\n",
    "d = float(input('은하 이미지에 그려질 타원의 단축 반경을 입력하세요.(예:75): '))"
   ]
  },
  {
   "cell_type": "markdown",
   "metadata": {},
   "source": [
    "* 산출된 타원이 은하에 맞게 그려졌는지 확인합니다. 적절하지 않다면 장축 혹은 단축 반경을 조정합니다. "
   ]
  },
  {
   "cell_type": "code",
   "execution_count": null,
   "metadata": {
    "ExecuteTime": {
     "end_time": "2022-10-28T02:58:07.107457Z",
     "start_time": "2022-10-28T02:58:06.603648Z"
    },
    "code_folding": [
     0
    ],
    "run_control": {
     "marked": true
    }
   },
   "outputs": [],
   "source": [
    "# y = ax + b 일차함수로 장축, 단축 반경 계산\n",
    "\n",
    "a = (cen[1]-cor[1])/(cen[0]-cor[0])\n",
    "if abs(a) == 0:\n",
    "    a = 0.000000000001\n",
    "else:\n",
    "    a = a\n",
    "b = cen[1] - a*cen[0]\n",
    "\n",
    "# y1 = -x/a + b1 -> y = ax + b와 수직인 일차함수\n",
    "b1 = cen[1] + (cen[0]/a)\n",
    "\n",
    "# 타원 기하학 계산\n",
    "minor_ax = d\n",
    "major_ax = math.sqrt((cen[0]-cor[0])**2+(cen[1]-cor[1])**2)\n",
    "\n",
    "ellipse = (major_ax - minor_ax)/major_ax\n",
    "print('타원율:', ellipse)\n",
    "position_angle_rad = math.atan((cen[1]-cor[1])/(cen[0]-cor[0]))\n",
    "position_angle_deg = (position_angle_rad)/np.pi*180\n",
    "print('위치각(deg):', position_angle_deg)\n",
    "print('위치각(radian):', position_angle_rad)\n",
    "\n",
    "vmax = 90.\n",
    "vmin = 15.\n",
    "print('--------------------------------------')\n",
    "print('max_percetile:', vmax)\n",
    "print('min_percetile:', vmin)\n",
    "\n",
    "# 그림\n",
    "fig = plt.figure( figsize = (18,9) )\n",
    "n = 1\n",
    "for f in filter:\n",
    "    globals()[ 'geometry_{}'.format(f)] = EllipseGeometry(x0=globals()[ 'cen_{}'.format(f)][0], y0=globals()[ 'cen_{}'.format(f)][1], sma=major_ax, eps=ellipse, pa=position_angle_rad,  astep = 0.1, linear_growth=True) # astep=0,1, fix_center=True, linear_growth=True\n",
    "    globals()[ 'aper_{}'.format(f)] = EllipticalAperture((globals()[ 'geometry_{}'.format(f)].x0, globals()[ 'geometry_{}'.format(f)].y0), globals()[ 'geometry_{}'.format(f)].sma, globals()[ 'geometry_{}'.format(f)].sma*(1 - globals()[ 'geometry_{}'.format(f)].eps), globals()[ 'geometry_{}'.format(f)].pa)\n",
    "\n",
    "    globals()[ 'max_value_{}_temp'.format(f) ] = np.percentile( globals()[ 'smo_{}'.format(f) ], vmax )\n",
    "    globals()[ 'min_value_{}_temp'.format(f) ] = np.percentile( globals()[ 'smo_{}'.format(f) ], vmin )\n",
    "    ax = fig.add_subplot(2,3,n)\n",
    "    im = plt.imshow(globals()['smo_{}'.format(f)], cmap = 'gray_r', vmax = globals()['max_value_{}'.format(f)], vmin = globals()[ 'min_value_{}'.format(f)], origin = 'lower') #interpolation = 'nearest'\n",
    "    ct = plt.contour(globals()['smo_{}'.format(f)], levels = globals()['levels_{}'.format(f_1)], origin = 'lower', colors = 'aqua', linewidths = 1)\n",
    "    globals()[ 'aper_{}'.format(f)].plot(color = 'greenyellow', linewidth = 6, linestyle = 'dashed')\n",
    "    plt.grid(color = 'white', ls = '--')\n",
    "    plt.colorbar(im)\n",
    "    plt.title(f + '_geometry, major: ' + str(int(major_ax)) + ', minor: ' + str(int(minor_ax)))\n",
    "    n += 1\n",
    "plt.show()"
   ]
  },
  {
   "cell_type": "code",
   "execution_count": null,
   "metadata": {
    "ExecuteTime": {
     "end_time": "2022-10-28T02:58:51.091820Z",
     "start_time": "2022-10-28T02:58:50.686271Z"
    },
    "code_folding": [
     0
    ],
    "run_control": {
     "marked": false
    }
   },
   "outputs": [],
   "source": [
    "# 이미지 저장\n",
    "\n",
    "save_file_name = str(ring_num)+'_2_ellipsegeometry_contour.jpg'\n",
    "plt.savefig(save_path + save_file_name)"
   ]
  },
  {
   "cell_type": "markdown",
   "metadata": {},
   "source": [
    "## **등광도 분석**"
   ]
  },
  {
   "cell_type": "markdown",
   "metadata": {
    "id": "EepOD8gon09R"
   },
   "source": [
    "### **등광도 맞춤 분석**"
   ]
  },
  {
   "cell_type": "markdown",
   "metadata": {},
   "source": [
    "* 은하 특징을 도출하기 위해서는 광도 윤곽, 타원율, 위치각을 분석해내야 하며, 이를 위한 작업으로 등광도 맞춤 분석이 필요합니다. \n",
    "* 최초로(처음으로) 하는 등광도 맞춤 분석일 경우, 등광도 맞춤 분석의 옵션을 변경하지 않고 시작합니다(n 입력). 기본값으로 진행하므로 엔터를 누릅니다.\n",
    "* 등광도 맞춤 분석 후 실제와 분석된 등광도선의 불일치가 심한 경우 등광도 맞춤 분석을 다시 합니다.(y입력). 구체적인 순서는 다음과 같습니다.\n",
    "* 먼저 다림질의 옵션을 조정합니다. 가우시안 표준편차만 1.5~2로 조정하는게 좋습니다.\n",
    "*  그 다음으로 등광도 맞춤 분석의 옵션은 장반경 분석 간격(step)을 0.5로, 1픽셀당 실제 거리를 0.198로, nclip은 10~30 중 적절한 값을, fflag은 0.3을 입력합니다."
   ]
  },
  {
   "cell_type": "code",
   "execution_count": null,
   "metadata": {
    "ExecuteTime": {
     "end_time": "2022-10-28T02:59:49.459388Z",
     "start_time": "2022-10-28T02:59:11.937104Z"
    },
    "code_folding": [
     0
    ],
    "run_control": {
     "marked": true
    }
   },
   "outputs": [],
   "source": [
    "# Isolist 정보 추출\n",
    "\n",
    "iso_select1 = str(input('등광도 맞춤 옵션을 변경 하시겠습니까? 최초로(처음으로) 하는 등광도 맞춤 분석일 경우 옵션 변경을 하지 않습니다.(n입력) y, n: '))\n",
    "print('---------------------------------------------------')  \n",
    "if iso_select1 == 'y':\n",
    "    iso_select2 = str(input('앞서 천체마스킹을 하였나요? y, n: '))\n",
    "    print('---------------------------------------------------')  \n",
    "    if iso_select2 == 'n':\n",
    "    # 데이터 다림질\n",
    "        kn_st2 = float(input(\"다림질의 커널 표준편차 값을 입력하세요. 기본값으로 진행할시 엔터를 누르십시오.(기본값: 0.9): \") or 0.9) \n",
    "        kn_md2 = str(input(\"다림질의 커널 모드를 입력하세요. 기본값으로 진행할시 엔터를 누르십시오.(기본값: center): \") or 'center')\n",
    "        smo_u, smo_g, smo_r, smo_i, smo_z = smooting(kernel_stddev=kn_st2, kernel_mode=kn_md2, x_size=(10*int(r[0]))+1, y_size=(10*int(r[0]))+1, sub_u=skysub_u_c, sub_g=skysub_g_c, sub_r=skysub_r_c, sub_i=skysub_i_c, sub_z=skysub_z_c)\n",
    "        image_contour_identification()\n",
    "    elif iso_select2 == 'y':\n",
    "        pass\n",
    "    iso_step = float(input(\"등광도 맞춤 옵션 중 장반경 분석 간격(step)을 입력 하세요. 기본값으로 진행할시 엔터를 누르십시오.(기본값: 1): \") or 1)\n",
    "    iso_dist = float(input(\"등광도 맞춤 옵션 중 1픽셀 당 초(arcsec)를 입력 하세요. 기본값으로 진행할시 엔터를 누르십시오.(기본값: 0.396, 주의:step과 정비례로 입력): \") or 0.396)\n",
    "    iso_nclip = int(input(\"등광도 맞춤 옵션 중 nclip 값을 입력 하세요. 기본값으로 진행할시 엔터를 누르십시오.(기본값: 0, 주의:자연수 입력): \") or 0.0)\n",
    "    iso_fflag = float(input(\"등광도 맞춤 옵션 중 fflag 값을 입력 하세요. 기본값으로 진행할시 엔터를 누르십시오.(기본값: 0.7): \") or 0.7)\n",
    "else:\n",
    "    iso_step = 1\n",
    "    iso_dist = 0.396\n",
    "    iso_nclip = 0\n",
    "    iso_fflag = 0.7      \n",
    "    print(\"장반경 분석 간격(step, 기본값 1) :\", iso_step)\n",
    "    print(\"1픽셀당 초(arcsec, 기본값 0.396) :\", iso_dist)\n",
    "    print(\"nclip(기본값 0) :\", iso_nclip)\n",
    "    print(\"fflag(기본값 0.7) :\", iso_fflag)\n",
    "\n",
    "for f in filter:\n",
    "    globals()['r_pix_{}'.format(f)] = [] # 각 필터별 픽셀 기준 등광도 맞춤 분석된 장반경 값 모음\n",
    "    globals()['mu_{}'.format(f)] = [] # 각 필터별 등광도 맞춤 분석된 광도 값 모음\n",
    "    globals()['ep_{}'.format(f)] = [] # 각 필터별 등광도 맞춤 분석된 타원율 값 모음\n",
    "    globals()['ep_err_{}'.format(f)] = [] # 각 필터별 등광도 맞춤 분석된 타원율 에러 값 모음\n",
    "    globals()['pa_{}'.format(f)] = [] # 각 필터별 등광도 맞춤 분석된 위치각 값 모음\n",
    "    globals()['pa_err_{}'.format(f)] = [] # 각 필터별 등광도 맞춤 분석된 위치각 에러 값 모음 \n",
    "    \n",
    "for f in filter:\n",
    "    try:\n",
    "        globals()['ellipse_{}'.format(f)] = Ellipse(globals()['smo_{}'.format(f)], geometry=globals()['geometry_{}'.format(f)])\n",
    "        globals()['isolist_{}'.format(f)] = globals()['ellipse_{}'.format(f)].fit_image(minsma = 0, step = iso_step, linear = True, maxsma = major_ax, fix_center = True, nclip = iso_nclip, fflag = iso_fflag) \n",
    "        globals()['intens_{}'.format(f)] = -2.5*np.log10(globals()['isolist_{}'.format(f)].intens) \n",
    "        \n",
    "        globals()['iso_{}_c'.format(f)] = globals()['isolist_{}'.format(f)].pa.copy()\n",
    "\n",
    "        # IRAF 기준 타원 위치각 설명과 동일하게 변환(+Y축을 기준으로 +90 ~ -90로 타원 위치각이 분포)\n",
    "        globals()['iso_{}_c_deg'.format(f)] = globals()['iso_{}_c'.format(f)]/np.pi*180. # 라디안(radian)을 도(degree)로 변환\n",
    "        globals()['iso_{}_c_deg'.format(f)][globals()['iso_{}_c_deg'.format(f)] < 90] = globals()['iso_{}_c_deg'.format(f)][globals()['iso_{}_c_deg'.format(f)] < 90] + 180 # 90 도 미만에 +180를 하여, 모든 타원 위치각이 180 ~ 270도로 변환\n",
    "        globals()['pa_{}_deg'.format(f)] = globals()['iso_{}_c_deg'.format(f)] - 90. # 모든 각도에 -90도를 하여, 0 ~ 180 도로 분포하도록 함. 즉, +Y축을 기준으로 +90 ~ -90로 타원 위치각이 분포\n",
    "        \n",
    "        globals()['pa_err_{}_deg'.format(f)]= globals()['isolist_{}'.format(f)].pa_err/np.pi*180. # 라디안을 도(degree)로 변환\n",
    "        globals()['mu_{}'.format(f)].append(np.around(globals()['intens_{}'.format(f)], 3)) # 각 필터별 등광도 맞춤 분석된 광도 값(소수점 3자리 까지만)\n",
    "        globals()['ep_{}'.format(f)].append(np.around(globals()['isolist_{}'.format(f)].eps, 3)) # 각 필터별 등광도 맞춤 분석된 타원율 값(소수점 3자리 까지만)\n",
    "        globals()['ep_err_{}'.format(f)].append(np.around(globals()['isolist_{}'.format(f)].ellip_err, 3)) # 각 필터별 등광도 맞춤 분석된 타원율 에러 값(소수점 3자리 까지만)\n",
    "        globals()['pa_{}'.format(f)].append(np.around(globals()['pa_{}_deg'.format(f)], 3)) # 각 필터별 등광도 맞춤 분석된 위치각 값(소수점 3자리 까지만)\n",
    "        globals()['pa_err_{}'.format(f)].append(np.around(globals()['pa_err_{}_deg'.format(f)], 3)) # 각 필터별 등광도 맞춤 분석된 위치각 에러 값(소수점 3자리 까지만)\n",
    "        \n",
    "    except:\n",
    "        pass\n",
    "    \n",
    "for f in filter:\n",
    "    for p in range(len(globals()['isolist_{}'.format(f)].sma)):\n",
    "        globals()['r_pix_{}'.format(f)].append(p)\n",
    "    globals()['r_arc_{}'.format(f)] = np.around(np.asarray(globals()['r_pix_{}'.format(f)])*iso_dist, 2) \n",
    "    # iso_step = 1 이면 iso_dist = 0.396 / iso_step = 0.5 이면, iso_setp = 0.198 로 변화 필요"
   ]
  },
  {
   "cell_type": "markdown",
   "metadata": {},
   "source": [
    " ### **등광도 지도 작성(Isophotal contour map)**"
   ]
  },
  {
   "cell_type": "markdown",
   "metadata": {},
   "source": [
    "* 각 필터별 등광도 지도를 통해 실제 등광도선과 분석된 등광도선이 일치하는지 확인합니다.\n",
    "* 불일치가 심하다면 은하 내부에 천체가 존재하거나 내부가 복잡하여 이상값을 유발하였기 때문입니다.\n",
    "* 은하 내부에 천체가 존재한다면, 천체마스킹 작업을 합니다.\n",
    "* 은하 내부가 복잡하다면, 등광도 맞춤 분석에서 옵션을 조정합니다.\n",
    "* 은하 내부에 천체가 있는 이유는, 사실 시선 방향에 있던 별과 겹쳐서 마치 은하 내부에 천체가 있는 것처럼 이미지에 투영되었기 때문입니다. 즉, 은하 내부에는 별이 없습니다.\n",
    "* 은하 내부가 복잡한 이유는, 은하를 희미한 밝기를 더 많이 포착하기 위해 등광도선을 많이 그렸기 때문입니다. "
   ]
  },
  {
   "cell_type": "markdown",
   "metadata": {},
   "source": [
    "* 등광도 맞춤 분석 결과를 토대로 등광도 관련 밝기 강도, 타원율, 위치각 특징을 분석함으로써 은하의 특징을 파악합니다."
   ]
  },
  {
   "cell_type": "code",
   "execution_count": null,
   "metadata": {
    "ExecuteTime": {
     "end_time": "2022-10-28T03:00:59.232537Z",
     "start_time": "2022-10-28T03:00:58.480570Z"
    },
    "code_folding": [
     0
    ],
    "run_control": {
     "marked": true
    },
    "scrolled": false
   },
   "outputs": [],
   "source": [
    "# 분석된 등광도곡선 그리기\n",
    "\n",
    "for f in filter:\n",
    "    min_pix = 10 # 분석된 등광도 곡선 최소 픽셀 지점(시작점)\n",
    "    globals()['max_pix_{}'.format(f)] = int(major_ax) # 등광도 곡선 최대 픽셀 지점(끝점) -> 위에서 입력한 장반경 값과 같음\n",
    "    step = 10\n",
    "\n",
    "vmax = 90.\n",
    "vmin = 15.\n",
    "print('max_percetile', vmax)\n",
    "print('min_percetile:', vmin)            \n",
    "\n",
    "# 그림\n",
    "fig = plt.figure( figsize = (14,9) )\n",
    "n = 1\n",
    "for f in filter :\n",
    "    globals()['max_value_{}_temp'.format(f)] = np.percentile(globals()['smo_{}'.format(f)], vmax)\n",
    "    globals()['min_value_{}_temp'.format(f)] = np.percentile(globals()['smo_{}'.format(f)], vmin)   \n",
    "    ax = fig.add_subplot(2,3,n)\n",
    "    ct = plt.contour(globals()['smo_{}'.format(f)], levels = globals()['levels_{}'.format(f)] , origin = 'lower', colors= 'black', linewidths = 0.5)\n",
    "    #plt.xlim(globals()['cen_{}'.format(f)][0]-0, globals()['cen_{}'.format(f)][0]+0) # 이미지 확대를 위해 중심 기준 x축 방향 +-50 처리함\n",
    "    #plt.ylim(globals()['cen_{}'.format(f)][1]-0, globals()['cen_{}'.format(f)][1]+0) # 이미지 확대를 위해 중심 기준 y축 방향 +-50 처리함\n",
    "    ax.grid(color = 'white', ls = '--')\n",
    "    ax.set_title(f + '_isophotal contour map')\n",
    "    smas = np.linspace(min_pix, globals()['max_pix_{}'.format(f)], step)\n",
    "    try:\n",
    "        for sma in smas:\n",
    "            iso = globals()['isolist_{}'.format(f)].get_closest(sma)\n",
    "            x, y, = iso.sampled_coordinates()\n",
    "            ax.plot(x, y, ls = '--', color = 'red', lw = 0.5)\n",
    "    except:\n",
    "        pass\n",
    "    n += 1\n",
    "plt.show()"
   ]
  },
  {
   "cell_type": "code",
   "execution_count": null,
   "metadata": {
    "ExecuteTime": {
     "end_time": "2022-10-28T03:01:06.564381Z",
     "start_time": "2022-10-28T03:01:06.248772Z"
    },
    "code_folding": [
     0
    ]
   },
   "outputs": [],
   "source": [
    "# 이미지 저장\n",
    "\n",
    "save_file_name = str(ring_num)+'_3_isophote_contour.jpg'\n",
    "plt.savefig(save_path + save_file_name)"
   ]
  },
  {
   "cell_type": "markdown",
   "metadata": {
    "id": "_CeBPj9fn7ew"
   },
   "source": [
    "### **등광도 관련 광도 윤곽(Luminosity Profile), 타원율(Ellipticity), 위치각(Position Angle) 특징 분석**"
   ]
  },
  {
   "cell_type": "markdown",
   "metadata": {},
   "source": [
    "* 각 필터별로 분석된 다양한 등광도 맞춤 분석의 물리값을 확인합니다."
   ]
  },
  {
   "cell_type": "code",
   "execution_count": null,
   "metadata": {
    "ExecuteTime": {
     "end_time": "2022-10-28T03:01:08.199887Z",
     "start_time": "2022-10-28T03:01:08.121775Z"
    },
    "code_folding": [
     0
    ],
    "run_control": {
     "marked": true
    }
   },
   "outputs": [],
   "source": [
    "# 등광도 맞춤 분석 물리값 표\n",
    "\n",
    "display('isolist_u_table', isolist_u.to_table())\n",
    "display('isolist_g_table', isolist_i.to_table())\n",
    "display('isolist_r_table', isolist_i.to_table())\n",
    "display('isolist_i_table', isolist_i.to_table())\n",
    "display('isolist_z_table', isolist_z.to_table())"
   ]
  },
  {
   "cell_type": "code",
   "execution_count": null,
   "metadata": {
    "ExecuteTime": {
     "end_time": "2022-10-28T03:01:14.750037Z",
     "start_time": "2022-10-28T03:01:14.576882Z"
    },
    "code_folding": [
     0
    ],
    "run_control": {
     "marked": true
    },
    "scrolled": true
   },
   "outputs": [],
   "source": [
    "# 등광도 맞춤 분석 물리값 데이터 프레임 변환\n",
    "\n",
    "for f in filter:\n",
    "    try:\n",
    "        columns = ['R\"', 'Mu', 'Ellipticity', 'Ellip_error', 'PA', 'PA_error']\n",
    "        #globals()['df_r_{}'.format(f)] = pd.DataFrame(globals()['sma_{}'.format(f)]).transpose()\n",
    "        globals()['df_r_{}'.format(f)] = pd.DataFrame(globals()['r_arc_{}'.format(f)]) # 각 필터별 등광도 분석된 장반경\n",
    "        globals()['df_mu_{}'.format(f)] = pd.DataFrame(globals()['mu_{}'.format(f)]).transpose() # 각 필터별 등광도 분석된 광도 값\n",
    "        globals()['df_ep_{}'.format(f)] = pd.DataFrame(globals()['ep_{}'.format(f)]).transpose() # 각 필터별 등광도 분석된 타원율 값\n",
    "        globals()['df_ep_err_{}'.format(f)] = pd.DataFrame(globals()['ep_err_{}'.format(f)]).transpose() # 각 필터별 등광도 분석된 타원율 에러 값\n",
    "        globals()['df_pa_{}'.format(f)] = pd.DataFrame(globals()['pa_{}'.format(f)]).transpose() # 각 필터별 등광도 분석된 위치각 값\n",
    "        globals()['df_pa_err_{}'.format(f)] = pd.DataFrame(globals()['pa_err_{}'.format(f)]).transpose() # 각 필터별 등광도 분석된 위치각 에러 값\n",
    "    \n",
    "        globals()['df_my_eps_{}'.format(f)] = pd.concat([globals()['df_r_{}'.format(f)], globals()['df_mu_{}'.format(f)], globals()['df_ep_{}'.format(f)], globals()['df_ep_err_{}'.format(f)], globals()['df_pa_{}'.format(f)], globals()['df_pa_err_{}'.format(f)]], axis = 1)\n",
    "        globals()['df_my_eps_{}'.format(f)].columns = columns\n",
    "    except:\n",
    "        pass"
   ]
  },
  {
   "cell_type": "code",
   "execution_count": null,
   "metadata": {
    "ExecuteTime": {
     "end_time": "2022-10-28T03:01:15.810881Z",
     "start_time": "2022-10-28T03:01:15.677287Z"
    },
    "code_folding": [
     0
    ],
    "run_control": {
     "marked": true
    }
   },
   "outputs": [],
   "source": [
    "# csv 파일 저장\n",
    "\n",
    "df_all = []\n",
    "for f in filter:\n",
    "    cc = globals()['df_my_eps_{}'.format(f)].rename(columns = lambda x: f +'_' + x)\n",
    "    df_all.append(cc)\n",
    "    save_file_name1 = str(ring_num)+'_4_'+ f + '_eps__result.csv'\n",
    "    globals()['df_my_eps_{}'.format(f)].to_csv(save_path + save_file_name1, header=True, index=False)\n",
    "\n",
    "save_file_name2 = str(ring_num)+'_eps__result.csv' \n",
    "df_all_concat = pd.concat(df_all, axis=1)\n",
    "df_all_concat.to_csv(save_path + save_file_name2, header=True, index=False)   \n",
    "display(df_all_concat)"
   ]
  },
  {
   "cell_type": "markdown",
   "metadata": {},
   "source": [
    "* 에러 값을 포함한 광도 윤곽의 광도와 타원율, 위치각의 변화를 분석함으로써 은하의 특징을 살펴봅니다."
   ]
  },
  {
   "cell_type": "code",
   "execution_count": null,
   "metadata": {
    "ExecuteTime": {
     "end_time": "2022-10-28T03:03:37.043819Z",
     "start_time": "2022-10-28T03:03:36.453108Z"
    },
    "code_folding": [
     0
    ],
    "colab": {
     "base_uri": "https://localhost:8080/",
     "height": 513
    },
    "id": "k-CIHGvf7zFW",
    "outputId": "c46764a2-bf04-4907-8c29-1783dd7ca397",
    "run_control": {
     "marked": true
    },
    "scrolled": false
   },
   "outputs": [],
   "source": [
    "# 그래프 시각화 에러 값 포함\n",
    "\n",
    "plt.ion()\n",
    "plt.figure(figsize=(6, 3.5), dpi=300)\n",
    "for i,j,k,f in zip(range(1,17,3), range(2,18,3), range(3,19,3), filter):\n",
    "    plt.subplot(5,3,i)\n",
    "    plt.plot(globals()['df_my_eps_{}'.format(f)]['R\"'][10:], globals()['df_my_eps_{}'.format(f)]['Mu'][10:], 'r^-', ms=0.5, linewidth=0.2, label= f)\n",
    "    plt.xlabel('Major_R(arcsec)', fontsize = 3 ,labelpad = 1) \n",
    "    plt.ylabel('Magnitude', fontsize = 3, labelpad = 1)\n",
    "    plt.xticks()\n",
    "    plt.yticks()\n",
    "    plt.tick_params(axis = 'x', direction = 'out', length = 1.5, width = 0.5, labelsize = 3, pad = 1)\n",
    "    plt.tick_params(axis = 'y', direction = 'out', length = 1.5, width = 0.5, labelsize = 3, pad = 1)\n",
    "    plt.gca().invert_yaxis()\n",
    "    plt.legend(loc = 'best', fontsize = 3.5)\n",
    "\n",
    "    plt.subplot(5,3,j)\n",
    "    plt.errorbar(globals()['df_my_eps_{}'.format(f)]['R\"'][10:], globals()['df_my_eps_{}'.format(f)]['Ellipticity'][10:], globals()['df_my_eps_{}'.format(f)]['Ellip_error'][10:], fmt='r^-', ms=0.5, linewidth=0.2, elinewidth=0.2, ecolor='black', capsize=1, capthick=0.5, label= f)\n",
    "    plt.xlabel('Major_R(arcsec)', fontsize = 3 ,labelpad = 1) \n",
    "    plt.ylabel('Ellipticity', fontsize = 3, labelpad = 1)\n",
    "    plt.xticks()\n",
    "    plt.yticks()\n",
    "    plt.tick_params(axis = 'x', direction = 'out', length = 1.5, width = 0.5, labelsize = 3, pad = 1)\n",
    "    plt.tick_params(axis = 'y', direction = 'out', length = 1.5, width = 0.5, labelsize = 3, pad = 1)\n",
    "    plt.legend(loc = 'best', fontsize = 3.5)\n",
    "\n",
    "    plt.subplot(5,3,k)\n",
    "    plt.errorbar(globals()['df_my_eps_{}'.format(f)]['R\"'][10:], globals()['df_my_eps_{}'.format(f)]['PA'][10:], globals()['df_my_eps_{}'.format(f)]['PA_error'][10:], fmt='r^-', ms=0.5, linewidth=0.2, elinewidth=0.2, ecolor='black', capsize=1, capthick=0.5, label= f)\n",
    "    plt.xlabel('Major_R(arcsec)', fontsize = 3 ,labelpad = 1)\n",
    "    plt.ylabel('Position Angle (deg)', fontsize = 3, labelpad = 1)\n",
    "    plt.xticks()\n",
    "    plt.yticks()\n",
    "    plt.tick_params(axis = 'x', direction = 'out', length = 1.5, width = 0.5, labelsize = 3, pad = 1)\n",
    "    plt.tick_params(axis = 'y', direction = 'out', length = 1.5, width = 0.5, labelsize = 3, pad = 1)\n",
    "    plt.legend(loc = 'best', fontsize = 3.5)\n",
    "\n",
    "plt.show()"
   ]
  },
  {
   "cell_type": "code",
   "execution_count": null,
   "metadata": {
    "ExecuteTime": {
     "end_time": "2022-10-28T03:03:46.896970Z",
     "start_time": "2022-10-28T03:03:45.984050Z"
    },
    "code_folding": [
     0
    ]
   },
   "outputs": [],
   "source": [
    "# 이미지 저장\n",
    "\n",
    "save_file_name = str(ring_num)+'_4_result_graph(with error).jpg'\n",
    "plt.savefig(save_path + save_file_name)"
   ]
  },
  {
   "cell_type": "markdown",
   "metadata": {},
   "source": [
    "* 에러 값을 미포함한 광도 윤곽의 광도와 타원율, 위치각의 변화를 분석함으로써 은하의 특징을 살펴봅니다."
   ]
  },
  {
   "cell_type": "code",
   "execution_count": null,
   "metadata": {
    "ExecuteTime": {
     "end_time": "2022-10-28T03:03:49.582494Z",
     "start_time": "2022-10-28T03:03:49.107342Z"
    },
    "code_folding": [
     0
    ],
    "run_control": {
     "marked": false
    },
    "scrolled": false
   },
   "outputs": [],
   "source": [
    "# 그래프 시각화 에러 값 미포함\n",
    "\n",
    "plt.ion()\n",
    "plt.figure(figsize=(6, 3.5), dpi=300)\n",
    "for i,j,k,f in zip(range(1,17,3), range(2,18,3), range(3,19,3), filter):\n",
    "    plt.subplot(5,3,i)\n",
    "    plt.plot(globals()['df_my_eps_{}'.format(f)]['R\"'][10:], globals()['df_my_eps_{}'.format(f)]['Mu'][10:], 'r^-', ms=0.5, linewidth=0.2, label= f)\n",
    "    plt.xlabel('Major_R(arcsec)', fontsize = 3 ,labelpad = 1) \n",
    "    plt.ylabel('Magnitude', fontsize = 3, labelpad = 1)\n",
    "    plt.xticks()\n",
    "    plt.yticks()\n",
    "    plt.tick_params(axis = 'x', direction = 'out', length = 1.5, width = 0.5, labelsize = 3, pad = 1)\n",
    "    plt.tick_params(axis = 'y', direction = 'out', length = 1.5, width = 0.5, labelsize = 3, pad = 1)\n",
    "    plt.gca().invert_yaxis()\n",
    "    plt.legend(loc = 'best', fontsize = 3.5)\n",
    "\n",
    "    plt.subplot(5,3,j)\n",
    "    plt.plot(globals()['df_my_eps_{}'.format(f)]['R\"'][10:], globals()['df_my_eps_{}'.format(f)]['Ellipticity'][10:], 'r^-', ms=0.5, linewidth=0.2, label= f)\n",
    "    plt.xlabel('Major_R(arcsec)', fontsize = 3 ,labelpad = 1) \n",
    "    plt.ylabel('Ellipticity', fontsize = 3, labelpad = 1)\n",
    "    plt.xticks()\n",
    "    plt.yticks()\n",
    "    plt.tick_params(axis = 'x', direction = 'out', length = 1.5, width = 0.5, labelsize = 3, pad = 1)\n",
    "    plt.tick_params(axis = 'y', direction = 'out', length = 1.5, width = 0.5, labelsize = 3, pad = 1)\n",
    "    plt.legend(loc = 'best', fontsize = 3.5)\n",
    "\n",
    "    plt.subplot(5,3,k)\n",
    "    plt.plot(globals()['df_my_eps_{}'.format(f)]['R\"'][10:], globals()['df_my_eps_{}'.format(f)]['PA'][10:], 'r^-', ms=0.5, linewidth=0.2, label= f)\n",
    "    plt.xlabel('Major_R(arcsec)', fontsize = 3 ,labelpad = 1)\n",
    "    plt.ylabel('Position Angle (deg)', fontsize = 3, labelpad = 1)\n",
    "    plt.xticks()\n",
    "    plt.yticks()\n",
    "    plt.tick_params(axis = 'x', direction = 'out', length = 1.5, width = 0.5, labelsize = 3, pad = 1)\n",
    "    plt.tick_params(axis = 'y', direction = 'out', length = 1.5, width = 0.5, labelsize = 3, pad = 1)\n",
    "    plt.legend(loc = 'best', fontsize = 3.5)\n",
    "\n",
    "plt.show()"
   ]
  },
  {
   "cell_type": "code",
   "execution_count": null,
   "metadata": {
    "ExecuteTime": {
     "end_time": "2022-10-28T03:04:15.639336Z",
     "start_time": "2022-10-28T03:04:15.142247Z"
    },
    "code_folding": [
     0
    ]
   },
   "outputs": [],
   "source": [
    "# 이미지 저장\n",
    "\n",
    "save_file_name = str(ring_num)+'_5_result_graph(without error).jpg'\n",
    "plt.savefig(save_path + save_file_name)"
   ]
  },
  {
   "cell_type": "markdown",
   "metadata": {},
   "source": [
    "### **랜덤포레스트 회귀분석을 통한 등광도 특징 보조 분석**"
   ]
  },
  {
   "cell_type": "markdown",
   "metadata": {},
   "source": [
    "* 랜덤포레스트 회귀분석을 통한 등광도 특징 보조 분석은 실제 등광도선과 분석된 등광도선의 불일치가 심할때 합니다.\n",
    "* 이 분석은 등광도 맞춤 분석의 옵션 조정 후 이상값 회피를 통한 회귀분석으로, 더 정확한 등광도 관련 광도 윤곽, 타원율, 위치각을 도출해 냅니다.  "
   ]
  },
  {
   "cell_type": "code",
   "execution_count": null,
   "metadata": {
    "ExecuteTime": {
     "end_time": "2022-10-28T03:04:27.298249Z",
     "start_time": "2022-10-28T03:04:24.841751Z"
    },
    "code_folding": [
     0
    ],
    "run_control": {
     "marked": true
    }
   },
   "outputs": [],
   "source": [
    "# 머신러닝으로 분석할 필터 선택, 변수 설정\n",
    "\n",
    "sel = str(input(\"분석하려는 필터를 입력하세요.\")) # 필터 선택\n",
    "r = globals()['df_my_eps_{}'.format(sel)][['R\"']] # 거리 변수 설정\n",
    "mu = globals()['df_my_eps_{}'.format(sel)].Mu # 광도 변수 설정\n",
    "ep = globals()['df_my_eps_{}'.format(sel)].Ellipticity # 타원율 변수 설정\n",
    "pa = globals()['df_my_eps_{}'.format(sel)].PA # 위치각 변수 설정"
   ]
  },
  {
   "cell_type": "code",
   "execution_count": null,
   "metadata": {
    "ExecuteTime": {
     "end_time": "2022-10-28T03:04:53.997754Z",
     "start_time": "2022-10-28T03:04:29.369654Z"
    },
    "code_folding": [
     0
    ]
   },
   "outputs": [],
   "source": [
    "# 머신러닝 랜덤포레스트 회귀\n",
    "\n",
    "# 랜덤포레스트 초매개변수 설정\n",
    "rfr = RandomForestRegressor()\n",
    "\n",
    "param_grid = {'n_estimators': [1000], 'max_depth' : [4], 'min_samples_leaf' : [5], 'bootstrap': [True]}  # 초매개변수 설정\n",
    "grid_search = GridSearchCV(rfr, param_grid, scoring='neg_mean_squared_error', return_train_score=True) # 성능 측정 지표 설정\n",
    "\n",
    "# 랜덤포레스트 훈련 및 예측\n",
    "grid_search.fit(r, mu) # 밝기 강도 예측\n",
    "y0_pred = grid_search.predict(r)\n",
    "\n",
    "grid_search.fit(r, ep) # 타원율 예측\n",
    "y1_pred = grid_search.predict(r)\n",
    "\n",
    "grid_search.fit(r, pa) # 위치각 예측\n",
    "y2_pred = grid_search.predict(r)"
   ]
  },
  {
   "cell_type": "code",
   "execution_count": null,
   "metadata": {
    "ExecuteTime": {
     "end_time": "2022-10-28T03:04:56.576717Z",
     "start_time": "2022-10-28T03:04:56.421621Z"
    },
    "code_folding": [
     0
    ],
    "run_control": {
     "marked": true
    }
   },
   "outputs": [],
   "source": [
    "# 머신러닝 반영 회귀 그래프\n",
    "\n",
    "plt.ion()\n",
    "plt.figure(figsize=(4,4.5), dpi=300)\n",
    "for f in sel:\n",
    "    plt.subplot(3,1,1)\n",
    "    plt.plot(globals()['df_my_eps_{}'.format(f)]['R\"'][10:], globals()['df_my_eps_{}'.format(f)]['Mu'][10:], 'r^-', ms=7, mfc='none', linewidth=1, alpha = 0.5, label= f + '_Ori')\n",
    "    plt.plot(r[10:], y0_pred[10:], 'gx:', ms=7, mec='green', mew=1, mfc='none', linewidth=1.5, alpha = 1, label= f + '_RFR')\n",
    "    plt.ylabel('Magnitude', fontsize = 9.5, labelpad = 1)\n",
    "    plt.xticks()\n",
    "    plt.yticks()\n",
    "    plt.tick_params(axis = 'x', direction = 'out', length = 3.5, width = 2, labelsize = 9.5, pad = 1)\n",
    "    plt.tick_params(axis = 'y', direction = 'out', length = 3.5, width = 2, labelsize = 9.5, pad = 1)\n",
    "    plt.gca().invert_yaxis()\n",
    "    plt.legend(loc = 'best', fontsize = 9.5)\n",
    "\n",
    "    plt.subplot(3,1,2)\n",
    "    #plt.errorbar(globals()['df_my_eps_{}'.format(f)]['R\"'][10:], globals()['df_my_eps_{}'.format(f)]['Ellipticity'][10:], globals()['df_my_eps_{}'.format(f)]['Ellip_error'][10:], fmt='r^-', ms=7, mfc='none', linewidth=1, elinewidth=1, ecolor='black', capsize=2, capthick=2.5, alpha = 0.5, label= f + '_Ori')\n",
    "    plt.plot(globals()['df_my_eps_{}'.format(f)]['R\"'][10:], globals()['df_my_eps_{}'.format(f)]['Ellipticity'][10:], 'r^-', ms=7, mfc='none', linewidth=1, alpha = 0.5, label= f + '_Ori')\n",
    "    plt.plot(r[10:], y1_pred[10:], 'gx:', ms=7, mec='green', mew=1, mfc='none', linewidth=1.5, alpha = 1, label= f + '_RFR')\n",
    "\n",
    "    plt.ylabel('Ellipticity', fontsize = 9.5, labelpad = 1)\n",
    "    plt.xticks()\n",
    "    plt.yticks()\n",
    "    plt.tick_params(axis = 'x', direction = 'out', length = 3.5, width = 2, labelsize = 9.5, pad = 1)\n",
    "    plt.tick_params(axis = 'y', direction = 'out', length = 3.5, width = 2, labelsize = 9.5, pad = 1)\n",
    "    plt.legend(loc = 'upper right', fontsize = 9.5)\n",
    "\n",
    "    plt.subplot(3,1,3)\n",
    "    #plt.errorbar(globals()['df_my_eps_{}'.format(f)]['R\"'][10:], globals()['df_my_eps_{}'.format(f)]['PA'][10:], globals()['df_my_eps_{}'.format(f)]['PA_error'][10:], fmt='r^-', ms=7, mfc='none', linewidth=1, elinewidth=1, ecolor='black', capsize=2, capthick=2.5, alpha = 0.5, label= f + '_Ori')\n",
    "    plt.plot(globals()['df_my_eps_{}'.format(f)]['R\"'][10:], globals()['df_my_eps_{}'.format(f)]['PA'][10:], 'r^-', ms=7, mfc='none', linewidth=1, alpha = 0.5, label= f + '_Ori')\n",
    "    plt.plot(r[10:], y2_pred[10:], 'gx:', ms=7, mec='green', mew=1, mfc='none', linewidth=1.5, alpha = 1, label= f + '_RFR')\n",
    "    plt.xlabel('Major_R(arcsec)', fontsize = 9.5,labelpad = 1)\n",
    "    plt.ylabel('Position Angle (deg)', fontsize = 9.5, labelpad = 1)\n",
    "    plt.xticks()\n",
    "    plt.yticks()\n",
    "    plt.tick_params(axis = 'x', direction = 'out', length = 3.5, width = 2, labelsize = 9.5, pad = 1)\n",
    "    plt.tick_params(axis = 'y', direction = 'out', length = 3.5, width = 2, labelsize = 9.5, pad = 1)\n",
    "    plt.legend(loc = 'right', fontsize = 9.5)\n",
    "\n",
    "    plt.show()"
   ]
  },
  {
   "cell_type": "code",
   "execution_count": null,
   "metadata": {
    "ExecuteTime": {
     "end_time": "2022-10-28T03:06:56.027264Z",
     "start_time": "2022-10-28T03:06:55.853124Z"
    },
    "code_folding": []
   },
   "outputs": [],
   "source": [
    "# 이미지 저장\n",
    "\n",
    "save_file_name = str(ring_num)+'_6_regression_result_graph.jpg'\n",
    "plt.savefig(save_path + save_file_name)"
   ]
  }
 ],
 "metadata": {
  "colab": {
   "collapsed_sections": [],
   "name": "고리은하 fits u, g, i 활용 분류",
   "provenance": [],
   "toc_visible": true
  },
  "kernelspec": {
   "display_name": "Python 3",
   "language": "python",
   "name": "python3"
  },
  "language_info": {
   "codemirror_mode": {
    "name": "ipython",
    "version": 3
   },
   "file_extension": ".py",
   "mimetype": "text/x-python",
   "name": "python",
   "nbconvert_exporter": "python",
   "pygments_lexer": "ipython3",
   "version": "3.8.3"
  },
  "toc": {
   "base_numbering": 1,
   "nav_menu": {},
   "number_sections": true,
   "sideBar": true,
   "skip_h1_title": false,
   "title_cell": "Table of Contents",
   "title_sidebar": "Contents",
   "toc_cell": false,
   "toc_position": {
    "height": "calc(100% - 180px)",
    "left": "10px",
    "top": "150px",
    "width": "165px"
   },
   "toc_section_display": true,
   "toc_window_display": false
  },
  "varInspector": {
   "cols": {
    "lenName": 16,
    "lenType": 16,
    "lenVar": 40
   },
   "kernels_config": {
    "python": {
     "delete_cmd_postfix": "",
     "delete_cmd_prefix": "del ",
     "library": "var_list.py",
     "varRefreshCmd": "print(var_dic_list())"
    },
    "r": {
     "delete_cmd_postfix": ") ",
     "delete_cmd_prefix": "rm(",
     "library": "var_list.r",
     "varRefreshCmd": "cat(var_dic_list()) "
    }
   },
   "oldHeight": 740.818952,
   "position": {
    "height": "762.812px",
    "left": "1491.77px",
    "right": "20px",
    "top": "65.9688px",
    "width": "409.938px"
   },
   "types_to_exclude": [
    "module",
    "function",
    "builtin_function_or_method",
    "instance",
    "_Feature"
   ],
   "varInspector_section_display": "block",
   "window_display": false
  }
 },
 "nbformat": 4,
 "nbformat_minor": 1
}
